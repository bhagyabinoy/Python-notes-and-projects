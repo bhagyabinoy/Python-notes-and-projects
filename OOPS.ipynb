{
  "nbformat": 4,
  "nbformat_minor": 0,
  "metadata": {
    "colab": {
      "provenance": [],
      "authorship_tag": "ABX9TyP9J204MakR2EBH8ezREToq",
      "include_colab_link": true
    },
    "kernelspec": {
      "name": "python3",
      "display_name": "Python 3"
    },
    "language_info": {
      "name": "python"
    }
  },
  "cells": [
    {
      "cell_type": "markdown",
      "metadata": {
        "id": "view-in-github",
        "colab_type": "text"
      },
      "source": [
        "<a href=\"https://colab.research.google.com/github/bhagyabinoy/Python-notes-and-projects/blob/main/OOPS.ipynb\" target=\"_parent\"><img src=\"https://colab.research.google.com/assets/colab-badge.svg\" alt=\"Open In Colab\"/></a>"
      ]
    },
    {
      "cell_type": "markdown",
      "source": [
        "### Programming Paradigms\n",
        "\n",
        "Programming paradigms are fundamental styles of programming that dictate how software is structured and how the programming tasks are accomplished. Here are some key paradigms:\n",
        "\n",
        "1. **Procedural Programming**:\n",
        "   - Based on the concept of procedure calls.\n",
        "   - Code is organized into procedures or functions that operate on data.\n",
        "   - Example languages: C, Pascal.\n",
        "\n",
        "2. **Object-Oriented Programming (OOP)**:\n",
        "   - Centers around objects, which are instances of classes.\n",
        "   - Combines data and behavior in a single unit.\n",
        "   - Focuses on encapsulation, inheritance, and polymorphism.\n",
        "   - Example languages: Python, Java, C++.\n",
        "\n",
        "3. **Functional Programming**:\n",
        "   - Emphasizes the use of functions as first-class citizens.\n",
        "   - Avoids changing state and mutable data.\n",
        "   - Supports higher-order functions and recursion.\n",
        "   - Example languages: Haskell, Lisp, Scala.\n",
        "\n",
        "4. **Declarative Programming**:\n",
        "   - Focuses on what the program should accomplish rather than how to accomplish it.\n",
        "   - Example languages: SQL, HTML.\n",
        "\n",
        "5. **Event-Driven Programming**:\n",
        "   - Centers around the events and the responses to those events.\n",
        "   - Common in GUI applications and web development.\n",
        "   - Example languages: JavaScript, ActionScript."
      ],
      "metadata": {
        "id": "scOlFCDzQAYq"
      }
    },
    {
      "cell_type": "markdown",
      "source": [
        "Object-Oriented Programming (OOP):\n",
        "- is a programming paradigm that utilizes objects and classes.\n",
        "- Its goal is to represent real-world entities through concepts like inheritance, polymorphism, and encapsulation.\n",
        "- The core idea of OOP in Python is to encapsulate data and the functions that operate on that data into a single unit, ensuring that this data is not accessible by other parts of the code."
      ],
      "metadata": {
        "id": "vl9P-yR8TcfR"
      }
    },
    {
      "cell_type": "markdown",
      "source": [
        "### Advantages of OOP\n",
        "\n",
        "1. **Modularity**:\n",
        "   - Code is organized into discrete classes and objects, making it easier to manage, understand, and maintain.\n",
        "\n",
        "2. **Reusability**:\n",
        "   - Existing classes can be reused to create new classes through inheritance, reducing redundancy and promoting code reuse.\n",
        "\n",
        "3. **Encapsulation**:\n",
        "   - Data and methods are bundled together, which helps protect the object's internal state and prevents unintended interference. This leads to better data integrity and security.\n",
        "\n",
        "4. **Abstraction**:\n",
        "   - OOP allows developers to focus on high-level design and functionality without getting bogged down by complex implementation details. This simplifies code and enhances clarity.\n",
        "\n",
        "5. **Polymorphism**:\n",
        "   - The ability to use a single interface for different data types improves flexibility and allows for easier maintenance and expansion of code.\n",
        "\n",
        "6. **Ease of Maintenance**:\n",
        "   - Changes can be made in one part of the system without affecting other parts, thanks to the modular nature of OOP. This reduces the likelihood of bugs and makes it easier to update and improve code.\n",
        "\n",
        "7. **Real-World Modeling**:\n",
        "   - OOP allows developers to model real-world entities and relationships more intuitively, making the code more relatable and easier to understand.\n",
        "\n",
        "8. **Collaboration**:\n",
        "   - OOP facilitates teamwork by allowing different developers to work on different classes or modules independently, reducing conflicts and improving workflow.\n",
        "\n",
        "9. **Improved Productivity**:\n",
        "   - OOP principles streamline development processes, which can lead to increased productivity and faster delivery of software.\n",
        "\n",
        "10. **Better Testing and Debugging**:\n",
        "    - Objects can be tested independently, making it easier to identify and fix issues within specific classes without affecting the overall system.\n"
      ],
      "metadata": {
        "id": "WEfIpIaUVMxx"
      }
    },
    {
      "cell_type": "markdown",
      "source": [
        "### OOP Concepts in Python"
      ],
      "metadata": {
        "id": "ibGQihbjgvLb"
      }
    },
    {
      "cell_type": "markdown",
      "source": [
        "#### 1. Class in Python\n",
        "A class is a blueprint for creating objects. It defines attributes and methods that the objects will have."
      ],
      "metadata": {
        "id": "mUZhN7eEg4je"
      }
    },
    {
      "cell_type": "code",
      "source": [
        "class Food:\n",
        "    def __init__(self, name, calories):\n",
        "        self.name = name\n",
        "        self.calories = calories\n",
        "\n",
        "    def describe(self):\n",
        "        return f\"{self.name} has {self.calories} calories.\""
      ],
      "metadata": {
        "id": "eeJoSaadg-Ri"
      },
      "execution_count": 1,
      "outputs": []
    },
    {
      "cell_type": "markdown",
      "source": [
        "#### 2. Objects in Python\n",
        "An object is an instance of a class. It represents a specific item defined by the class.\n"
      ],
      "metadata": {
        "id": "hqN4D6R9gn1n"
      }
    },
    {
      "cell_type": "code",
      "source": [
        "apple = Food(\"Apple\", 95)\n",
        "banana = Food(\"Banana\", 105)\n",
        "\n",
        "print(apple.describe())\n",
        "print(banana.describe())"
      ],
      "metadata": {
        "id": "br56hWxyhxGe"
      },
      "execution_count": null,
      "outputs": []
    },
    {
      "cell_type": "markdown",
      "source": [
        "#### 3. Polymorphism in Python\n",
        "Polymorphism allows methods to use the same name but behave differently based on the object calling them.\n"
      ],
      "metadata": {
        "id": "TY6qxH18iAZe"
      }
    },
    {
      "cell_type": "code",
      "source": [
        "class Animal:\n",
        "    def speak(self):\n",
        "        return \"Animal speaks\"\n",
        "\n",
        "class Dog(Animal):\n",
        "    def speak(self):  # Overriding the speak method\n",
        "        return \"Bow!\"\n",
        "\n",
        "class Cat(Animal):\n",
        "    def speak(self):  # Overriding the speak method\n",
        "        return \"Meow!\"\n",
        "\n",
        "# Polymorphism in action\n",
        "def animal_sound(animal):\n",
        "    print(animal.speak())\n",
        "\n",
        "animal_sound(Dog())\n",
        "animal_sound(Cat())"
      ],
      "metadata": {
        "id": "LntpJJBfkcZh"
      },
      "execution_count": null,
      "outputs": []
    },
    {
      "cell_type": "code",
      "source": [
        "# Using len() with different data types\n",
        "my_list = [1, 2, 3]\n",
        "my_string = \"Hello\"\n",
        "\n",
        "print(len(my_list))   # Output: 3 (length of list)\n",
        "print(len(my_string)) # Output: 5 (length of string)"
      ],
      "metadata": {
        "id": "LlWM6mLVkCFV"
      },
      "execution_count": null,
      "outputs": []
    },
    {
      "cell_type": "code",
      "source": [
        "# Using + with numbers\n",
        "result1 = 5 + 3  # Addition\n",
        "print(result1)   # Output: 8\n",
        "\n",
        "# Using + with strings\n",
        "result2 = \"Hello, \" + \"world!\"  # Concatenation\n",
        "print(result2)   # Output: Hello, world!"
      ],
      "metadata": {
        "id": "Tor-w2vHkIh4"
      },
      "execution_count": null,
      "outputs": []
    },
    {
      "cell_type": "markdown",
      "source": [
        "#### 4. Encapsulation in Python\n",
        "Encapsulation restricts access to certain attributes or methods and bundles the data and methods into a single unit.\n"
      ],
      "metadata": {
        "id": "VGveY-H0kAC6"
      }
    },
    {
      "cell_type": "code",
      "source": [
        "class BankAccount:\n",
        "    def __init__(self, owner, balance=0):\n",
        "        self.owner = owner\n",
        "        self.__balance = balance  # Private variable\n",
        "\n",
        "    def deposit(self, amount):\n",
        "        if amount > 0:\n",
        "            self.__balance += amount\n",
        "            print(f\"Deposited: ${amount:.2f}\")\n",
        "        else:\n",
        "            print(\"Deposit amount must be positive.\")\n",
        "\n",
        "    def withdraw(self, amount):\n",
        "        if 0 < amount <= self.__balance:\n",
        "            self.__balance -= amount\n",
        "            print(f\"Withdrew: ${amount:.2f}\")\n",
        "        else:\n",
        "            print(\"Insufficient funds or invalid withdrawal amount.\")\n",
        "\n",
        "    def get_balance(self):\n",
        "        return self.__balance  # Accessing the private variable\n",
        "\n",
        "# Usage\n",
        "account = BankAccount(\"Python\")\n",
        "account.deposit(100)\n",
        "account.withdraw(50)\n",
        "print(f\"Current Balance: ${account.get_balance():.2f}\")\n",
        "\n",
        "# Trying to access the private variable directly (will raise an error)\n",
        "# print(account.__balance)  # Uncommenting this will raise an AttributeError\n"
      ],
      "metadata": {
        "colab": {
          "base_uri": "https://localhost:8080/"
        },
        "id": "ehuFb6sRlSyQ",
        "outputId": "baec6af7-f6ee-48b0-e336-899296b1235f"
      },
      "execution_count": 3,
      "outputs": [
        {
          "output_type": "stream",
          "name": "stdout",
          "text": [
            "Deposited: $100.00\n",
            "Withdrew: $50.00\n",
            "Current Balance: $50.00\n"
          ]
        }
      ]
    },
    {
      "cell_type": "markdown",
      "source": [
        "#### 5. Inheritance in Python\n",
        "Inheritance is a key feature of object-oriented programming that allows a class (child class or subclass) to inherit properties and behaviors (methods) from another class (parent class or superclass). This promotes code reusability and establishes a hierarchical relationship between classes.\n",
        "\n",
        "### Types of Inheritance\n",
        "\n",
        "- **Single Inheritance**: One parent, one child.\n",
        "- **Multiple Inheritance**: One child, multiple parents.\n",
        "- **Multilevel Inheritance**: Chain of inheritance.\n",
        "- **Hierarchical Inheritance**: One parent, multiple children.\n",
        "- **Hybrid Inheritance**: Combination of various types.\n",
        "\n",
        "Inheritance helps in organizing code efficiently and promoting reusability."
      ],
      "metadata": {
        "id": "PEyjfTnxssW7"
      }
    },
    {
      "cell_type": "markdown",
      "source": [
        "1. **Single Inheritance**:\n",
        "   A subclass inherits from a single superclass."
      ],
      "metadata": {
        "id": "i9TIqetJt-G6"
      }
    },
    {
      "cell_type": "code",
      "source": [
        "# Base Class: Food\n",
        "class Food:\n",
        "    def __init__(self, name, calories):\n",
        "        self.name = name\n",
        "        self.calories = calories\n",
        "\n",
        "    def get_info(self):\n",
        "        return f\"{self.name}: {self.calories} calories\"\n"
      ],
      "metadata": {
        "id": "xTAXcDD0uB8a"
      },
      "execution_count": 6,
      "outputs": []
    },
    {
      "cell_type": "code",
      "source": [
        "class Fruit(Food):\n",
        "    def __init__(self, name, calories, sugar_content):\n",
        "        super().__init__(name, calories)\n",
        "        self.sugar_content = sugar_content\n",
        "\n",
        "    def get_info(self):\n",
        "        return f\"{self.name}: {self.calories} calories, {self.sugar_content}g sugar\"\n"
      ],
      "metadata": {
        "id": "2H5whQ0QuxKR"
      },
      "execution_count": null,
      "outputs": []
    },
    {
      "cell_type": "markdown",
      "source": [
        "2. **Multiple Inheritance**:\n",
        "   A subclass inherits from multiple superclasses."
      ],
      "metadata": {
        "id": "D7lkSfdVu-ov"
      }
    },
    {
      "cell_type": "code",
      "source": [
        "class Vegetable(Food):\n",
        "    def __init__(self, name, calories, fiber_content):\n",
        "        super().__init__(name, calories)\n",
        "        self.fiber_content = fiber_content\n",
        "\n",
        "    def get_info(self):\n",
        "        return f\"{self.name}: {self.calories} calories, {self.fiber_content}g fiber\"\n",
        "\n",
        "class MixedFood(Fruit, Vegetable):\n",
        "    def __init__(self, name, calories, sugar_content, fiber_content):\n",
        "        Fruit.__init__(self, name, calories, sugar_content)\n",
        "        Vegetable.__init__(self, name, calories, fiber_content)\n"
      ],
      "metadata": {
        "id": "izEovPERvGzg"
      },
      "execution_count": null,
      "outputs": []
    },
    {
      "cell_type": "markdown",
      "source": [
        "3. **Multilevel Inheritance**:\n",
        "   A subclass inherits from a superclass, which in turn inherits from another superclass."
      ],
      "metadata": {
        "id": "1jtv9XeAvLlQ"
      }
    },
    {
      "cell_type": "code",
      "source": [
        "class Citrus(Fruit):\n",
        "    def __init__(self, name, calories, sugar_content, vitamin_c):\n",
        "        super().__init__(name, calories, sugar_content)\n",
        "        self.vitamin_c = vitamin_c\n",
        "\n",
        "    def get_info(self):\n",
        "        return f\"{self.name}: {self.calories} calories, {self.sugar_content}g sugar, {self.vitamin_c}mg vitamin C\"\n"
      ],
      "metadata": {
        "id": "ooo14Mv5vSeR"
      },
      "execution_count": null,
      "outputs": []
    },
    {
      "cell_type": "markdown",
      "source": [
        "4. **Hierarchical Inheritance**:\n",
        "   Multiple subclasses inherit from a single superclass."
      ],
      "metadata": {
        "id": "lgHOeLxMvdA2"
      }
    },
    {
      "cell_type": "code",
      "source": [
        "class Vegetable(Food):\n",
        "    def __init__(self, name, calories, fiber_content):\n",
        "        super().__init__(name, calories)\n",
        "        self.fiber_content = fiber_content\n",
        "\n",
        "    def get_info(self):\n",
        "        return f\"{self.name}: {self.calories} calories, {self.fiber_content}g fiber\"\n",
        "\n",
        "class MixedFood(Fruit, Vegetable):\n",
        "    def __init__(self, name, calories, sugar_content, fiber_content):\n",
        "        Fruit.__init__(self, name, calories, sugar_content)\n",
        "        Vegetable.__init__(self, name, calories, fiber_content)\n"
      ],
      "metadata": {
        "id": "3-Wa1oA5ueD1"
      },
      "execution_count": null,
      "outputs": []
    },
    {
      "cell_type": "markdown",
      "source": [
        "5. **Hybrid Inheritance**:\n",
        "   A combination of two or more types of inheritance."
      ],
      "metadata": {
        "id": "ZNuNCtAkvyVG"
      }
    },
    {
      "cell_type": "code",
      "source": [
        "class Salad(MixedFood, Vegetable):\n",
        "    def __init__(self, name, calories, sugar_content, fiber_content, dressing):\n",
        "        MixedFood.__init__(self, name, calories, sugar_content, fiber_content)\n",
        "        self.dressing = dressing\n",
        "\n",
        "    def get_info(self):\n",
        "        return (f\"{self.name}: {self.calories} calories, {self.sugar_content}g sugar, \"\n",
        "                f\"{self.fiber_content}g fiber, Dressing: {self.dressing}\")\n"
      ],
      "metadata": {
        "id": "8GrMNe8gv83a"
      },
      "execution_count": null,
      "outputs": []
    },
    {
      "cell_type": "markdown",
      "source": [
        "#### 6. Data Abstraction in Python\n",
        "Data abstraction hides the complex implementation details and shows only the essential features of the object."
      ],
      "metadata": {
        "id": "1wFVqNViwEBZ"
      }
    },
    {
      "cell_type": "code",
      "source": [
        "class Car:\n",
        "    def __init__(self, make, model):\n",
        "        self.make = make\n",
        "        self.model = model\n",
        "        self.__engine_status = False  # private attribute\n",
        "\n",
        "    def start_engine(self):\n",
        "        self.__engine_status = True\n",
        "        print(f\"The engine of the {self.make} {self.model} is now running.\")\n",
        "\n",
        "    def stop_engine(self):\n",
        "        self.__engine_status = False\n",
        "        print(f\"The engine of the {self.make} {self.model} has been turned off.\")\n",
        "\n",
        "# Usage\n",
        "my_car = Car(\"Toyota\", \"Camry\")\n",
        "my_car.start_engine()  # User interacts with the start_engine method\n",
        "my_car.stop_engine()\n"
      ],
      "metadata": {
        "colab": {
          "base_uri": "https://localhost:8080/"
        },
        "id": "efjLYFoDwJ2h",
        "outputId": "2fbf1225-6fe9-4fc0-df19-bd4992d462aa"
      },
      "execution_count": 8,
      "outputs": [
        {
          "output_type": "stream",
          "name": "stdout",
          "text": [
            "The engine of the Toyota Camry is now running.\n",
            "The engine of the Toyota Camry has been turned off.\n"
          ]
        }
      ]
    },
    {
      "cell_type": "markdown",
      "source": [
        "the user of the Car class doesn't need to know how the engine status is managed internally. They only interact with the public methods."
      ],
      "metadata": {
        "id": "rqYCXuUgymRM"
      }
    },
    {
      "cell_type": "code",
      "source": [
        "# Creating a list\n",
        "numbers = [1, 2, 3, 4, 5]\n",
        "\n",
        "# Adding an element\n",
        "numbers.append(6)\n",
        "\n",
        "# Accessing elements\n",
        "print(numbers[2])  # Outputs: 3\n",
        "\n",
        "# Iterating through the list\n",
        "for number in numbers:\n",
        "    print(number)\n"
      ],
      "metadata": {
        "colab": {
          "base_uri": "https://localhost:8080/"
        },
        "id": "rCj4IoQvycLy",
        "outputId": "854c0ffb-8e38-4b0d-ce93-1e3a191e5c37"
      },
      "execution_count": 7,
      "outputs": [
        {
          "output_type": "stream",
          "name": "stdout",
          "text": [
            "3\n",
            "1\n",
            "2\n",
            "3\n",
            "4\n",
            "5\n",
            "6\n"
          ]
        }
      ]
    }
  ]
}