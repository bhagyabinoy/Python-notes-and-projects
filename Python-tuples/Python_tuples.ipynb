{
  "nbformat": 4,
  "nbformat_minor": 0,
  "metadata": {
    "colab": {
      "provenance": []
    },
    "kernelspec": {
      "name": "python3",
      "display_name": "Python 3"
    },
    "language_info": {
      "name": "python"
    }
  },
  "cells": [
    {
      "cell_type": "markdown",
      "source": [
        "### Python Tuples:\n",
        "\n",
        "A tuple is a versatile and immutable data structure that allows you to store a collection of elements. Tuples are similar to lists, but the key difference lies in their immutability; once a tuple is created, its elements cannot be modified. This characteristic makes tuples suitable for situations where you want to ensure data integrity or create a constant collection of values.\n",
        "\n",
        "## Characteristics of Tuples\n",
        "- Tuples are ordered and allow duplicate values\n",
        "- One cannot add items to a tuple once it is created.\n",
        "- Tuples cannot be appended or extended.\n",
        "- We cannot remove items from a tuple once it is created.\n",
        "\n",
        "\n",
        "\n",
        "## Accessing Elements:\n",
        "\n",
        "### 2. Indexing and Slicing:\n",
        "```python\n",
        "# Accessing elements using indexing\n",
        "first_fruit = fruits_tuple[0]  # 'apple'\n",
        "\n",
        "# Slicing a tuple\n",
        "subset_tuple = mixed_tuple[1:3]  # ('hello', 3.14)\n",
        "```\n",
        "\n",
        "## Immutability:\n",
        "\n",
        "### 3. Immutable Nature:\n",
        "```python\n",
        "# Attempting to modify a tuple will result in an error\n",
        "fruits_tuple[0] = 'orange'  # TypeError: 'tuple' object does not support item assignment\n",
        "```\n",
        "\n",
        "## Tuple Operations:\n",
        "\n",
        "### 4. Concatenation and Repetition:\n",
        "```python\n",
        "# Concatenating tuples\n",
        "combined_tuple = fruits_tuple + mixed_tuple  # ('apple', 'banana', 'cherry', 1, 'hello', 3.14, True)\n",
        "\n",
        "# Repetition\n",
        "repeated_tuple = fruits_tuple * 2  # ('apple', 'banana', 'cherry', 'apple', 'banana', 'cherry')\n",
        "```\n",
        "\n",
        "## Tuple Methods:\n",
        "\n",
        "### 5. Built-in Tuple Methods:\n",
        "```python\n",
        "# Count occurrences of a value\n",
        "count_banana = combined_tuple.count('banana')  # 1\n",
        "\n",
        "# Find index of a value\n",
        "index_hello = combined_tuple.index('hello')  # 4\n",
        "```\n",
        "\n",
        "## Use Cases:\n",
        "\n",
        "### 6. Practical Examples:\n",
        "```python\n",
        "# Tuple unpacking\n",
        "x, y, z = mixed_tuple\n",
        "print(x)  # 1\n",
        "print(y)  # 'hello'\n",
        "print(z)  # 3.14\n",
        "\n",
        "# Returning multiple values from a function\n",
        "def get_coordinates():\n",
        "    return (10, 20, 30)\n",
        "\n",
        "x, y, z = get_coordinates()\n",
        "\n",
        "# Iterating over a tuple\n",
        "for item in fruits_tuple:\n",
        "    print(item)\n",
        "\n",
        "# Immutable dictionary keys\n",
        "immutable_dict_key = {('name', 'age'): 'John'}\n",
        "```\n"
      ],
      "metadata": {
        "id": "FDaCDmPc1Zhm"
      }
    },
    {
      "cell_type": "markdown",
      "source": [
        "### 1. Tuple Creation:\n",
        "\n",
        "There are various ways to create a tuple in Python¹:\n",
        "\n",
        "1. **Using round brackets**: To create a tuple, we use `()` operators¹.\n",
        "\n",
        "2. **With one item**: Python provides us with a way to create a Tuple with one item¹. In case you're generating a tuple with a single element, make sure to add a comma after the element¹.\n",
        "\n",
        "3. **Tuple Constructor**: To create a tuple with a Tuple constructor, we pass the elements as its parameters.\n"
      ],
      "metadata": {
        "id": "HhekE5eJ2fSt"
      }
    },
    {
      "cell_type": "code",
      "execution_count": null,
      "metadata": {
        "colab": {
          "base_uri": "https://localhost:8080/"
        },
        "id": "3Btsvftwzj4Y",
        "outputId": "54a92e86-2921-422c-8729-6b29d943607f"
      },
      "outputs": [
        {
          "output_type": "stream",
          "name": "stdout",
          "text": [
            "()\n",
            "<class 'tuple'>\n"
          ]
        }
      ],
      "source": [
        "\"\"\"  Empty Tuple Creation: \"\"\"\n",
        "\n",
        "empty_tuple = ()\n",
        "print(empty_tuple)\n",
        "print(type(empty_tuple))"
      ]
    },
    {
      "cell_type": "code",
      "source": [
        "\"\"\" Creating tuples sing round brackets \"\"\"\n",
        "\n",
        "fruits_tuple = ('apple', 'banana', 'cherry')\n",
        "print(fruits_tuple,\" fruits_tuple\")\n",
        "\n",
        "# Mixed data types\n",
        "mixed_tuple = (1, 'hello', 3.14, True)\n",
        "print(mixed_tuple,\" mixed_tuple\")\n",
        "\n",
        "# Tuple with a single element (comma is necessary)\n",
        "single_element_tuple = (42,)\n",
        "print(single_element_tuple,\" single_element_tuple\")\n",
        "print(type(single_element_tuple))\n",
        "\n",
        "num1 = (42)\n",
        "print(type(num1))  # Output: <class 'str'>"
      ],
      "metadata": {
        "colab": {
          "base_uri": "https://localhost:8080/"
        },
        "id": "3Q3Bi-sY3BVa",
        "outputId": "b287f48d-1504-4423-cf98-95783f6ce643"
      },
      "execution_count": null,
      "outputs": [
        {
          "output_type": "stream",
          "name": "stdout",
          "text": [
            "('apple', 'banana', 'cherry')  fruits_tuple\n",
            "(1, 'hello', 3.14, True)  mixed_tuple\n",
            "(42,)  single_element_tuple\n",
            "<class 'tuple'>\n",
            "<class 'int'>\n"
          ]
        }
      ]
    },
    {
      "cell_type": "markdown",
      "source": [
        "## 2. Accessing Elements:\n",
        "Tthe elements of a tuple can be accessed in two ways:\n",
        "- **Using a positive index**: Using square brackets, we can get the values from tuples in Python¹.\n",
        "```python\n",
        "var = (\"Geeks\", \"for\", \"Geeks\")\n",
        "print(\"Value in Var [0] = \", var[0])\n",
        "print(\"Value in Var [1] = \", var[1])\n",
        "print(\"Value in Var [2] = \", var[2])\n",
        "```\n",
        "- **Using a negative index**: Negative indexing means beginning from the end, -1 refers to the last item, -2 refers to the second last item, and so on¹.\n"
      ],
      "metadata": {
        "id": "2MLqAwdf5HTh"
      }
    },
    {
      "cell_type": "code",
      "source": [
        "\"\"\"  Accessing elements using positive indexing \"\"\"\n",
        "\n",
        "fruits_tuple = ('apple', 'banana', 'cherry')\n",
        "\n",
        "first_fruit = fruits_tuple[0]  # 'apple'\n",
        "print(first_fruit,\"-- first_fruit --\")\n",
        "\n",
        "print(\"Value in fruits_tuple [0] = \", fruits_tuple[0])\n",
        "print(\"Value in fruits_tuple [1] = \", fruits_tuple[1])\n",
        "print(\"Value in fruits_tuple [2] = \", fruits_tuple[2])"
      ],
      "metadata": {
        "colab": {
          "base_uri": "https://localhost:8080/"
        },
        "id": "bK-XnWhV1fqi",
        "outputId": "052fc39b-04c6-4ce1-aad6-380874011173"
      },
      "execution_count": null,
      "outputs": [
        {
          "output_type": "stream",
          "name": "stdout",
          "text": [
            "apple -- first_fruit --\n",
            "Value in fruits_tuple [0] =  apple\n",
            "Value in fruits_tuple [1] =  banana\n",
            "Value in fruits_tuple [2] =  cherry\n"
          ]
        }
      ]
    },
    {
      "cell_type": "code",
      "source": [
        "# Accessing elements using negative indexing\n",
        "fruits_tuple = ('apple', 'banana', 'cherry')\n",
        "\n",
        "# Using negative indexing\n",
        "last_fruit = fruits_tuple[-1]  # 'cherry'\n",
        "print(last_fruit, \"-- last_fruit --\")\n",
        "\n",
        "# Accessing elements using negative indexing\n",
        "print(\"Value in fruits_tuple [-1] = \", fruits_tuple[-1])\n",
        "print(\"Value in fruits_tuple [-2] = \", fruits_tuple[-2])\n",
        "print(\"Value in fruits_tuple [-3] = \", fruits_tuple[-3])\n"
      ],
      "metadata": {
        "colab": {
          "base_uri": "https://localhost:8080/"
        },
        "id": "tMqSEciy6JYz",
        "outputId": "24432c93-6b56-46d1-bbe0-c8977b3ad461"
      },
      "execution_count": null,
      "outputs": [
        {
          "output_type": "stream",
          "name": "stdout",
          "text": [
            "cherry -- last_fruit --\n",
            "Value in fruits_tuple [-1] =  cherry\n",
            "Value in fruits_tuple [-2] =  banana\n",
            "Value in fruits_tuple [-3] =  apple\n"
          ]
        }
      ]
    },
    {
      "cell_type": "markdown",
      "source": [
        "Slicing a tuple\n",
        "\n",
        "Slicing in Python starts at index 0. The stop index is not inclusive, which means the slice goes up to but does not include the stop index. If step is None, it defaults to 1. If step is -1, the slice is done backwards. If start or stop is negative, it means that indexing will start from the end of the sequence. If start, stop, or step are omitted, they default to None, which means the slice will include all items from the start or end of the sequence."
      ],
      "metadata": {
        "id": "zb3xhRFu67yj"
      }
    },
    {
      "cell_type": "code",
      "source": [
        "\"\"\" Slicing a tuple \"\"\"\n",
        "\n",
        "fruits_tuple = ('apple', 'banana', 'cherry')\n",
        "\n",
        "# Get the first element\n",
        "print(fruits_tuple[0])  # Output: 'apple'\n",
        "\n",
        "# Get the last element\n",
        "print(fruits_tuple[-1])  # Output: 'cherry'\n",
        "\n",
        "# Get the first two elements\n",
        "print(fruits_tuple[0:2])  # Output: ('apple', 'banana')\n",
        "\n",
        "# Get the elements from second position to end\n",
        "print(fruits_tuple[1:])  # Output: ('banana', 'cherry')\n",
        "\n",
        "# Reverse the tuple\n",
        "print(fruits_tuple[::-1])  # Output: ('cherry', 'banana', 'apple')"
      ],
      "metadata": {
        "colab": {
          "base_uri": "https://localhost:8080/"
        },
        "id": "WNh4abk86yDY",
        "outputId": "c2b9788e-a978-44ae-d073-6b008c75a030"
      },
      "execution_count": null,
      "outputs": [
        {
          "output_type": "stream",
          "name": "stdout",
          "text": [
            "apple\n",
            "cherry\n",
            "('apple', 'banana')\n",
            "('banana', 'cherry')\n",
            "('cherry', 'banana', 'apple')\n"
          ]
        }
      ]
    },
    {
      "cell_type": "markdown",
      "source": [
        "### 3. Immutable Nature:"
      ],
      "metadata": {
        "id": "xUYJ2wTW7JzD"
      }
    },
    {
      "cell_type": "code",
      "source": [
        "\"\"\" Attempting to modify a tuple will result in an error  \"\"\"\n",
        "\n",
        "fruits_tuple = ('apple', 'banana', 'cherry')\n",
        "fruits_tuple[0] = 'orange'  # TypeError: 'tuple' object does not support item assignment"
      ],
      "metadata": {
        "id": "RlQ5F3EB7MhM"
      },
      "execution_count": null,
      "outputs": []
    },
    {
      "cell_type": "markdown",
      "source": [
        "### 4. Concatenation and Repetition:"
      ],
      "metadata": {
        "id": "q1MN-N4u7YC5"
      }
    },
    {
      "cell_type": "code",
      "source": [
        "\"\"\" Concatenating tuples \"\"\"\n",
        "\n",
        "fruits_tuple = ('apple', 'banana', 'cherry')\n",
        "mixed_tuple = (1, 'hello', True)\n",
        "combined_tuple = fruits_tuple + mixed_tuple\n",
        "print(combined_tuple,\"--combined_tuple\")"
      ],
      "metadata": {
        "colab": {
          "base_uri": "https://localhost:8080/"
        },
        "id": "3hnqdyQc7bw9",
        "outputId": "b463aa0e-de66-4f07-f5c0-60fb45e8fa87"
      },
      "execution_count": null,
      "outputs": [
        {
          "output_type": "stream",
          "name": "stdout",
          "text": [
            "('apple', 'banana', 'cherry', 1, 'hello', True) --combined_tuple\n"
          ]
        }
      ]
    },
    {
      "cell_type": "code",
      "source": [
        "\"\"\" Repeating tuples \"\"\"\n",
        "\n",
        "repeated_tuple = fruits_tuple * 2\n",
        "print(repeated_tuple,\"--repeated_tuple\")"
      ],
      "metadata": {
        "colab": {
          "base_uri": "https://localhost:8080/"
        },
        "id": "C7iQcScq8DNc",
        "outputId": "d7db3707-964b-408a-d82e-40774db3cdfb"
      },
      "execution_count": null,
      "outputs": [
        {
          "output_type": "stream",
          "name": "stdout",
          "text": [
            "('apple', 'banana', 'cherry', 'apple', 'banana', 'cherry') --repeated_tuple\n"
          ]
        }
      ]
    },
    {
      "cell_type": "markdown",
      "source": [
        "### 5. Built-in Tuple Methods:"
      ],
      "metadata": {
        "id": "UqCLYrML8UP_"
      }
    },
    {
      "cell_type": "code",
      "source": [
        "\"\"\"  Count occurrences of a value \"\"\"\n",
        "\n",
        "count_banana = combined_tuple.count('banana')  # 1\n",
        "print(count_banana,\"--count_banana\")\n",
        "\n",
        "\"\"\" Find index of a value \"\"\"\n",
        "\n",
        "index_hello = combined_tuple.index('hello')  # 4\n",
        "print(index_hello,\"--index_hello\")"
      ],
      "metadata": {
        "colab": {
          "base_uri": "https://localhost:8080/"
        },
        "id": "mW5644Up5tjF",
        "outputId": "b60e9cfb-8a84-430a-823d-26fe1a3c07f5"
      },
      "execution_count": null,
      "outputs": [
        {
          "output_type": "stream",
          "name": "stdout",
          "text": [
            "1 --count_banana\n",
            "4 --index_hello\n"
          ]
        }
      ]
    },
    {
      "cell_type": "code",
      "source": [
        "\"\"\"  Tuple unpacking \"\"\"\n",
        "\n",
        "fruits_tuple = ('apple', 'banana', 'cherry')\n",
        "x, y, z = fruits_tuple\n",
        "print(x)\n",
        "print(y)\n",
        "print(z)"
      ],
      "metadata": {
        "colab": {
          "base_uri": "https://localhost:8080/"
        },
        "id": "-qK4fFFx80jG",
        "outputId": "49cb2762-8422-447a-99dd-e49bebdddc90"
      },
      "execution_count": null,
      "outputs": [
        {
          "output_type": "stream",
          "name": "stdout",
          "text": [
            "apple\n",
            "banana\n",
            "cherry\n"
          ]
        }
      ]
    },
    {
      "cell_type": "code",
      "source": [
        "\"\"\" Iterating over a tuple \"\"\"\n",
        "\n",
        "for item in fruits_tuple:\n",
        "    print(item)"
      ],
      "metadata": {
        "colab": {
          "base_uri": "https://localhost:8080/"
        },
        "id": "LazdYfKs8rS0",
        "outputId": "e8b0a0eb-4b4a-40c7-b4c5-d499972577ff"
      },
      "execution_count": null,
      "outputs": [
        {
          "output_type": "stream",
          "name": "stdout",
          "text": [
            "apple\n",
            "banana\n",
            "cherry\n"
          ]
        }
      ]
    }
  ]
}