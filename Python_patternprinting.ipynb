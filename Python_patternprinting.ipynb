{
  "nbformat": 4,
  "nbformat_minor": 0,
  "metadata": {
    "colab": {
      "provenance": []
    },
    "kernelspec": {
      "name": "python3",
      "display_name": "Python 3"
    },
    "language_info": {
      "name": "python"
    }
  },
  "cells": [
    {
      "cell_type": "markdown",
      "source": [
        "1. Square Pattern:"
      ],
      "metadata": {
        "id": "lBxu9pcfFyba"
      }
    },
    {
      "cell_type": "code",
      "source": [
        "def print_square_pattern(n):\n",
        "    for i in range(n):\n",
        "        for j in range(n):\n",
        "            print(\"* \", end=\"\")\n",
        "        print()\n",
        "\n",
        "print_square_pattern(5)"
      ],
      "metadata": {
        "id": "LyKXDVrSF1y6",
        "outputId": "1a8cc198-978c-411c-c5a5-13b3ec45e401",
        "colab": {
          "base_uri": "https://localhost:8080/"
        }
      },
      "execution_count": 1,
      "outputs": [
        {
          "output_type": "stream",
          "name": "stdout",
          "text": [
            "* * * * * \n",
            "* * * * * \n",
            "* * * * * \n",
            "* * * * * \n",
            "* * * * * \n"
          ]
        }
      ]
    },
    {
      "cell_type": "markdown",
      "source": [
        "2. Right Triangle Pattern:"
      ],
      "metadata": {
        "id": "JvR8-CHaGQ_9"
      }
    },
    {
      "cell_type": "code",
      "source": [
        "def print_right_triangle(n):\n",
        "    for i in range(1, n + 1):\n",
        "        for j in range(i):\n",
        "            print(\"* \", end=\"\")\n",
        "        print()\n",
        "\n",
        "print_right_triangle(5)"
      ],
      "metadata": {
        "id": "mCYWRIYGGUc9",
        "outputId": "018f0891-3441-4c16-b51d-b29ebb23bee1",
        "colab": {
          "base_uri": "https://localhost:8080/"
        }
      },
      "execution_count": 2,
      "outputs": [
        {
          "output_type": "stream",
          "name": "stdout",
          "text": [
            "* \n",
            "* * \n",
            "* * * \n",
            "* * * * \n",
            "* * * * * \n"
          ]
        }
      ]
    },
    {
      "cell_type": "markdown",
      "source": [
        "3. Inverted Right Triangle Pattern:"
      ],
      "metadata": {
        "id": "lsieVKDgGaLj"
      }
    },
    {
      "cell_type": "code",
      "source": [
        "def print_inverted_right_triangle(n):\n",
        "    for i in range(n, 0, -1):\n",
        "        for j in range(i):\n",
        "            print(\"* \", end=\"\")\n",
        "        print()\n",
        "\n",
        "print_inverted_right_triangle(5)"
      ],
      "metadata": {
        "id": "Zb7fA6nEGeU4",
        "outputId": "88e224d8-7e39-4f63-cf66-9dbc6b066f45",
        "colab": {
          "base_uri": "https://localhost:8080/"
        }
      },
      "execution_count": 3,
      "outputs": [
        {
          "output_type": "stream",
          "name": "stdout",
          "text": [
            "* * * * * \n",
            "* * * * \n",
            "* * * \n",
            "* * \n",
            "* \n"
          ]
        }
      ]
    },
    {
      "cell_type": "markdown",
      "source": [
        "4. Pyramid Pattern:"
      ],
      "metadata": {
        "id": "7C6X71WXGwMU"
      }
    },
    {
      "cell_type": "code",
      "source": [
        "def print_pyramid(n):\n",
        "    for i in range(1, n + 1):\n",
        "        print(\" \" * (n - i) + \"* \" * i)\n",
        "\n",
        "# Example usage\n",
        "print_pyramid(5)"
      ],
      "metadata": {
        "id": "xCSogam_GvVY",
        "outputId": "764550ba-e075-4d58-f506-4f2a13c44c39",
        "colab": {
          "base_uri": "https://localhost:8080/"
        }
      },
      "execution_count": 4,
      "outputs": [
        {
          "output_type": "stream",
          "name": "stdout",
          "text": [
            "    * \n",
            "   * * \n",
            "  * * * \n",
            " * * * * \n",
            "* * * * * \n"
          ]
        }
      ]
    },
    {
      "cell_type": "markdown",
      "source": [
        "5. Hollow Square Pattern:"
      ],
      "metadata": {
        "id": "TuzCjI82HLRO"
      }
    },
    {
      "cell_type": "code",
      "source": [
        "def print_hollow_square(n):\n",
        "    for i in range(n):\n",
        "        for j in range(n):\n",
        "            if i == 0 or i == n - 1 or j == 0 or j == n - 1:\n",
        "                print(\"* \", end=\"\")\n",
        "            else:\n",
        "                print(\"  \", end=\"\")\n",
        "        print()\n",
        "\n",
        "print_hollow_square(5)"
      ],
      "metadata": {
        "id": "Kd6JUR8fHkZ6",
        "outputId": "eed83c50-779e-4693-9a9f-a70ded0e6dd6",
        "colab": {
          "base_uri": "https://localhost:8080/"
        }
      },
      "execution_count": 5,
      "outputs": [
        {
          "output_type": "stream",
          "name": "stdout",
          "text": [
            "* * * * * \n",
            "*       * \n",
            "*       * \n",
            "*       * \n",
            "* * * * * \n"
          ]
        }
      ]
    },
    {
      "cell_type": "markdown",
      "source": [
        "6. Hollow Right Triangle Pattern:"
      ],
      "metadata": {
        "id": "1L9Sylq3Hrl9"
      }
    },
    {
      "cell_type": "code",
      "source": [
        "def print_hollow_right_triangle(n):\n",
        "    for i in range(n):\n",
        "        for j in range(i + 1):\n",
        "            if j == 0 or i == j or i == n - 1:\n",
        "                print(\"* \", end=\"\")\n",
        "            else:\n",
        "                print(\"  \", end=\"\")\n",
        "        print()\n",
        "\n",
        "print_hollow_right_triangle(5)"
      ],
      "metadata": {
        "id": "Dpg1LLSsHwwn",
        "outputId": "fe3a4d5f-6c9e-4750-b285-f5ad0375daf4",
        "colab": {
          "base_uri": "https://localhost:8080/"
        }
      },
      "execution_count": 6,
      "outputs": [
        {
          "output_type": "stream",
          "name": "stdout",
          "text": [
            "* \n",
            "* * \n",
            "*   * \n",
            "*     * \n",
            "* * * * * \n"
          ]
        }
      ]
    },
    {
      "cell_type": "markdown",
      "source": [
        "\n",
        "7. Left Triangle Pattern:"
      ],
      "metadata": {
        "id": "ai8R57pmH1YW"
      }
    },
    {
      "cell_type": "code",
      "source": [
        "def print_left_triangle(n):\n",
        "    for i in range(1, n + 1):\n",
        "        print(\" \" * (n - i) + \"* \" * i)\n",
        "\n",
        "print_left_triangle(5)"
      ],
      "metadata": {
        "id": "3Sd7jLAQH6Fd",
        "outputId": "e488dcf2-d5f8-43f1-8881-95cf198f940d",
        "colab": {
          "base_uri": "https://localhost:8080/"
        }
      },
      "execution_count": 7,
      "outputs": [
        {
          "output_type": "stream",
          "name": "stdout",
          "text": [
            "    * \n",
            "   * * \n",
            "  * * * \n",
            " * * * * \n",
            "* * * * * \n"
          ]
        }
      ]
    },
    {
      "cell_type": "markdown",
      "source": [
        "8. Inverted Left Triangle Pattern:"
      ],
      "metadata": {
        "id": "s8HUcYrCH81O"
      }
    },
    {
      "cell_type": "code",
      "source": [
        "def print_inverted_left_triangle(n):\n",
        "    for i in range(n, 0, -1):\n",
        "        print(\" \" * (n - i) + \"* \" * i)\n",
        "\n",
        "print_inverted_left_triangle(5)"
      ],
      "metadata": {
        "id": "giQvLhkiIAvT",
        "outputId": "8c2cc747-1b6f-4d87-95eb-c727f2d07e69",
        "colab": {
          "base_uri": "https://localhost:8080/"
        }
      },
      "execution_count": 8,
      "outputs": [
        {
          "output_type": "stream",
          "name": "stdout",
          "text": [
            "* * * * * \n",
            " * * * * \n",
            "  * * * \n",
            "   * * \n",
            "    * \n"
          ]
        }
      ]
    },
    {
      "cell_type": "markdown",
      "source": [
        "9. Hollow Pyramid Pattern:"
      ],
      "metadata": {
        "id": "mPmp4gPAIM_o"
      }
    },
    {
      "cell_type": "code",
      "source": [
        "def print_hollow_pyramid(n):\n",
        "    for i in range(n):\n",
        "        for j in range(2 * n - 1):\n",
        "            if i + j == n - 1 or j - i == n - 1 or i == n - 1:\n",
        "                print(\"*\", end=\"\")\n",
        "            else:\n",
        "                print(\" \", end=\"\")\n",
        "        print()\n",
        "\n",
        "print_hollow_pyramid(5)"
      ],
      "metadata": {
        "id": "vBV1tLolIGLM",
        "outputId": "069a41e3-45c4-497f-ddfd-e983528533ba",
        "colab": {
          "base_uri": "https://localhost:8080/"
        }
      },
      "execution_count": 9,
      "outputs": [
        {
          "output_type": "stream",
          "name": "stdout",
          "text": [
            "    *    \n",
            "   * *   \n",
            "  *   *  \n",
            " *     * \n",
            "*********\n"
          ]
        }
      ]
    },
    {
      "cell_type": "markdown",
      "source": [
        "10. Diamond Pattern:"
      ],
      "metadata": {
        "id": "Yq8_sGubISXQ"
      }
    },
    {
      "cell_type": "code",
      "source": [
        "def print_diamond(n):\n",
        "    for i in range(n):\n",
        "        print(\" \" * (n - i - 1) + \"* \" * (i + 1))\n",
        "    for i in range(n - 1):\n",
        "        print(\" \" * (i + 1) + \"* \" * (n - i - 1))\n",
        "\n",
        "print_diamond(5)"
      ],
      "metadata": {
        "id": "vca-EJD4IXE7"
      },
      "execution_count": null,
      "outputs": []
    },
    {
      "cell_type": "markdown",
      "source": [
        "11. Hollow Diamond Pattern:"
      ],
      "metadata": {
        "id": "OPBuVLmqIhl4"
      }
    },
    {
      "cell_type": "code",
      "source": [
        "def print_hollow_diamond(n):\n",
        "    for i in range(n):\n",
        "        for j in range(n - i - 1):\n",
        "            print(\" \", end=\"\")\n",
        "        for j in range(2 * i + 1):\n",
        "            if j == 0 or j == 2 * i:\n",
        "                print(\"*\", end=\"\")\n",
        "            else:\n",
        "                print(\" \", end=\"\")\n",
        "        print()\n",
        "    for i in range(n - 1):\n",
        "        for j in range(i + 1):\n",
        "            print(\" \", end=\"\")\n",
        "        for j in range(2 * (n - i - 1) - 1):\n",
        "            if j == 0 or j == 2 * (n - i - 1) - 2:\n",
        "                print(\"*\", end=\"\")\n",
        "            else:\n",
        "                print(\" \", end=\"\")\n",
        "        print()\n",
        "\n",
        "print_hollow_diamond(5)"
      ],
      "metadata": {
        "id": "eZ0jnDqLIwZ5",
        "outputId": "c0a654eb-e9c5-4960-8508-a65f254f223b",
        "colab": {
          "base_uri": "https://localhost:8080/"
        }
      },
      "execution_count": 10,
      "outputs": [
        {
          "output_type": "stream",
          "name": "stdout",
          "text": [
            "    *\n",
            "   * *\n",
            "  *   *\n",
            " *     *\n",
            "*       *\n",
            " *     *\n",
            "  *   *\n",
            "   * *\n",
            "    *\n"
          ]
        }
      ]
    },
    {
      "cell_type": "markdown",
      "source": [
        "12. Number Pyramid Pattern:"
      ],
      "metadata": {
        "id": "Is7iWNqoIymf"
      }
    },
    {
      "cell_type": "code",
      "source": [
        "def print_number_pyramid(n):\n",
        "    for i in range(1, n + 1):\n",
        "        for j in range(1, i + 1):\n",
        "            print(j, end=\" \")\n",
        "        print()\n",
        "\n",
        "print_number_pyramid(5)"
      ],
      "metadata": {
        "id": "1Miw2O0ZI1JC",
        "outputId": "0d526a0d-4aff-4280-a29a-234132f0242b",
        "colab": {
          "base_uri": "https://localhost:8080/"
        }
      },
      "execution_count": 11,
      "outputs": [
        {
          "output_type": "stream",
          "name": "stdout",
          "text": [
            "1 \n",
            "1 2 \n",
            "1 2 3 \n",
            "1 2 3 4 \n",
            "1 2 3 4 5 \n"
          ]
        }
      ]
    },
    {
      "cell_type": "markdown",
      "source": [
        "13. Pascal's Triangle Pattern:"
      ],
      "metadata": {
        "id": "UmuV97XXI6Lw"
      }
    },
    {
      "cell_type": "code",
      "source": [
        "def print_pascals_triangle(n):\n",
        "    for i in range(n):\n",
        "        coef = 1\n",
        "        for j in range(1, n - i + 1):\n",
        "            print(\" \", end=\"\")\n",
        "        for k in range(i + 1):\n",
        "            print(coef, end=\" \")\n",
        "            coef = coef * (i - k) // (k + 1)\n",
        "        print()\n",
        "\n",
        "print_pascals_triangle(5)"
      ],
      "metadata": {
        "id": "EzL6W4BSJCwz",
        "outputId": "46dc4b89-09d2-4923-9d7c-37ec39b622e8",
        "colab": {
          "base_uri": "https://localhost:8080/"
        }
      },
      "execution_count": 12,
      "outputs": [
        {
          "output_type": "stream",
          "name": "stdout",
          "text": [
            "     1 \n",
            "    1 1 \n",
            "   1 2 1 \n",
            "  1 3 3 1 \n",
            " 1 4 6 4 1 \n"
          ]
        }
      ]
    },
    {
      "cell_type": "markdown",
      "source": [
        "14. Zigzag Pattern:"
      ],
      "metadata": {
        "id": "T4CtWuZmJHru"
      }
    },
    {
      "cell_type": "code",
      "source": [
        "def print_zigzag_pattern(rows, cols):\n",
        "    for i in range(rows):\n",
        "        for j in range(cols):\n",
        "            if i % 2 == 0:\n",
        "                print(\"* \", end=\"\")\n",
        "            else:\n",
        "                print(\" *\", end=\"\")\n",
        "        print()\n",
        "\n",
        "print_zigzag_pattern(5, 5)"
      ],
      "metadata": {
        "id": "iRiBt0yrJLpi",
        "outputId": "5ac3fad9-5249-4ac6-a72a-256f295e2b0a",
        "colab": {
          "base_uri": "https://localhost:8080/"
        }
      },
      "execution_count": 13,
      "outputs": [
        {
          "output_type": "stream",
          "name": "stdout",
          "text": [
            "* * * * * \n",
            " * * * * *\n",
            "* * * * * \n",
            " * * * * *\n",
            "* * * * * \n"
          ]
        }
      ]
    },
    {
      "cell_type": "markdown",
      "source": [
        "15. Butterfly Pattern:"
      ],
      "metadata": {
        "id": "sa76XdRyJVVx"
      }
    },
    {
      "cell_type": "code",
      "source": [
        "def print_butterfly_pattern(n):\n",
        "    for i in range(n):\n",
        "        for j in range(n):\n",
        "            if j <= i or j >= n - i - 1:\n",
        "                print(\"* \", end=\"\")\n",
        "            else:\n",
        "                print(\"  \", end=\"\")\n",
        "        print()\n",
        "\n",
        "print_butterfly_pattern(5)"
      ],
      "metadata": {
        "id": "vZ6v1yVhJRYB",
        "outputId": "eb64e3f4-3955-4b57-d9ba-80d4e72033ae",
        "colab": {
          "base_uri": "https://localhost:8080/"
        }
      },
      "execution_count": 14,
      "outputs": [
        {
          "output_type": "stream",
          "name": "stdout",
          "text": [
            "*       * \n",
            "* *   * * \n",
            "* * * * * \n",
            "* * * * * \n",
            "* * * * * \n"
          ]
        }
      ]
    },
    {
      "cell_type": "markdown",
      "source": [
        "16. Hourglass Pattern:"
      ],
      "metadata": {
        "id": "nzmTeg6ZJaJU"
      }
    },
    {
      "cell_type": "code",
      "source": [
        "def print_hourglass_pattern(n):\n",
        "    for i in range(n):\n",
        "        for j in range(i):\n",
        "            print(\" \", end=\"\")\n",
        "        for j in range(2 * (n - i) - 1):\n",
        "            print(\"*\", end=\"\")\n",
        "        print()\n",
        "    for i in range(n - 2, -1, -1):\n",
        "        for j in range(i):\n",
        "            print(\" \", end=\"\")\n",
        "        for j in range(2 * (n - i) - 1):\n",
        "            print(\"*\", end=\"\")\n",
        "        print()\n",
        "\n",
        "print_hourglass_pattern(5)"
      ],
      "metadata": {
        "id": "D0eBLbDpJdoR",
        "outputId": "abc53d09-53ff-4f1a-8aff-5bb26f142e36",
        "colab": {
          "base_uri": "https://localhost:8080/"
        }
      },
      "execution_count": 15,
      "outputs": [
        {
          "output_type": "stream",
          "name": "stdout",
          "text": [
            "*********\n",
            " *******\n",
            "  *****\n",
            "   ***\n",
            "    *\n",
            "   ***\n",
            "  *****\n",
            " *******\n",
            "*********\n"
          ]
        }
      ]
    },
    {
      "cell_type": "markdown",
      "source": [
        "17. Binary Triangle Pattern:"
      ],
      "metadata": {
        "id": "X8fMqhrWJjte"
      }
    },
    {
      "cell_type": "code",
      "source": [
        "def print_binary_triangle(n):\n",
        "    for i in range(1, n + 1):\n",
        "        for j in range(1, i + 1):\n",
        "            print(bin(j).replace(\"0b\", \"\"), end=\" \")\n",
        "        print()\n",
        "\n",
        "print_binary_triangle(5)"
      ],
      "metadata": {
        "id": "5lJBQousJm3q",
        "outputId": "beb28a22-0978-4d56-b619-879b10dc69c8",
        "colab": {
          "base_uri": "https://localhost:8080/"
        }
      },
      "execution_count": 16,
      "outputs": [
        {
          "output_type": "stream",
          "name": "stdout",
          "text": [
            "1 \n",
            "1 10 \n",
            "1 10 11 \n",
            "1 10 11 100 \n",
            "1 10 11 100 101 \n"
          ]
        }
      ]
    },
    {
      "cell_type": "markdown",
      "source": [
        "18. Cross Pattern:"
      ],
      "metadata": {
        "id": "mUwfYPGQJt7g"
      }
    },
    {
      "cell_type": "code",
      "source": [
        "def print_cross_pattern(n):\n",
        "    for i in range(n):\n",
        "        for j in range(n):\n",
        "            if i == n // 2 or j == n // 2:\n",
        "                print(\"*\", end=\" \")\n",
        "            else:\n",
        "                print(\" \", end=\" \")\n",
        "        print()\n",
        "\n",
        "\n",
        "print_cross_pattern(5)"
      ],
      "metadata": {
        "id": "JLqcneviJqxo",
        "outputId": "7275df4e-825c-4444-f599-72d36761e5b9",
        "colab": {
          "base_uri": "https://localhost:8080/"
        }
      },
      "execution_count": 17,
      "outputs": [
        {
          "output_type": "stream",
          "name": "stdout",
          "text": [
            "    *     \n",
            "    *     \n",
            "* * * * * \n",
            "    *     \n",
            "    *     \n"
          ]
        }
      ]
    },
    {
      "cell_type": "markdown",
      "source": [
        "19. Diamond with Name Pattern:"
      ],
      "metadata": {
        "id": "C8rwXgJoJ5Qp"
      }
    },
    {
      "cell_type": "code",
      "source": [
        "def print_diamond_with_name(n):\n",
        "    for i in range(n - 1):\n",
        "        print(\" \"\n",
        "\n",
        " * (n - i - 1) + \"* \" * (i + 1))\n",
        "    print(\"MyName\")\n",
        "    for i in range(n - 1):\n",
        "        print(\" \" * (i + 1) + \"* \" * (n - i - 1))\n",
        "\n",
        "print_diamond_with_name(5)"
      ],
      "metadata": {
        "id": "xbvG-zuHJ9gj",
        "outputId": "bbc792ed-0cf0-40d7-86ff-6080fac54910",
        "colab": {
          "base_uri": "https://localhost:8080/"
        }
      },
      "execution_count": 18,
      "outputs": [
        {
          "output_type": "stream",
          "name": "stdout",
          "text": [
            "    * \n",
            "   * * \n",
            "  * * * \n",
            " * * * * \n",
            "MyName\n",
            " * * * * \n",
            "  * * * \n",
            "   * * \n",
            "    * \n"
          ]
        }
      ]
    },
    {
      "cell_type": "markdown",
      "source": [
        "20. Rhombus Pattern:"
      ],
      "metadata": {
        "id": "Vo1aC3s8KDFB"
      }
    },
    {
      "cell_type": "code",
      "source": [
        "def print_rhombus_pattern(n):\n",
        "    for i in range(n):\n",
        "        print(\" \" * (n - i - 1) + \"* \" * (i + 1))\n",
        "    for i in range(n - 2, -1, -1):\n",
        "        print(\" \" * (n - i - 1) + \"* \" * (i + 1))\n",
        "\n",
        "print_rhombus_pattern(5)"
      ],
      "metadata": {
        "id": "gonNYNpfKG7k",
        "outputId": "23f5267f-bef9-4267-b108-dbadb25450e4",
        "colab": {
          "base_uri": "https://localhost:8080/"
        }
      },
      "execution_count": 19,
      "outputs": [
        {
          "output_type": "stream",
          "name": "stdout",
          "text": [
            "    * \n",
            "   * * \n",
            "  * * * \n",
            " * * * * \n",
            "* * * * * \n",
            " * * * * \n",
            "  * * * \n",
            "   * * \n",
            "    * \n"
          ]
        }
      ]
    },
    {
      "cell_type": "markdown",
      "source": [
        "21. Hollow Rhombus Pattern:"
      ],
      "metadata": {
        "id": "wJBGge4TKLWM"
      }
    },
    {
      "cell_type": "code",
      "source": [
        "def print_hollow_rhombus_pattern(n):\n",
        "    for i in range(n):\n",
        "        for j in range(n - i - 1):\n",
        "            print(\" \", end=\"\")\n",
        "        for j in range(i + 1):\n",
        "            if j == 0 or j == i or i == n - 1:\n",
        "                print(\"*\", end=\"\")\n",
        "            else:\n",
        "                print(\" \", end=\"\")\n",
        "        print()\n",
        "    for i in range(n - 2, -1, -1):\n",
        "        for j in range(n - i - 1):\n",
        "            print(\" \", end=\"\")\n",
        "        for j in range(i + 1):\n",
        "            if j == 0 or j == i or i == n - 1:\n",
        "                print(\"*\", end=\"\")\n",
        "            else:\n",
        "                print(\" \", end=\"\")\n",
        "        print()\n",
        "\n",
        "print_hollow_rhombus_pattern(5)"
      ],
      "metadata": {
        "id": "CZpZAdOcKXSR",
        "outputId": "ff080a25-5914-4814-9468-1f21ccdc6f80",
        "colab": {
          "base_uri": "https://localhost:8080/"
        }
      },
      "execution_count": 21,
      "outputs": [
        {
          "output_type": "stream",
          "name": "stdout",
          "text": [
            "    *\n",
            "   **\n",
            "  * *\n",
            " *  *\n",
            "*****\n",
            " *  *\n",
            "  * *\n",
            "   **\n",
            "    *\n"
          ]
        }
      ]
    },
    {
      "cell_type": "markdown",
      "source": [
        "22. Triangle of Stars and Numbers Pattern:"
      ],
      "metadata": {
        "id": "GxCbvSRkOH0x"
      }
    },
    {
      "cell_type": "code",
      "source": [
        "def print_triangle_of_stars_and_numbers(n):\n",
        "    for i in range(1, n + 1):\n",
        "        for j in range(1, i + 1):\n",
        "            print(\"*\", end=\"\")\n",
        "        for j in range(1, i + 1):\n",
        "            print(j, end=\"\")\n",
        "        print()\n",
        "\n",
        "print_triangle_of_stars_and_numbers(5)"
      ],
      "metadata": {
        "id": "dNsfmNy1OJrw",
        "outputId": "278332c4-9d16-4d60-e588-e654eca0897a",
        "colab": {
          "base_uri": "https://localhost:8080/"
        }
      },
      "execution_count": 23,
      "outputs": [
        {
          "output_type": "stream",
          "name": "stdout",
          "text": [
            "*1\n",
            "**12\n",
            "***123\n",
            "****1234\n",
            "*****12345\n"
          ]
        }
      ]
    },
    {
      "cell_type": "markdown",
      "source": [
        "23. Spiral Number Pattern:"
      ],
      "metadata": {
        "id": "wBghm4wbPy6u"
      }
    },
    {
      "cell_type": "code",
      "source": [
        "def print_spiral_number_pattern(n):\n",
        "    num = 1\n",
        "    for i in range(n):\n",
        "        for j in range(i, n):\n",
        "            print(num, end=\" \")\n",
        "            num += 1\n",
        "        for j in range(i + 1, n):\n",
        "            print(num, end=\" \")\n",
        "            num += 1\n",
        "        print()\n",
        "\n",
        "print_spiral_number_pattern(4)"
      ],
      "metadata": {
        "id": "K2FfwgQuP91g",
        "outputId": "a90c6fd5-71e6-4069-8cfe-fcb17db4b69a",
        "colab": {
          "base_uri": "https://localhost:8080/"
        }
      },
      "execution_count": 24,
      "outputs": [
        {
          "output_type": "stream",
          "name": "stdout",
          "text": [
            "1 2 3 4 5 6 7 \n",
            "8 9 10 11 12 \n",
            "13 14 15 \n",
            "16 \n"
          ]
        }
      ]
    },
    {
      "cell_type": "markdown",
      "source": [
        "24. Square with Diagonals Pattern:"
      ],
      "metadata": {
        "id": "ZK-4HxTbQPsx"
      }
    },
    {
      "cell_type": "code",
      "source": [
        "def print_square_with_diagonals(n):\n",
        "    for i in range(n):\n",
        "        for j in range(n):\n",
        "            if i == j or i == 0 or i == n - 1 or j == 0 or j == n - 1 or i + j == n - 1:\n",
        "                print(\"*\", end=\" \")\n",
        "            else:\n",
        "                print(\" \", end=\" \")\n",
        "        print()\n",
        "\n",
        "print_square_with_diagonals(5)"
      ],
      "metadata": {
        "id": "tJPaqeOaQU5d",
        "outputId": "064c8280-f980-4a01-dfe5-fe7e14ef511c",
        "colab": {
          "base_uri": "https://localhost:8080/"
        }
      },
      "execution_count": 25,
      "outputs": [
        {
          "output_type": "stream",
          "name": "stdout",
          "text": [
            "* * * * * \n",
            "* *   * * \n",
            "*   *   * \n",
            "* *   * * \n",
            "* * * * * \n"
          ]
        }
      ]
    },
    {
      "cell_type": "markdown",
      "source": [
        "25. Arrow Pattern:"
      ],
      "metadata": {
        "id": "2u-c1eSWQbll"
      }
    },
    {
      "cell_type": "code",
      "source": [
        "def print_arrow_pattern(n):\n",
        "    for i in range(n):\n",
        "        for j in range(i + 1):\n",
        "            print(\"*\", end=\" \")\n",
        "        print()\n",
        "    for i in range(n - 1):\n",
        "        for j in range(n - i - 1):\n",
        "            print(\"*\", end=\" \")\n",
        "        print()\n",
        "\n",
        "print_arrow_pattern(5)"
      ],
      "metadata": {
        "id": "u1OF7BTDQf31",
        "outputId": "f52dec58-c1fd-4840-811d-ae73a7f687cb",
        "colab": {
          "base_uri": "https://localhost:8080/"
        }
      },
      "execution_count": 26,
      "outputs": [
        {
          "output_type": "stream",
          "name": "stdout",
          "text": [
            "* \n",
            "* * \n",
            "* * * \n",
            "* * * * \n",
            "* * * * * \n",
            "* * * * \n",
            "* * * \n",
            "* * \n",
            "* \n"
          ]
        }
      ]
    }
  ]
}