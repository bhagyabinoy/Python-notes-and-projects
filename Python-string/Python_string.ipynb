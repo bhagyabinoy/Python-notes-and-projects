{
  "nbformat": 4,
  "nbformat_minor": 0,
  "metadata": {
    "colab": {
      "provenance": []
    },
    "kernelspec": {
      "name": "python3",
      "display_name": "Python 3"
    },
    "language_info": {
      "name": "python"
    }
  },
  "cells": [
    {
      "cell_type": "markdown",
      "source": [
        "STRING\n",
        "\n",
        "A string is a sequence of characters that are immutable, meaning once a string is created, its content cannot be changed.\n",
        "\n",
        "Strings can be formed using various characters, including letters, numbers, and special symbols.\n",
        "\n",
        "The immutability of strings implies that any operation that appears to modify a string actually creates a new string.\n",
        "\n",
        "\n",
        "Strings can be of any length, from empty strings ('') to very long sequences of characters.\n"
      ],
      "metadata": {
        "id": "zrOZMjB5DMZm"
      }
    },
    {
      "cell_type": "code",
      "execution_count": null,
      "metadata": {
        "colab": {
          "base_uri": "https://localhost:8080/"
        },
        "id": "iN9YbuZv8LjC",
        "outputId": "dcf7c052-8e56-44d5-ad9a-f7a118496797"
      },
      "outputs": [
        {
          "output_type": "stream",
          "name": "stdout",
          "text": [
            "Hello ----------message\n"
          ]
        }
      ],
      "source": [
        "\"\"\" initialization of a string \"\"\"\n",
        "\n",
        "message=\"Hello, World\"\n",
        "print(message,\"----------message\")"
      ]
    },
    {
      "cell_type": "markdown",
      "source": [
        "String Literals:\n",
        "\n",
        "String literals are the representation of strings in source code. They can be created using single quotes (' '), double quotes (\" \"), or triple quotes (''' ''' or \"\"\" \"\"\"). The choice between single and double quotes is often a matter of style or necessity when one type of quote appears within the string itself.\n",
        "\n",
        "Triple-quoted strings are particularly useful when dealing with multiline strings or when including line breaks within the string.\n",
        "\n"
      ],
      "metadata": {
        "id": "w_mFITg7GmNi"
      }
    },
    {
      "cell_type": "code",
      "source": [
        "\"\"\"Examples of string literals: \"\"\"\n",
        "\n",
        "single_quoted = 'This is a single-quoted string.'\n",
        "double_quoted = \"This is a double-quoted string.\"\n",
        "triple_quoted = '''This is a triple-quoted string.'''"
      ],
      "metadata": {
        "id": "zWOpXgBVC7fO"
      },
      "execution_count": null,
      "outputs": []
    },
    {
      "cell_type": "markdown",
      "source": [
        "In Python, the length of a string is theoretically unlimited. However, the actual limit is constrained by the available memory in your system. Theoretically, Python can handle strings of any length as long as there is enough available memory to store the data. However, in practical scenarios, the maximum length of a string you can create is limited by the amount of available RAM (Random Access Memory) on your machine.\n",
        "\n",
        "In Python 3, the sys.maxsize constant represents the maximum positive integer value that can be stored in a variable. This indirectly affects the maximum length of a string you can create. Keep in mind that very large strings may lead to memory issues, impacting the performance of your program.\n",
        "\n",
        "Here's an example to illustrate:\n",
        "\n",
        "import sys\n",
        "\n",
        "\"\"\" Get the maximum size of an integer \"\"\"\n",
        "\n",
        "max_int = sys.maxsize\n",
        "\n",
        "\"\"\" Attempt to create a very long string\"\"\"\n",
        "\n",
        "very_long_string = 'A' * max_int\n",
        "\n",
        "While this theoretically creates a string of length max_int, it's important to note that attempting to work with such massive amounts of data might lead to memory errors due to the limitations of available system resources.\n",
        "\n",
        "In practical scenarios, for large datasets or very long sequences, alternative data structures or methods, such as streaming data or chunked processing, might be more appropriate to avoid memory issues.\n",
        "\n",
        "\n",
        "\n",
        "\n",
        "\n",
        "\n",
        "\n"
      ],
      "metadata": {
        "id": "-1_R2gKpDIvh"
      }
    },
    {
      "cell_type": "markdown",
      "source": [
        "**String Operations:**\n",
        "\n",
        "Strings in Python support various operations that enable developers to manipulate and extract information from them efficiently. Below are explanations of four fundamental string operations:\n",
        "\n",
        "**1. Concatenation:**\n",
        "\n",
        "Concatenation refers to the process of combining two or more strings to create a new string. In Python, you can concatenate strings using the `+` operator. This operation does not modify the original strings but creates a new one.\n",
        "\n",
        "**2. Repetition:**\n",
        "\n",
        "String repetition involves creating a new string by repeating an existing one multiple times. This is achieved using the `*` operator.\n",
        "\n",
        "**3. Indexing:**\n",
        "\n",
        "Indexing allows you to access individual characters in a string by their position. In Python, indexing starts at 0 for the first character, and negative indexing represents characters from the end of the string.\n",
        "\n",
        "**4. Slicing:**\n",
        "\n",
        "Slicing is the process of extracting a portion (substring) of a string. It involves specifying a range of indices using the `start:stop` syntax. The result includes all characters from the start index up to, but not including, the stop index.\n"
      ],
      "metadata": {
        "id": "2onE8pi-JvfV"
      }
    },
    {
      "cell_type": "code",
      "source": [
        "\"\"\" Concatenation \"\"\"\n",
        "\n",
        "string1 = \"Hello\"\n",
        "string2 = \"World\"\n",
        "result = string1 + \" \" + string2\n",
        "print(result)\n",
        "\n",
        "# In this example, the `+` operator concatenates `string1`, a space, and `string2` to form a new string stored in the `result` variable."
      ],
      "metadata": {
        "colab": {
          "base_uri": "https://localhost:8080/"
        },
        "id": "YqGxiELzDLWF",
        "outputId": "0492f477-46e4-41fa-9eb5-a511748aefa1"
      },
      "execution_count": null,
      "outputs": [
        {
          "output_type": "stream",
          "name": "stdout",
          "text": [
            "Hello World\n"
          ]
        }
      ]
    },
    {
      "cell_type": "code",
      "source": [
        "\"\"\" Repetition \"\"\"\n",
        "\n",
        "original_string = \"Python\"\n",
        "repeated_string = original_string * 3\n",
        "print(repeated_string)\n",
        "\n",
        "# Here, the `*` operator repeats the content of `original_string` three times to create a new string stored in `repeated_string`.#"
      ],
      "metadata": {
        "id": "bY-eowqPKYaq"
      },
      "execution_count": null,
      "outputs": []
    },
    {
      "cell_type": "code",
      "source": [
        "\"\"\" Indexing \"\"\"\n",
        "\n",
        "text = \"Python\"\n",
        "first_char = text[0]\n",
        "last_char = text[-1]\n",
        "print(first_char, last_char)\n",
        "\n",
        "# Here, `text[0]` retrieves the first character ('P'), and `text[-1]` retrieves the last character ('n')."
      ],
      "metadata": {
        "colab": {
          "base_uri": "https://localhost:8080/"
        },
        "id": "_Tu72ByAK2uQ",
        "outputId": "241c4043-c381-4d0a-f1da-4f1c6d793011"
      },
      "execution_count": null,
      "outputs": [
        {
          "output_type": "stream",
          "name": "stdout",
          "text": [
            "P n\n"
          ]
        }
      ]
    },
    {
      "cell_type": "code",
      "source": [
        "\"\"\" Slicing \"\"\"\n",
        "\n",
        "phrase = \"Welcome to Python\"\n",
        "substring = phrase[8:13]\n",
        "print(substring)\n",
        "\n",
        "# In this example, the substring is extracted from index 8 to index 12 (characters 't' to 'y')."
      ],
      "metadata": {
        "colab": {
          "base_uri": "https://localhost:8080/"
        },
        "id": "tqKsOlRvLN_L",
        "outputId": "f9b05400-54c9-45b9-f2cc-9af23f155e9c"
      },
      "execution_count": null,
      "outputs": [
        {
          "output_type": "stream",
          "name": "stdout",
          "text": [
            "to Py\n"
          ]
        }
      ]
    },
    {
      "cell_type": "markdown",
      "source": [
        "**String Methods:**\n",
        "\n",
        "String methods in Python are functions that can be applied to strings to perform specific operations or manipulations. Here's an overview of some commonly used string methods:\n",
        "\n",
        "**1. `len()` Method:**\n",
        "\n",
        "**2. `str()` Method:**\n",
        "\n",
        "**3. Case Modification Methods:**\n",
        "\n",
        "- **`lower()` and `upper()` Methods:**\n",
        "\n",
        "- **`capitalize()` and `title()` Methods:**`\n",
        "\n",
        "**4. Whitespace Removal Methods:**\n",
        "\n",
        "**5. Replacement Method:**\n",
        "\n",
        "**6. Search and Index Methods:**\n",
        "\n",
        "**7. Counting Method:**\n"
      ],
      "metadata": {
        "id": "Z8E1Ne_GL9Qb"
      }
    },
    {
      "cell_type": "markdown",
      "source": [
        "1. `len()` Method: returns the length (the number of characters) of a string."
      ],
      "metadata": {
        "id": "5AVzjl1HMR7c"
      }
    },
    {
      "cell_type": "code",
      "source": [
        "\"\"\" len() Method \"\"\"\n",
        "\n",
        "text = \"Hello, World!\"\n",
        "length = len(text)\n",
        "print(length)"
      ],
      "metadata": {
        "colab": {
          "base_uri": "https://localhost:8080/"
        },
        "id": "IMqf3nYILn8N",
        "outputId": "b51520bf-4d65-44eb-99ba-ddc653d85b17"
      },
      "execution_count": null,
      "outputs": [
        {
          "output_type": "stream",
          "name": "stdout",
          "text": [
            "13\n"
          ]
        }
      ]
    },
    {
      "cell_type": "markdown",
      "source": [
        "**2. `str()` Method:**\n",
        "\n",
        "The `str()` method is used to convert other data types to strings.\n",
        "\n",
        "Example:\n",
        "\n",
        "```python\n",
        "number = 42\n",
        "number_as_string = str(number)\n",
        "print(number_as_string)\n",
        "# Output: '42'\n",
        "```\n",
        "\n",
        "Here, `str()` is used to convert the integer `42` to a string."
      ],
      "metadata": {
        "id": "0p3eb1OeP7vY"
      }
    },
    {
      "cell_type": "code",
      "source": [
        "\"\"\" `str()` Method \"\"\"\n",
        "\n",
        "number = 42\n",
        "number_as_string = str(number)\n",
        "print(type(number_as_string))"
      ],
      "metadata": {
        "id": "N31NGjtVP9Y8"
      },
      "execution_count": null,
      "outputs": []
    },
    {
      "cell_type": "markdown",
      "source": [
        "\n",
        "**3. Case Modification Methods:**\n",
        "\n",
        "- **`lower()` and `upper()` Methods:**\n",
        "\n",
        "  - The `lower()` method converts all characters in a string to lowercase.\n",
        "  - The `upper()` method converts all characters in a string to uppercase.\n",
        "\n",
        "- **`capitalize()` and `title()` Methods:**\n",
        "\n",
        "  - The `capitalize()` method capitalizes the first character of a string.\n",
        "  - The `title()` method capitalizes the first character of each word in a string."
      ],
      "metadata": {
        "id": "SINzR--zbkaa"
      }
    },
    {
      "cell_type": "code",
      "source": [
        "\"\"\"  Case Modification \"\"\"\n",
        "\n",
        "text = \"Hello, World!\"\n",
        "lower_text = text.lower()\n",
        "upper_text = text.upper()\n",
        "print(lower_text, upper_text)\n",
        "\n",
        "text = \"welcome to python programming\"\n",
        "capitalized_text = text.capitalize()\n",
        "title_text = text.title()\n",
        "print(capitalized_text, title_text)"
      ],
      "metadata": {
        "colab": {
          "base_uri": "https://localhost:8080/"
        },
        "id": "mF8f-E4MboIv",
        "outputId": "041303fc-1d5c-4e8c-f173-a44468f09662"
      },
      "execution_count": null,
      "outputs": [
        {
          "output_type": "stream",
          "name": "stdout",
          "text": [
            "hello, world! HELLO, WORLD!\n",
            "Welcome to python programming Welcome To Python Programming\n"
          ]
        }
      ]
    },
    {
      "cell_type": "markdown",
      "source": [
        "**4. Whitespace Removal Methods:**\n",
        "\n",
        "- **`strip()`, `lstrip()`, and `rstrip()` Methods:**\n",
        "\n",
        "  - The `strip()` method removes leading and trailing whitespaces.\n",
        "  - The `lstrip()` method removes leading whitespaces.\n",
        "  - The `rstrip()` method removes trailing whitespaces.\n",
        "\n"
      ],
      "metadata": {
        "id": "dvb3yMGZcgq5"
      }
    },
    {
      "cell_type": "code",
      "source": [
        "\"\"\" Whitespace Removal Methods \"\"\"\n",
        "\n",
        "text = \"    Python is fun!    \"\n",
        "stripped_text = text.strip()\n",
        "left_stripped_text = text.lstrip()\n",
        "right_stripped_text = text.rstrip()\n",
        "print(stripped_text, left_stripped_text, right_stripped_text)"
      ],
      "metadata": {
        "colab": {
          "base_uri": "https://localhost:8080/"
        },
        "id": "Sj0hvDAucjUg",
        "outputId": "4253387e-022b-4997-b11e-cd110240a838"
      },
      "execution_count": null,
      "outputs": [
        {
          "output_type": "stream",
          "name": "stdout",
          "text": [
            "Python is fun! Python is fun!         Python is fun!\n"
          ]
        }
      ]
    },
    {
      "cell_type": "markdown",
      "source": [
        "**5. Replacement Method:**\n",
        "\n",
        "- **`replace()` Method:** replaces a specified substring with another substring."
      ],
      "metadata": {
        "id": "csdTWGAycut5"
      }
    },
    {
      "cell_type": "code",
      "source": [
        "\"\"\" replace() method\"\"\"\n",
        "\n",
        "text = \"I like programming in Java.\"\n",
        "updated_text = text.replace(\"Java\", \"Python\")\n",
        "print(updated_text)"
      ],
      "metadata": {
        "colab": {
          "base_uri": "https://localhost:8080/"
        },
        "id": "Uu8UwpeCd4Fd",
        "outputId": "0656f813-0ecf-4f4a-bef0-447115d22ea2"
      },
      "execution_count": null,
      "outputs": [
        {
          "output_type": "stream",
          "name": "stdout",
          "text": [
            "I like programming in Python.\n"
          ]
        }
      ]
    },
    {
      "cell_type": "markdown",
      "source": [
        "- **`find()` and `index()` Methods:**\n",
        "\n",
        "  - The `find()` method returns the index of the first occurrence of a substring. If the substring is not found, it returns -1.\n",
        "  - The `index()` method is similar to `find()`, but it raises a `ValueError` if the substring is not found."
      ],
      "metadata": {
        "id": "jflz25ePfzGP"
      }
    },
    {
      "cell_type": "code",
      "source": [
        "\"\"\"`find()` and `index()` Methods:\"\"\"\n",
        "\n",
        "text = \"Python programming is fun.\"\n",
        "index1 = text.find(\"Python\")\n",
        "index2 = text.index(\"programming\")\n",
        "print(index1, index2)"
      ],
      "metadata": {
        "colab": {
          "base_uri": "https://localhost:8080/"
        },
        "id": "S0S6hVojfzwi",
        "outputId": "046d35ec-a84f-487d-fe74-7e72c5296145"
      },
      "execution_count": null,
      "outputs": [
        {
          "output_type": "stream",
          "name": "stdout",
          "text": [
            "0 7\n"
          ]
        }
      ]
    },
    {
      "cell_type": "markdown",
      "source": [
        "**7. Counting Method:**\n",
        "\n",
        "- **`count()` Method:** returns the number of occurrences of a specified substring in a string.\n"
      ],
      "metadata": {
        "id": "OqJoAK5Jhv9D"
      }
    },
    {
      "cell_type": "code",
      "source": [
        "\"\"\" `count()` \"\"\"\n",
        "\n",
        "text = \"Python is easy, Python is fun!\"\n",
        "count_python = text.count(\"Python\")\n",
        "print(count_python)"
      ],
      "metadata": {
        "colab": {
          "base_uri": "https://localhost:8080/"
        },
        "id": "gv3-7KLlh6jI",
        "outputId": "1efdb280-c791-4f62-9860-2f568f62b4b6"
      },
      "execution_count": null,
      "outputs": [
        {
          "output_type": "stream",
          "name": "stdout",
          "text": [
            "2\n"
          ]
        }
      ]
    },
    {
      "cell_type": "markdown",
      "source": [
        "**String Formatting:**\n",
        "\n",
        "String formatting in Python is the process of creating well-structured strings by incorporating variables or values into them. There are several methods for string formatting, each with its own syntax and use cases.\n",
        "\n",
        "**1. Using the `%` Operator:**\n",
        "\n",
        "The `%` operator is an older method of string formatting, often referred to as \"string interpolation.\" It allows you to insert values into a string by using placeholders.\n",
        "\n",
        "Example:\n",
        "\n",
        "```python\n",
        "name = \"John\"\n",
        "age = 25\n",
        "formatted_string = \"My name is %s, and I am %d years old.\" % (name, age)\n",
        "print(formatted_string)\n",
        "# Output: My name is John, and I am 25 years old.\n",
        "```\n",
        "\n",
        "In this example, `%s` is a placeholder for a string (`name`), and `%d` is a placeholder for an integer (`age`). The values to be inserted are provided in a tuple after the `%` operator.\n",
        "\n",
        "**2. Using the `format()` Method:**\n",
        "\n",
        "The `format()` method is a more flexible and readable way of formatting strings. It uses curly braces `{}` as placeholders and provides various options for formatting.\n",
        "\n",
        "Example:\n",
        "\n",
        "```python\n",
        "name = \"Alice\"\n",
        "age = 30\n",
        "formatted_string = \"Her name is {}, and she is {} years old.\".format(name, age)\n",
        "print(formatted_string)\n",
        "# Output: Her name is Alice, and she is 30 years old.\n",
        "```\n",
        "\n",
        "In this example, `{}` serves as a placeholder for values. The `format()` method replaces the placeholders with the specified values in the order they appear.\n",
        "\n",
        "**3. f-strings (Formatted String Literals):**\n",
        "\n",
        "f-strings are a concise and expressive way to format strings, introduced in Python 3.6. They allow you to embed expressions inside string literals, using curly braces `{}`.\n",
        "\n",
        "Example:\n",
        "\n",
        "```python\n",
        "name = \"Bob\"\n",
        "age = 22\n",
        "formatted_string = f\"My name is {name}, and I am {age} years old.\"\n",
        "print(formatted_string)\n",
        "# Output: My name is Bob, and I am 22 years old.\n",
        "```\n",
        "\n",
        "In f-strings, expressions inside curly braces are evaluated at runtime, and their results are inserted into the string. This makes f-strings both readable and efficient.\n",
        "\n",
        "**Choosing the Right Method:**\n",
        "\n",
        "- The `%` operator is an older method and is used less frequently in modern Python code.\n",
        "- The `format()` method is versatile and suitable for a wide range of formatting tasks.\n",
        "- f-strings are the most concise and often preferred for their simplicity and readability.\n",
        "\n",
        "While all three methods are valid, f-strings are generally favored for their clarity and the ease with which complex expressions can be integrated into strings."
      ],
      "metadata": {
        "id": "iGP7OJRii2_b"
      }
    }
  ]
}