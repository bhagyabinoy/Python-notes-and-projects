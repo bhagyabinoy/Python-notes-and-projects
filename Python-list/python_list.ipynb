{
  "nbformat": 4,
  "nbformat_minor": 0,
  "metadata": {
    "colab": {
      "provenance": []
    },
    "kernelspec": {
      "name": "python3",
      "display_name": "Python 3"
    },
    "language_info": {
      "name": "python"
    }
  },
  "cells": [
    {
      "cell_type": "markdown",
      "source": [
        "LIST\n",
        "\n",
        "\n",
        "   Lists are ordered collections of items. Each item can be of any data type. You can create a list using square brackets `[]` and separate elements with commas.\n"
      ],
      "metadata": {
        "id": "oNtlXrAI260C"
      }
    },
    {
      "cell_type": "code",
      "source": [
        "fruits = [\"apple\", \"banana\", \"cherry\"]\n",
        "print(fruits)"
      ],
      "metadata": {
        "colab": {
          "base_uri": "https://localhost:8080/"
        },
        "id": "12_xwo583Lki",
        "outputId": "e6f6a894-982b-4670-e7c2-57218ba6978d"
      },
      "execution_count": 1,
      "outputs": [
        {
          "output_type": "stream",
          "name": "stdout",
          "text": [
            "['apple', 'banana', 'cherry']\n"
          ]
        }
      ]
    },
    {
      "cell_type": "markdown",
      "source": [
        "**List Operations:**\n",
        "   You can add and remove elements from a list, combine lists, sort them, and find their length."
      ],
      "metadata": {
        "id": "j_VaTF7z3R2s"
      }
    },
    {
      "cell_type": "code",
      "source": [
        "\"\"\" creating a list \"\"\"\n",
        "numbers = [1, 2, 3]\n",
        "print(numbers)\n",
        "print(type(numbers))"
      ],
      "metadata": {
        "colab": {
          "base_uri": "https://localhost:8080/"
        },
        "id": "bvU0CVwh3c-t",
        "outputId": "68b595bc-1131-4857-8e81-811f32937153"
      },
      "execution_count": 4,
      "outputs": [
        {
          "output_type": "stream",
          "name": "stdout",
          "text": [
            "[1, 2, 3]\n",
            "<class 'list'>\n"
          ]
        }
      ]
    },
    {
      "cell_type": "code",
      "source": [
        "\"\"\"Accessing List Elements \"\"\"\n",
        "\n",
        "my_list = [1, 2, 3, 4, 5]\n",
        "print(my_list[0])  # Output: 1\n",
        "print(my_list[2])  # Output: 3"
      ],
      "metadata": {
        "colab": {
          "base_uri": "https://localhost:8080/"
        },
        "id": "xa4RPoLg9VBB",
        "outputId": "c032fe76-4515-48b6-8c95-d4d6eeca26d9"
      },
      "execution_count": 1,
      "outputs": [
        {
          "output_type": "stream",
          "name": "stdout",
          "text": [
            "1\n",
            "3\n"
          ]
        }
      ]
    },
    {
      "cell_type": "code",
      "source": [
        "\"\"\" Add an element to the end \"\"\"\n",
        "\n",
        "numbers.append(4)\n",
        "print(numbers)"
      ],
      "metadata": {
        "colab": {
          "base_uri": "https://localhost:8080/"
        },
        "id": "eFQHotF23vsT",
        "outputId": "6f90589d-3ef7-42f2-fbfd-0b0fa82964c2"
      },
      "execution_count": 5,
      "outputs": [
        {
          "output_type": "stream",
          "name": "stdout",
          "text": [
            "[1, 2, 3, 4]\n"
          ]
        }
      ]
    },
    {
      "cell_type": "code",
      "source": [
        "\"\"\" Remove an element \"\"\"\n",
        "\n",
        "numbers.remove(2)\n",
        "print(numbers)"
      ],
      "metadata": {
        "colab": {
          "base_uri": "https://localhost:8080/"
        },
        "id": "XTKlpl3x3yiw",
        "outputId": "29753d10-e622-4a7f-c953-97af3813fb31"
      },
      "execution_count": 6,
      "outputs": [
        {
          "output_type": "stream",
          "name": "stdout",
          "text": [
            "[1, 3, 4]\n"
          ]
        }
      ]
    },
    {
      "cell_type": "code",
      "source": [
        "\"\"\" combining two lists \"\"\"\n",
        "\n",
        "combined = numbers + [5, 6]\n",
        "print(combined)"
      ],
      "metadata": {
        "colab": {
          "base_uri": "https://localhost:8080/"
        },
        "id": "5YDWjoK63_eT",
        "outputId": "1787cd4d-c253-40e1-9e96-c3c5aab2c614"
      },
      "execution_count": 7,
      "outputs": [
        {
          "output_type": "stream",
          "name": "stdout",
          "text": [
            "[1, 3, 4, 5, 6]\n"
          ]
        }
      ]
    },
    {
      "cell_type": "code",
      "source": [
        "\"\"\" sorting list\"\"\"\n",
        "\n",
        "sorted_numbers = sorted(numbers)\n",
        "print(sorted_numbers)"
      ],
      "metadata": {
        "colab": {
          "base_uri": "https://localhost:8080/"
        },
        "id": "9-hGUvZj4JAD",
        "outputId": "c7fb39de-c4a5-4f98-cf68-406e064f4af6"
      },
      "execution_count": 8,
      "outputs": [
        {
          "output_type": "stream",
          "name": "stdout",
          "text": [
            "[1, 3, 4]\n"
          ]
        }
      ]
    },
    {
      "cell_type": "code",
      "source": [
        "\"\"\" length of list \"\"\"\n",
        "\n",
        "length = len(numbers)\n",
        "print(length)"
      ],
      "metadata": {
        "colab": {
          "base_uri": "https://localhost:8080/"
        },
        "id": "VM913GNc4JeA",
        "outputId": "f101bc52-7adc-4bc2-be06-4168f58609d7"
      },
      "execution_count": 9,
      "outputs": [
        {
          "output_type": "stream",
          "name": "stdout",
          "text": [
            "3\n"
          ]
        }
      ]
    },
    {
      "cell_type": "markdown",
      "source": [
        "**List Comprehensions:**\n",
        "   List comprehensions provide a concise way to create lists based on existing lists."
      ],
      "metadata": {
        "id": "ZoICzjOt4mee"
      }
    },
    {
      "cell_type": "code",
      "source": [
        "squares = [x**2 for x in range(1, 6)]\n",
        "print(squares)"
      ],
      "metadata": {
        "colab": {
          "base_uri": "https://localhost:8080/"
        },
        "id": "73QidX9g4q9r",
        "outputId": "133389c7-bedd-4af8-dfb0-c2b3cb939f5e"
      },
      "execution_count": 11,
      "outputs": [
        {
          "output_type": "stream",
          "name": "stdout",
          "text": [
            "[1, 4, 9, 16, 25]\n"
          ]
        }
      ]
    },
    {
      "cell_type": "code",
      "source": [
        "even_squares = [x**2 for x in range(1, 6) if x % 2 == 0]  # [4, 16]\n",
        "print(even_squares)"
      ],
      "metadata": {
        "colab": {
          "base_uri": "https://localhost:8080/"
        },
        "id": "EOhN7VHV4vo0",
        "outputId": "d9a463f8-7c43-45a7-afa4-53784777a720"
      },
      "execution_count": 12,
      "outputs": [
        {
          "output_type": "stream",
          "name": "stdout",
          "text": [
            "[4, 16]\n"
          ]
        }
      ]
    },
    {
      "cell_type": "markdown",
      "source": [
        "**Iterating Through Lists:**\n",
        "   You can use loops to iterate through list elements.\n"
      ],
      "metadata": {
        "id": "yPQZKseI441w"
      }
    },
    {
      "cell_type": "code",
      "source": [
        "fruits = [\"apple\", \"banana\", \"cherry\"]\n",
        "print(fruits)\n",
        "for fruit in fruits:\n",
        "    print(fruit)"
      ],
      "metadata": {
        "colab": {
          "base_uri": "https://localhost:8080/"
        },
        "id": "YvclO-uW488w",
        "outputId": "d5208229-63f9-4677-844c-ee128a879b01"
      },
      "execution_count": 13,
      "outputs": [
        {
          "output_type": "stream",
          "name": "stdout",
          "text": [
            "['apple', 'banana', 'cherry']\n",
            "apple\n",
            "banana\n",
            "cherry\n"
          ]
        }
      ]
    },
    {
      "cell_type": "markdown",
      "source": [
        "**Common List Methods**"
      ],
      "metadata": {
        "id": "8vXsFgid5ocB"
      }
    },
    {
      "cell_type": "code",
      "source": [
        "\"\"\"removing \"\"\"\n",
        "\n",
        "fruits = [\"apple\", \"banana\", \"cherry\"]\n",
        "fruits.remove(\"banana\")\n",
        "print(fruits)"
      ],
      "metadata": {
        "colab": {
          "base_uri": "https://localhost:8080/"
        },
        "id": "_bSmbBP95GHM",
        "outputId": "1c26317b-0999-4506-e09d-b620edefa956"
      },
      "execution_count": 14,
      "outputs": [
        {
          "output_type": "stream",
          "name": "stdout",
          "text": [
            "['apple', 'cherry']\n"
          ]
        }
      ]
    },
    {
      "cell_type": "code",
      "source": [
        "\"\"\" Appending \"\"\"\n",
        "\n",
        "fruits = [\"apple\", \"banana\", \"cherry\"]\n",
        "fruits.append(\"orange\")\n",
        "print(fruits)"
      ],
      "metadata": {
        "colab": {
          "base_uri": "https://localhost:8080/"
        },
        "id": "68Xefstr5cNx",
        "outputId": "623626e6-b5e2-4d31-f3ce-57c23187e25d"
      },
      "execution_count": 15,
      "outputs": [
        {
          "output_type": "stream",
          "name": "stdout",
          "text": [
            "['apple', 'banana', 'cherry', 'orange']\n"
          ]
        }
      ]
    },
    {
      "cell_type": "code",
      "source": [
        "\"\"\" inserting \"\"\"\n",
        "\n",
        "fruits = [\"apple\", \"banana\", \"cherry\"]\n",
        "fruits.insert(1, \"grape\")\n",
        "print(fruits)"
      ],
      "metadata": {
        "colab": {
          "base_uri": "https://localhost:8080/"
        },
        "id": "v0yFmRQA5caX",
        "outputId": "c52e2c8e-d1c4-4d86-f0c5-057316c5e7bd"
      },
      "execution_count": 16,
      "outputs": [
        {
          "output_type": "stream",
          "name": "stdout",
          "text": [
            "['apple', 'grape', 'banana', 'cherry']\n"
          ]
        }
      ]
    },
    {
      "cell_type": "code",
      "source": [
        "\"\"\" index \"\"\"\n",
        "\n",
        "fruits = [\"apple\", \"banana\", \"cherry\"]\n",
        "index = fruits.index(\"cherry\")\n",
        "print(index)"
      ],
      "metadata": {
        "colab": {
          "base_uri": "https://localhost:8080/"
        },
        "id": "0IXe3sBJ5chc",
        "outputId": "d0d5b3c9-6a6a-482f-b567-cd556922999b"
      },
      "execution_count": 17,
      "outputs": [
        {
          "output_type": "stream",
          "name": "stdout",
          "text": [
            "2\n"
          ]
        }
      ]
    },
    {
      "cell_type": "markdown",
      "source": [
        " **List Slicing:**\n",
        "   Slicing lets you access a portion of a list."
      ],
      "metadata": {
        "id": "_RdLdZLX6xvL"
      }
    },
    {
      "cell_type": "code",
      "source": [
        "fruits = [\"apple\", \"banana\", \"cherry\"]\n",
        "sub_list = fruits[1:3]   # [\"banana\", \"cherry\"]\n",
        "print(sub_list)\n",
        "sub_list = fruits[:2]    # [\"apple\", \"banana\"]\n",
        "print(sub_list)\n",
        "sub_list = fruits[2:]    # [\"cherry\", \"orange\"]\n",
        "print(sub_list)"
      ],
      "metadata": {
        "colab": {
          "base_uri": "https://localhost:8080/"
        },
        "id": "6LO6FfXY5c6f",
        "outputId": "8a33c151-a1a4-40b0-836c-fbbe9aa279ca"
      },
      "execution_count": 18,
      "outputs": [
        {
          "output_type": "stream",
          "name": "stdout",
          "text": [
            "['banana', 'cherry']\n",
            "['apple', 'banana']\n",
            "['cherry']\n"
          ]
        }
      ]
    },
    {
      "cell_type": "markdown",
      "source": [
        "**List Manipulation Techniques:**\n",
        "   Basic operations like swapping elements, reversing, and finding max/min/sum."
      ],
      "metadata": {
        "id": "zE81tZF_7Sdm"
      }
    },
    {
      "cell_type": "code",
      "source": [
        "a, b = 10, 20\n",
        "print(a, b)\n",
        "a, b = b, a  # Swap values\n",
        "print(a, b)"
      ],
      "metadata": {
        "colab": {
          "base_uri": "https://localhost:8080/"
        },
        "id": "l1TZeYib7WEt",
        "outputId": "2f7cb957-8752-4597-e37d-da71e5be5783"
      },
      "execution_count": 19,
      "outputs": [
        {
          "output_type": "stream",
          "name": "stdout",
          "text": [
            "10 20\n",
            "20 10\n"
          ]
        }
      ]
    },
    {
      "cell_type": "code",
      "source": [
        "\"\"\" Reverses the list in-place \"\"\"\n",
        "\n",
        "numbers = [1, 2, 3]\n",
        "numbers.reverse()\n",
        "print(numbers)"
      ],
      "metadata": {
        "colab": {
          "base_uri": "https://localhost:8080/"
        },
        "id": "JnJxvoxH7y1y",
        "outputId": "9b3f0e70-2fe8-4c69-c4e5-bfe8332e6d2b"
      },
      "execution_count": 20,
      "outputs": [
        {
          "output_type": "stream",
          "name": "stdout",
          "text": [
            "[3, 2, 1]\n"
          ]
        }
      ]
    },
    {
      "cell_type": "code",
      "source": [
        "numbers = [1, 2, 3]\n",
        "maximum = max(numbers)\n",
        "print(\"--maximum:  \",maximum)\n",
        "minimum = min(numbers)\n",
        "print(\"--minimum:  \",minimum)\n",
        "total = sum(numbers)\n",
        "print(\"--total:  \",total)"
      ],
      "metadata": {
        "colab": {
          "base_uri": "https://localhost:8080/"
        },
        "id": "FQ0N4rA38Gpx",
        "outputId": "6546ac7f-b77a-42d7-95df-9b3c7a8918cb"
      },
      "execution_count": 21,
      "outputs": [
        {
          "output_type": "stream",
          "name": "stdout",
          "text": [
            "--maximum:   3\n",
            "--minimum:   1\n",
            "--total:   6\n"
          ]
        }
      ]
    },
    {
      "cell_type": "markdown",
      "source": [
        "**Nested Lists:**\n",
        "Lists can contain other lists."
      ],
      "metadata": {
        "id": "ENi-nrH98eL3"
      }
    },
    {
      "cell_type": "code",
      "source": [
        "\"\"\" Accessing a specific element (6)\"\"\"\n",
        "\n",
        "matrix = [[1, 2, 3], [4, 5, 6], [7, 8, 9]]\n",
        "element = matrix[1][2]  # Accessing a specific element (6)"
      ],
      "metadata": {
        "id": "DrWLrLsw8ckP"
      },
      "execution_count": 22,
      "outputs": []
    },
    {
      "cell_type": "code",
      "source": [
        "\"\"\" Matrix Creation and Transposition: \"\"\"\n",
        "\n",
        "matrix = [[1, 2, 3],\n",
        "          [4, 5, 6],\n",
        "          [7, 8, 9]]\n",
        "\n",
        "for row in matrix:\n",
        "    print(row)\n",
        "\n",
        "transposed = [[matrix[j][i] for j in range(len(matrix))] for i in range(len(matrix[0]))]\n",
        "for row in transposed:\n",
        "    print(row)"
      ],
      "metadata": {
        "colab": {
          "base_uri": "https://localhost:8080/"
        },
        "id": "c7wY7Fx2-imG",
        "outputId": "c98a0e86-d57a-4433-d319-b43f43120cff"
      },
      "execution_count": 24,
      "outputs": [
        {
          "output_type": "stream",
          "name": "stdout",
          "text": [
            "[1, 2, 3]\n",
            "[4, 5, 6]\n",
            "[7, 8, 9]\n",
            "[1, 4, 7]\n",
            "[2, 5, 8]\n",
            "[3, 6, 9]\n"
          ]
        }
      ]
    },
    {
      "cell_type": "code",
      "source": [
        "\"\"\"Matrix Addition: \"\"\"\n",
        "\n",
        "matrix1 = [[1, 2, 3],\n",
        "           [4, 5, 6],\n",
        "           [7, 8, 9]]\n",
        "\n",
        "matrix2 = [[9, 8, 7],\n",
        "           [6, 5, 4],\n",
        "           [3, 2, 1]]\n",
        "\n",
        "result = [[matrix1[i][j] + matrix2[i][j] for j in range(len(matrix1[0]))] for i in range(len(matrix1))]\n",
        "\n",
        "for row in result:\n",
        "    print(row)"
      ],
      "metadata": {
        "colab": {
          "base_uri": "https://localhost:8080/"
        },
        "id": "yq5ou2Yl-rrM",
        "outputId": "89e92b2e-a059-4f40-9285-233f756e744a"
      },
      "execution_count": 23,
      "outputs": [
        {
          "output_type": "stream",
          "name": "stdout",
          "text": [
            "[10, 10, 10]\n",
            "[10, 10, 10]\n",
            "[10, 10, 10]\n"
          ]
        }
      ]
    },
    {
      "cell_type": "markdown",
      "source": [
        "**Negative indexing**\n",
        "\n",
        "negative indexing allows you to access elements from the end of a sequence (such as a list or string). The index -1 refers to the last element, -2 refers to the second-to-last element, and so on"
      ],
      "metadata": {
        "id": "WAfWxMgP_Vu2"
      }
    },
    {
      "cell_type": "code",
      "source": [
        "my_list = [1, 2, 3, 4, 5]\n",
        "\n",
        "last_element = my_list[-1]\n",
        "print(\"Last element:\", last_element)\n",
        "\n",
        "second_to_last_element = my_list[-2]\n",
        "print(\"Second-to-last element:\", second_to_last_element)\n"
      ],
      "metadata": {
        "colab": {
          "base_uri": "https://localhost:8080/"
        },
        "id": "MMSrkd70_WPt",
        "outputId": "aeb144e2-650d-42b0-b47d-d8a77e7739ac"
      },
      "execution_count": 26,
      "outputs": [
        {
          "output_type": "stream",
          "name": "stdout",
          "text": [
            "Last element: 5\n",
            "Second-to-last element: 4\n"
          ]
        }
      ]
    },
    {
      "cell_type": "markdown",
      "source": [
        "**List vs. Set vs. Tuple:**\n",
        "Lists are mutable (can be changed), sets are unordered and unique, tuples are immutable"
      ],
      "metadata": {
        "id": "0lDmZd328tNv"
      }
    },
    {
      "cell_type": "code",
      "source": [
        "my_list = [1, 2, 3]\n",
        "my_set = {1, 2, 3}\n",
        "my_tuple = (1, 2, 3)"
      ],
      "metadata": {
        "id": "nQ1ROnaj8yaX"
      },
      "execution_count": null,
      "outputs": []
    }
  ]
}