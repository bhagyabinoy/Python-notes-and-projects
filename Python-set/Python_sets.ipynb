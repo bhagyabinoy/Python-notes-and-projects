{
  "nbformat": 4,
  "nbformat_minor": 0,
  "metadata": {
    "colab": {
      "provenance": []
    },
    "kernelspec": {
      "name": "python3",
      "display_name": "Python 3"
    },
    "language_info": {
      "name": "python"
    }
  },
  "cells": [
    {
      "cell_type": "markdown",
      "source": [
        "### Python Sets:\n",
        "\n",
        "A set in Python is an unordered collection of unique elements. It is defined by enclosing a comma-separated sequence of elements inside curly braces `{}`. Sets are mutable, which means you can add or remove elements, but the elements themselves must be immutable.\n",
        "\n",
        "## Characteristics\n",
        "- **Unordered**: The items in a set do not have a defined order.\n",
        "- **Unindexed**: We cannot access items using indexes as we do in lists.\n",
        "- **Immutable**: Once a set is created, we cannot change its items but we can add or remove items.\n",
        "- **No Duplicates**: Every item in a set is a unique value.\n",
        "- **Heterogeneous**: Python sets can store a mixture of string, integer, boolean, etc. data types.\n"
      ],
      "metadata": {
        "id": "9FoL9EqotASr"
      }
    },
    {
      "cell_type": "markdown",
      "source": [
        "#### 1. **Creating a Set:**\n",
        "\n",
        "Sets can be created by using the built-in `set()` function with an iterable object or a sequence. They can also be created by placing the sequence inside curly braces, separated by a comma."
      ],
      "metadata": {
        "id": "Zsa_4GjNtKt9"
      }
    },
    {
      "cell_type": "code",
      "source": [
        "\"\"\" Creating an empty set \"\"\"\n",
        "\n",
        "empty_set = set()\n",
        "print(empty_set)\n",
        "print(type(empty_set))"
      ],
      "metadata": {
        "colab": {
          "base_uri": "https://localhost:8080/"
        },
        "id": "Jtxpp1UptG57",
        "outputId": "dcf01f3e-6e00-456b-ab07-335e0b4a3183"
      },
      "execution_count": null,
      "outputs": [
        {
          "output_type": "stream",
          "name": "stdout",
          "text": [
            "set()\n",
            "<class 'set'>\n"
          ]
        }
      ]
    },
    {
      "cell_type": "code",
      "execution_count": null,
      "metadata": {
        "colab": {
          "base_uri": "https://localhost:8080/"
        },
        "id": "fAW8HF_Qs3LY",
        "outputId": "cf5b8751-588f-4de2-b0f6-7ef53a63da89"
      },
      "outputs": [
        {
          "output_type": "stream",
          "name": "stdout",
          "text": [
            "{'orange', 'banana', 'apple'}\n",
            "<class 'set'>\n"
          ]
        }
      ],
      "source": [
        "\"\"\" Creating a set with elements \"\"\"\n",
        "\n",
        "fruits = {'apple', 'banana', 'orange'}\n",
        "print(fruits)\n",
        "print(type(fruits))"
      ]
    },
    {
      "cell_type": "markdown",
      "source": [
        "## Operations\n",
        "- **Addition**: Elements can be added to the Set by using the built-in `add()` function¹.\n",
        "- **Deletion**: Items can be removed from the set using methods like `remove()` and `discard()`.\n",
        "- **Union, Intersection, Difference**: These operations can be performed between two sets using methods like `union()`, `intersection()`, and `difference()`.\n"
      ],
      "metadata": {
        "id": "34WGHiPzuNK7"
      }
    },
    {
      "cell_type": "code",
      "source": [
        "\"\"\" Adding Elements to a set \"\"\"\n",
        "\n",
        "fruits = {'apple', 'banana', 'orange'}\n",
        "\n",
        "fruits.add('grape')\n",
        "print(fruits)\n",
        "\n",
        "fruits.update({'water melon', 'mango'})\n",
        "print(fruits)"
      ],
      "metadata": {
        "colab": {
          "base_uri": "https://localhost:8080/"
        },
        "id": "3Xf0nlxCuToy",
        "outputId": "853b96a6-bd0d-4af8-c8cf-daa82760fac9"
      },
      "execution_count": null,
      "outputs": [
        {
          "output_type": "stream",
          "name": "stdout",
          "text": [
            "{'orange', 'banana', 'apple', 'grape'}\n",
            "{'grape', 'water melon', 'mango', 'orange', 'banana', 'apple'}\n"
          ]
        }
      ]
    },
    {
      "cell_type": "code",
      "source": [
        "\"\"\" Removing Elements from a set \"\"\"\n",
        "\n",
        "fruits = {'apple', 'banana', 'orange'}\n",
        "\n",
        "fruits.remove('banana')\n",
        "print(fruits)\n",
        "\n",
        "fruits.discard('apple')\n",
        "print(fruits)"
      ],
      "metadata": {
        "colab": {
          "base_uri": "https://localhost:8080/"
        },
        "id": "tcqOJ2MAudrX",
        "outputId": "40b22446-a842-4e2a-a031-9a700133f10a"
      },
      "execution_count": null,
      "outputs": [
        {
          "output_type": "stream",
          "name": "stdout",
          "text": [
            "{'orange', 'apple'}\n",
            "{'orange'}\n"
          ]
        }
      ]
    },
    {
      "cell_type": "code",
      "source": [
        "\"\"\" Union, Intersection, Difference \"\"\"\n",
        "\n",
        "set1 = {1, 2, 3, 4}\n",
        "set2 = {3, 4, 5, 6}\n",
        "\n",
        "# Union of two sets\n",
        "union_set = set1.union(set2)\n",
        "\n",
        "# Intersection of two sets\n",
        "intersection_set = set1.intersection(set2)\n",
        "\n",
        "# Difference of two sets\n",
        "difference_set = set1.difference(set2)\n",
        "\n",
        "# Symmetric difference of two sets\n",
        "symmetric_difference_set = set1.symmetric_difference(set2)\n",
        "\n",
        "print(\"-- union_set --\",union_set)\n",
        "print(\"-- intersection_set --\",intersection_set)\n",
        "print(\"-- difference_set --\",difference_set)\n",
        "print(\"-- symmetric_difference_set --\",symmetric_difference_set)"
      ],
      "metadata": {
        "colab": {
          "base_uri": "https://localhost:8080/"
        },
        "id": "hwJZmp8GvbAX",
        "outputId": "ba7ee958-37ce-4ab7-ef3f-fa22fa0e4134"
      },
      "execution_count": null,
      "outputs": [
        {
          "output_type": "stream",
          "name": "stdout",
          "text": [
            "-- union_set -- {1, 2, 3, 4, 5, 6}\n",
            "-- intersection_set -- {3, 4}\n",
            "-- difference_set -- {1, 2}\n",
            "-- symmetric_difference_set -- {1, 2, 5, 6}\n"
          ]
        }
      ]
    },
    {
      "cell_type": "markdown",
      "source": [
        "#### 4. **Set Methods:**"
      ],
      "metadata": {
        "id": "Bm6Gnfq4v2-8"
      }
    },
    {
      "cell_type": "code",
      "source": [
        "\"\"\"  Clearing all elements from a set \"\"\"\n",
        "\n",
        "numbers = {1, 2, 3, 4, 5}\n",
        "numbers.clear()\n",
        "print(numbers)"
      ],
      "metadata": {
        "colab": {
          "base_uri": "https://localhost:8080/"
        },
        "id": "4WKdtDfRvyhA",
        "outputId": "53852adb-57c2-4847-a8db-af776a1f94f7"
      },
      "execution_count": null,
      "outputs": [
        {
          "output_type": "stream",
          "name": "stdout",
          "text": [
            "set()\n"
          ]
        }
      ]
    },
    {
      "cell_type": "code",
      "source": [
        "\"\"\" Copying a set \"\"\"\n",
        "\n",
        "numbers = {1, 2, 3, 4, 5}\n",
        "copy_of_numbers = numbers.copy()\n",
        "print(copy_of_numbers)"
      ],
      "metadata": {
        "colab": {
          "base_uri": "https://localhost:8080/"
        },
        "id": "0TG5vnQCwPCg",
        "outputId": "265ffbe2-d155-4344-e26c-f2c4b464606a"
      },
      "execution_count": null,
      "outputs": [
        {
          "output_type": "stream",
          "name": "stdout",
          "text": [
            "{1, 2, 3, 4, 5}\n"
          ]
        }
      ]
    },
    {
      "cell_type": "code",
      "source": [
        "\"\"\" Checking if a set is a subset or superset of another \"\"\"\n",
        "\n",
        "numbers = {1, 2, 3, 4, 5}\n",
        "is_subset = {1, 2}.issubset(numbers)\n",
        "is_superset = numbers.issuperset({1, 2})\n",
        "print(is_subset)\n",
        "print(is_superset)"
      ],
      "metadata": {
        "colab": {
          "base_uri": "https://localhost:8080/"
        },
        "id": "klDJgV5HwRWm",
        "outputId": "87754649-f057-4cb7-d2b2-695f02f7b6ac"
      },
      "execution_count": null,
      "outputs": [
        {
          "output_type": "stream",
          "name": "stdout",
          "text": [
            "True\n",
            "True\n"
          ]
        }
      ]
    },
    {
      "cell_type": "code",
      "source": [
        "\"\"\" Pop an arbitrary element from the set \"\"\"\n",
        "\n",
        "numbers = {1, 2, 3, 4, 5}\n",
        "popped_element = numbers.pop()\n",
        "print(popped_element)\n",
        "\n",
        "# The element that gets removed and returned by pop() is unpredictable.\n",
        "# If you need to remove a specific element, consider using the remove() or discard() method instead.\n",
        "# If the set is empty, pop() will raise a KeyError."
      ],
      "metadata": {
        "colab": {
          "base_uri": "https://localhost:8080/"
        },
        "id": "Si5HhqrDwRvI",
        "outputId": "2b7e922d-1a30-4415-c5f2-5ec5fb54f146"
      },
      "execution_count": null,
      "outputs": [
        {
          "output_type": "stream",
          "name": "stdout",
          "text": [
            "1\n"
          ]
        }
      ]
    },
    {
      "cell_type": "markdown",
      "source": [
        "#### 5. **Frozen Sets:**\n",
        "\n",
        "A frozen set is an immutable version of a set, and it can be used as a key in a dictionary.\n"
      ],
      "metadata": {
        "id": "LBA3a0TgyCfT"
      }
    },
    {
      "cell_type": "code",
      "source": [
        "\"\"\" frozen set \"\"\"\n",
        "\n",
        "frozen_set = frozenset([1, 2, 3])\n",
        "print(frozen_set)"
      ],
      "metadata": {
        "colab": {
          "base_uri": "https://localhost:8080/"
        },
        "id": "JcG5F4i6yEOd",
        "outputId": "d31a3eaf-c83d-40bf-bc2f-d0a7475f9916"
      },
      "execution_count": null,
      "outputs": [
        {
          "output_type": "stream",
          "name": "stdout",
          "text": [
            "frozenset({1, 2, 3})\n"
          ]
        }
      ]
    },
    {
      "cell_type": "markdown",
      "source": [
        "\n",
        "\n",
        "\n",
        "#### 6. **Set Comprehension:**\n",
        "\n",
        "Set comprehension is a method for creating sets in Python using the elements from other iterables like lists, sets, or tuples1. It’s similar to list comprehension, but it’s used to create a new set and add elements to it.\n"
      ],
      "metadata": {
        "id": "jL3CSBa0yUpO"
      }
    },
    {
      "cell_type": "code",
      "source": [
        "\"\"\"  set comprehensions \"\"\"\n",
        "squared_numbers = {x**2 for x in range(5)}\n",
        "print(squared_numbers)"
      ],
      "metadata": {
        "colab": {
          "base_uri": "https://localhost:8080/"
        },
        "id": "Aab88dtqyej9",
        "outputId": "3f8dfc2b-f03f-4717-9343-3e4d3f1da8a4"
      },
      "execution_count": null,
      "outputs": [
        {
          "output_type": "stream",
          "name": "stdout",
          "text": [
            "{0, 1, 4, 9, 16}\n"
          ]
        }
      ]
    },
    {
      "cell_type": "code",
      "source": [
        "list1 = [1, 2, 3, 4, 5, 6, 7, 8, 9, 10]\n",
        "multiples_of_three = {element*3 for element in list1}\n",
        "print(multiples_of_three)"
      ],
      "metadata": {
        "colab": {
          "base_uri": "https://localhost:8080/"
        },
        "id": "txJKVIQGy-qB",
        "outputId": "aa56d40c-a255-4424-bee8-6c21c3024780"
      },
      "execution_count": null,
      "outputs": [
        {
          "output_type": "stream",
          "name": "stdout",
          "text": [
            "{3, 6, 9, 12, 15, 18, 21, 24, 27, 30}\n"
          ]
        }
      ]
    }
  ]
}