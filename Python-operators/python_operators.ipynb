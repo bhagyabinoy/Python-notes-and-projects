{
  "nbformat": 4,
  "nbformat_minor": 0,
  "metadata": {
    "colab": {
      "provenance": []
    },
    "kernelspec": {
      "name": "python3",
      "display_name": "Python 3"
    },
    "language_info": {
      "name": "python"
    }
  },
  "cells": [
    {
      "cell_type": "markdown",
      "source": [
        "PYTHON OPERATORS\n",
        "\n",
        "1. Arithmetic operators\n",
        "2. Assignment operators\n",
        "3. Comparison Operators\n",
        "4. Logical Operators\n",
        "5. Identity Operator\n",
        "6. Membership Operators\n",
        "7. Bitwise operators\n"
      ],
      "metadata": {
        "id": "g3S-x-2oVV7v"
      }
    },
    {
      "cell_type": "markdown",
      "source": [
        "Arithmetic operators\n",
        "\n",
        "Arithmetic operators in Python are used to perform mathematical operations.\n",
        "\n",
        "1. Addition (+): Adds two numbers together.\n",
        "2. Subtraction (-): Subtracts the second number from the first.\n",
        "3. Multiplication (*): Multiplies two numbers.\n",
        "4. Division (/): Divides the first number by the second. The result is always a floating-point number.\n",
        "5. Floor Division (//): Divides the first number by the second and discards the fractional part, giving an integer result.\n",
        "6. Modulus (%): Returns the remainder when the first number is divided by the second.\n",
        "7. Exponentiation (**): Raises the first number to the power of the second.\n"
      ],
      "metadata": {
        "id": "3ZuFL3FtVmBP"
      }
    },
    {
      "cell_type": "code",
      "source": [
        "x = 10\n",
        "y = 3"
      ],
      "metadata": {
        "id": "xJLPQYvBVttx"
      },
      "execution_count": null,
      "outputs": []
    },
    {
      "cell_type": "code",
      "source": [
        "addition_result = x + y\n",
        "print(addition_result)\n"
      ],
      "metadata": {
        "colab": {
          "base_uri": "https://localhost:8080/"
        },
        "id": "j8QF7oHvWFDf",
        "outputId": "3343982f-66a8-4549-ad13-e3038de8e955"
      },
      "execution_count": null,
      "outputs": [
        {
          "output_type": "stream",
          "name": "stdout",
          "text": [
            "13\n"
          ]
        }
      ]
    },
    {
      "cell_type": "code",
      "source": [
        "subtraction_result = x - y\n",
        "print(subtraction_result)"
      ],
      "metadata": {
        "id": "3kBfoLRTWtBi"
      },
      "execution_count": null,
      "outputs": []
    },
    {
      "cell_type": "code",
      "source": [
        "multiplication_result = x * y\n",
        "print(multiplication_result)"
      ],
      "metadata": {
        "id": "xLa3cmsKWt3T"
      },
      "execution_count": null,
      "outputs": []
    },
    {
      "cell_type": "code",
      "source": [
        "division_result = x / y\n",
        "print(division_result)"
      ],
      "metadata": {
        "id": "63U8__n7W00E"
      },
      "execution_count": null,
      "outputs": []
    },
    {
      "cell_type": "code",
      "source": [
        "floor_division_result = x // y\n",
        "print(floor_division_result)"
      ],
      "metadata": {
        "id": "yDHM-2vvW2U2"
      },
      "execution_count": null,
      "outputs": []
    },
    {
      "cell_type": "code",
      "source": [
        "modulus_result = x % y\n",
        "print(modulus_result)"
      ],
      "metadata": {
        "id": "Mfkj3By5W3jA"
      },
      "execution_count": null,
      "outputs": []
    },
    {
      "cell_type": "code",
      "source": [
        "exponentiation_result = x * y\n",
        "print(exponentiation_result)"
      ],
      "metadata": {
        "id": "ev7G0jdAW4kY"
      },
      "execution_count": null,
      "outputs": []
    },
    {
      "cell_type": "markdown",
      "source": [
        "Assignment operators\n",
        "\n",
        "Assignment operators in Python are used to assign values to variables. They combine the assignment of a value with a specific operation.\n",
        "\n",
        "1. Assignment (=): Assigns the value on the right-hand side to the variable on the left-hand side.\n",
        "2. Addition Assignment (+=): Adds the value on the right-hand side to the variable on the left-hand side and assigns the result to the variable.\n",
        "3. Subtraction Assignment (-=): Subtracts the value on the right-hand side from the variable on the left-hand side and assigns the result to the variable.\n",
        "4. Multiplication Assignment (*=): Multiplies the variable on the left-hand side by the value on the right-hand side and assigns the result to the variable.\n",
        "5. Division Assignment (/=): Divides the variable on the left-hand side by the value on the right-hand side and assigns the result to the variable.\n",
        "6. Modulus Assignment (%=): Calculates the modulus of the variable on the left-hand side with the value on the right-hand side and assigns the result to the variable.\n",
        "7. Floor Division Assignment (//=): Performs floor division on the variable on the left-hand side with the value on the right-hand side and assigns the result to the variable.\n",
        "8. Exponentiation Assignment (**=): Raises the variable on the left-hand side to the power of the value on the right-hand side and assigns the result to the variable.\n"
      ],
      "metadata": {
        "id": "VxyAz0YsXF0c"
      }
    },
    {
      "cell_type": "code",
      "source": [
        "# Initialize a variable\n",
        "x = 10\n",
        "\n",
        "# Addition assignment\n",
        "x += 5   # x = x + 5\n",
        "print(\"Result after addition:\", x)"
      ],
      "metadata": {
        "colab": {
          "base_uri": "https://localhost:8080/"
        },
        "id": "GO9viI_DXUK8",
        "outputId": "408d5e95-a3ad-44f8-ace3-5caca25afa9a"
      },
      "execution_count": null,
      "outputs": [
        {
          "output_type": "stream",
          "name": "stdout",
          "text": [
            "Result after addition: 15\n"
          ]
        }
      ]
    },
    {
      "cell_type": "code",
      "source": [
        "# Subtraction assignment\n",
        "x -= 3   # x = x - 3\n",
        "print(\"Result after subtraction:\", x)"
      ],
      "metadata": {
        "colab": {
          "base_uri": "https://localhost:8080/"
        },
        "id": "21HdLA6Q4_aQ",
        "outputId": "ca3329bf-f9e9-4595-ad8a-231a4142e241"
      },
      "execution_count": null,
      "outputs": [
        {
          "output_type": "stream",
          "name": "stdout",
          "text": [
            "Result after subtraction: 12\n"
          ]
        }
      ]
    },
    {
      "cell_type": "code",
      "source": [
        "# Multiplication assignment\n",
        "x = 2   # x = x  2\n",
        "print(\"Result after multiplication:\", x)"
      ],
      "metadata": {
        "id": "GnK19E7K4_pn"
      },
      "execution_count": null,
      "outputs": []
    },
    {
      "cell_type": "code",
      "source": [
        "# Division assignment\n",
        "x /= 4   # x = x / 4\n",
        "print(\"Result after division:\", x)"
      ],
      "metadata": {
        "id": "VEnyFLm74_tf"
      },
      "execution_count": null,
      "outputs": []
    },
    {
      "cell_type": "code",
      "source": [
        "# Modulus assignment\n",
        "x %= 3   # x = x % 3\n",
        "print(\"Result after modulus:\", x)"
      ],
      "metadata": {
        "id": "Yt0UsyJI4_xK"
      },
      "execution_count": null,
      "outputs": []
    },
    {
      "cell_type": "code",
      "source": [
        "# Floor division assignment\n",
        "x //= 2  # x = x // 2\n",
        "print(\"Result after floor division:\", x)"
      ],
      "metadata": {
        "id": "P66Eez864_0x"
      },
      "execution_count": null,
      "outputs": []
    },
    {
      "cell_type": "code",
      "source": [
        "# Exponentiation assignment\n",
        "x *= 3  # x = x * 3\n",
        "print(\"Result after exponentiation:\", x)"
      ],
      "metadata": {
        "id": "FJ-UZBkZ4_4H"
      },
      "execution_count": null,
      "outputs": []
    },
    {
      "cell_type": "markdown",
      "source": [
        "\n",
        "\n",
        "\n",
        " Comparison Operators\n",
        "\n",
        "Comparison operators in Python are used to compare two values and determine their relationship. They return either `True` or `False` based on the comparison result. Here are the commonly used comparison operators:\n",
        "\n",
        "1. **Equal to (`==`):\n",
        "2. **Not equal to (`!=`)\n",
        "3. **Greater than (`>`)\n",
        "4. **Less than (`<`)\n",
        "5. **Greater than or equal to (`>=`)\n",
        "6. **Less than or equal to (`<=`)\n",
        "\n",
        "These operators can be used with various data types, not just numbers. They are commonly used in conditional statements (if, elif, else) and loops to control the flow of your program based on comparisons.\n",
        "\n",
        "eg:\n",
        "age = 18\n",
        "if age >= 18:\n",
        "    print(\"You are eligible to vote.\")\n",
        "else:\n",
        "    print(\"You are not eligible to vote.\")"
      ],
      "metadata": {
        "id": "7LA3GE7DXs9O"
      }
    },
    {
      "cell_type": "code",
      "source": [
        "\"\"\" Equal to(==)  Checks if two values are equal. \"\"\"\n",
        "x = 5\n",
        "y = 10\n",
        "result = x == y # False\n",
        "print(result)"
      ],
      "metadata": {
        "colab": {
          "base_uri": "https://localhost:8080/"
        },
        "id": "caEBm75X5s30",
        "outputId": "8bf8316d-fbd4-4b30-f8e0-6ac581da222f"
      },
      "execution_count": null,
      "outputs": [
        {
          "output_type": "stream",
          "name": "stdout",
          "text": [
            "False\n"
          ]
        }
      ]
    },
    {
      "cell_type": "code",
      "source": [
        "\"\"\" Not equal to (!=): Checks if two values are not equal. \"\"\"\n",
        "x = 5\n",
        "y = 10\n",
        "result = x != y # True\n",
        "print(result)"
      ],
      "metadata": {
        "colab": {
          "base_uri": "https://localhost:8080/"
        },
        "id": "aJlPdwBh6E02",
        "outputId": "60d2f1fc-50b3-40b0-aa36-596f4d8549d0"
      },
      "execution_count": null,
      "outputs": [
        {
          "output_type": "stream",
          "name": "stdout",
          "text": [
            "True\n"
          ]
        }
      ]
    },
    {
      "cell_type": "code",
      "source": [
        "\"\"\" Greater than (>): Checks if the left value is greater than the right value.\"\"\"\n",
        "\n",
        "x = 15\n",
        "y = 10\n",
        "result = x > y # True\n",
        "print(result)"
      ],
      "metadata": {
        "colab": {
          "base_uri": "https://localhost:8080/"
        },
        "id": "xGidybN76PTQ",
        "outputId": "a5a6ad85-5942-4a93-ac2d-b88f39a0d75a"
      },
      "execution_count": null,
      "outputs": [
        {
          "output_type": "stream",
          "name": "stdout",
          "text": [
            "True\n"
          ]
        }
      ]
    },
    {
      "cell_type": "code",
      "source": [
        "\"\"\" Less than (<): Check if the left value is less than the right value. \"\"\"\n",
        "\n",
        "x = 5\n",
        "y = 10\n",
        "result = x < y # True\n",
        "print(result)"
      ],
      "metadata": {
        "colab": {
          "base_uri": "https://localhost:8080/"
        },
        "id": "Z8nHEp4t6dMZ",
        "outputId": "c813a8b2-8b1d-4b41-f66e-0a517f950a63"
      },
      "execution_count": null,
      "outputs": [
        {
          "output_type": "stream",
          "name": "stdout",
          "text": [
            "True\n"
          ]
        }
      ]
    },
    {
      "cell_type": "code",
      "source": [
        "\"\"\" Greater than or equal to (>=): Checks if the left value is greater than or equal to the right value. \"\"\"\n",
        "\n",
        "x = 10\n",
        "y = 10\n",
        "result = x >= y # True\n",
        "print(result)"
      ],
      "metadata": {
        "colab": {
          "base_uri": "https://localhost:8080/"
        },
        "id": "uUVC41ng6nOR",
        "outputId": "5f49a7be-9701-4a9d-e48d-99b0f6933d65"
      },
      "execution_count": null,
      "outputs": [
        {
          "output_type": "stream",
          "name": "stdout",
          "text": [
            "True\n"
          ]
        }
      ]
    },
    {
      "cell_type": "code",
      "source": [
        "\"\"\" Less than or equal to (<=): Checks if the left value is less than or equal to the right value.\"\"\"\n",
        "\n",
        "x = 5\n",
        "y = 10\n",
        "result = x <= y # True\n",
        "print(result)"
      ],
      "metadata": {
        "colab": {
          "base_uri": "https://localhost:8080/"
        },
        "id": "F-wgzDOB6niJ",
        "outputId": "a01ebcb3-8aad-4ac3-feb8-85621bbc0381"
      },
      "execution_count": null,
      "outputs": [
        {
          "output_type": "stream",
          "name": "stdout",
          "text": [
            "True\n"
          ]
        }
      ]
    },
    {
      "cell_type": "markdown",
      "source": [
        "Logical Operators\n",
        "\n",
        "Logical operators in Python are used to perform logical operations on boolean values (`True` or `False`). They are often used to combine multiple conditions and make decisions based on the combined result. There are three main logical operators in Python: `and`, `or`, and `not`.\n",
        "\n",
        "Here's a breakdown of each logical operator:\n",
        "\n",
        "1. **AND Operator (`and`):**\n",
        "   - Returns `True` if both operands are `True`, otherwise returns `False`.\n",
        "   \n",
        "2. **OR Operator (`or`):**\n",
        "   - Returns `True` if at least one of the operands is `True`, otherwise returns `False`.\n",
        "   \n",
        "3. **NOT Operator (`not`):**\n",
        "   - Returns the opposite of the operand's boolean value (`True` becomes `False` and vice versa).\n"
      ],
      "metadata": {
        "id": "wm8OHzU5X1sM"
      }
    },
    {
      "cell_type": "code",
      "source": [
        "\"\"\" AND Operator \"\"\"\n",
        "\n",
        "x = True\n",
        "y = False\n",
        "result = x and y\n",
        "print(result) # Output: False"
      ],
      "metadata": {
        "colab": {
          "base_uri": "https://localhost:8080/"
        },
        "id": "OoA38FaaWGaP",
        "outputId": "6d878e77-29fd-4cdf-ff4d-15bba5b97f85"
      },
      "execution_count": null,
      "outputs": [
        {
          "output_type": "stream",
          "name": "stdout",
          "text": [
            "False\n"
          ]
        }
      ]
    },
    {
      "cell_type": "code",
      "source": [
        "\"\"\" OR Operator \"\"\"\n",
        "\n",
        "x = True\n",
        "y = False\n",
        "result = x or y\n",
        "print(result) # Output: True"
      ],
      "metadata": {
        "colab": {
          "base_uri": "https://localhost:8080/"
        },
        "id": "Uoo9h-xtWZLq",
        "outputId": "7e50ade2-1844-47fe-b0dc-c19a89218414"
      },
      "execution_count": null,
      "outputs": [
        {
          "output_type": "stream",
          "name": "stdout",
          "text": [
            "True\n"
          ]
        }
      ]
    },
    {
      "cell_type": "code",
      "source": [
        "\"\"\" NOT Operator \"\"\"\n",
        "x = True\n",
        "result = not x\n",
        "print(result)"
      ],
      "metadata": {
        "colab": {
          "base_uri": "https://localhost:8080/"
        },
        "id": "n4ehlJmxWiLb",
        "outputId": "b6360c09-4fda-49ae-fede-4a1bf3b87e20"
      },
      "execution_count": null,
      "outputs": [
        {
          "output_type": "stream",
          "name": "stdout",
          "text": [
            "False\n"
          ]
        }
      ]
    },
    {
      "cell_type": "code",
      "source": [
        "\"\"\" logical operators to combine multiple conditions in if statements \"\"\"\n",
        "\n",
        "age = 25\n",
        "has_license = True\n",
        "\n",
        "if age >= 18 and has_license:\n",
        "  print(\"You are eligible to drive.\")\n",
        "else:\n",
        "  print(\"You are not eligible to drive.\")\n",
        "\n",
        "#In this example, the and operator combines the conditions age >= 18 and has_license to determine if the person is eligible to drive."
      ],
      "metadata": {
        "id": "9utsmKPmWqnd"
      },
      "execution_count": null,
      "outputs": []
    },
    {
      "cell_type": "markdown",
      "source": [
        "\n",
        "\n",
        "Identity Operator\n",
        "\n",
        "Identity Operators are used to compare the memory locations (identities) of two objects. They determine whether two variables refer to the same object in memory. There are two main identity operators in Python: `is` and `is not`.\n",
        "\n",
        "Here's how these operators work:\n",
        "\n",
        "1. **`is` Operator:**\n",
        "   - Returns `True` if both operands are the same object (have the same memory location), otherwise returns `False`.\n",
        "\n",
        "2. **`is not` Operator:**\n",
        "   - Returns `True` if both operands are not the same object (do not have the same memory location), otherwise returns `False`.\n",
        "\n",
        "Identity operators are particularly useful when you want to check if two variables reference the exact same object in memory, which is different from checking if the values they hold are equal.\n"
      ],
      "metadata": {
        "id": "19hf8J1NX9eI"
      }
    },
    {
      "cell_type": "code",
      "source": [
        "\"\"\" is Operator \"\"\"\n",
        "\n",
        "x = [1, 2, 3]\n",
        "y = x\n",
        "z = [1, 2, 3]\n",
        "\n",
        "print(x is y)  # Output: True (x and y refer to the same object)\n",
        "print(x is z)  # Output: False (x and z do not refer to the same object)"
      ],
      "metadata": {
        "colab": {
          "base_uri": "https://localhost:8080/"
        },
        "id": "t7VOD8k_XWUm",
        "outputId": "c535dd0f-823e-4eab-b08d-c0f52c375672"
      },
      "execution_count": null,
      "outputs": [
        {
          "output_type": "stream",
          "name": "stdout",
          "text": [
            "True\n",
            "False\n"
          ]
        }
      ]
    },
    {
      "cell_type": "code",
      "source": [
        "\"\"\" is not Operator \"\"\"\n",
        "a = 5\n",
        "b = 10\n",
        "\n",
        "print(a is not b)  # Output: True (a and b are not the same object)\n",
        "\n",
        "# In the above example, `x` and `y` refer to the same list object, so `x is y` returns `True`. However, `x` and `z` are two different list objects with the same content, so `x is z` returns `False`. Similarly, `a is not b` returns `True` because `a` and `b` are not the same object"
      ],
      "metadata": {
        "colab": {
          "base_uri": "https://localhost:8080/"
        },
        "id": "JYO5kMH8Xk_W",
        "outputId": "95d980f1-9c4b-41e8-f180-1e359e64e0fe"
      },
      "execution_count": null,
      "outputs": [
        {
          "output_type": "stream",
          "name": "stdout",
          "text": [
            "True\n"
          ]
        }
      ]
    },
    {
      "cell_type": "markdown",
      "source": [
        "\n",
        "Membership Operators\n",
        "\n",
        "Membership Operators are used to test whether a value or a variable is found in a sequence (like a string, list, tuple, etc.). There are two main membership operators in Python: `in` and `not in`.\n",
        "\n",
        "Here's how these operators work:\n",
        "\n",
        "1. **`in` Operator:**\n",
        "   - Returns `True` if a value or variable is found in the sequence, otherwise returns `False`.\n",
        "\n",
        "2. **`not in` Operator:**\n",
        "   - Returns `True` if a value or variable is not found in the sequence, otherwise returns `False`."
      ],
      "metadata": {
        "id": "uR1gmTppYDwX"
      }
    },
    {
      "cell_type": "code",
      "source": [
        "\"\"\" in Operator \"\"\"\n",
        "\n",
        "fruits = [\"apple\", \"banana\", \"cherry\", \"date\"]\n",
        "print(\"banana\" in fruits)  # Output: True (because \"banana\" is in the list)\n",
        "\n",
        "# In the above example, we use the `in` operator to check if a specific value is present in a list or tuple"
      ],
      "metadata": {
        "colab": {
          "base_uri": "https://localhost:8080/"
        },
        "id": "Yjx2iNsnXyYN",
        "outputId": "0876cca3-ca85-4709-884b-cc6ffc98b35a"
      },
      "execution_count": null,
      "outputs": [
        {
          "output_type": "stream",
          "name": "stdout",
          "text": [
            "True\n"
          ]
        }
      ]
    },
    {
      "cell_type": "code",
      "source": [
        "\"\"\" not in Operator \"\"\"\n",
        "\n",
        "colors = (\"red\", \"green\", \"blue\")\n",
        "print(\"yellow\" not in colors)  # Output: True (because \"yellow\" is not in the tuple)\n",
        "\n",
        "#In the above example, we use the `not in` operator to check if a value is not present."
      ],
      "metadata": {
        "colab": {
          "base_uri": "https://localhost:8080/"
        },
        "id": "IJx5masGYBag",
        "outputId": "4b0c9d67-f4f4-4e05-8190-08e98d28c5d7"
      },
      "execution_count": null,
      "outputs": [
        {
          "output_type": "stream",
          "name": "stdout",
          "text": [
            "True\n"
          ]
        }
      ]
    },
    {
      "cell_type": "code",
      "source": [
        "\"\"\" Membership operators are often used with conditional statements\n",
        "to make decisions based on whether a value is present in a sequence or not: \"\"\"\n",
        "\n",
        "# Check if a user's input is in a list of valid choices\n",
        "valid_choices = [\"a\", \"b\", \"c\", \"d\"]\n",
        "user_choice = input(\"Enter your choice: \")\n",
        "\n",
        "if user_choice in valid_choices:\n",
        "    print(\"Valid choice.\")\n",
        "else:\n",
        "    print(\"Invalid choice.\")\n",
        "\n",
        "# In this example, the program checks if the user's input is present in the list of valid choices using the `in` operator."
      ],
      "metadata": {
        "colab": {
          "base_uri": "https://localhost:8080/"
        },
        "id": "8tliapxOYMtv",
        "outputId": "eccbe582-ce32-4665-9a87-01ccd100fb2d"
      },
      "execution_count": null,
      "outputs": [
        {
          "output_type": "stream",
          "name": "stdout",
          "text": [
            "Enter your choice: a\n",
            "Valid choice.\n"
          ]
        }
      ]
    },
    {
      "cell_type": "markdown",
      "source": [
        "\n",
        "\n",
        "7.Bitwise operators\n",
        "\n",
        "Bitwise operators are used to perform bitwise operations on integer values at the binary level. They manipulate individual bits of numbers and are often used in low-level programming, such as hardware interactions and data compression.\n",
        "\n",
        "Here are the main bitwise operators in Python:\n",
        "\n",
        "1. **Bitwise AND (`&`):**\n",
        "   - Performs a bitwise AND operation on corresponding bits of two integers.\n",
        "   \n",
        "2. **Bitwise OR (`|`):**\n",
        "   - Performs a bitwise OR operation on corresponding bits of two integers.\n",
        "   \n",
        "3. **Bitwise XOR (`^`):**\n",
        "   - Performs a bitwise XOR (exclusive OR) operation on corresponding bits of two integers.\n",
        "   \n",
        "4. **Bitwise NOT (`~`):**\n",
        "   - Flips the bits of an integer, changing 0s to 1s and vice versa.\n",
        "   \n",
        "5. **Left Shift (`<<`):**\n",
        "   - Shifts the bits of an integer to the left by a specified number of positions.\n",
        "   \n",
        "6. **Right Shift (`>>`):**\n",
        "   - Shifts the bits of an integer to the right by a specified number of positions.\n"
      ],
      "metadata": {
        "id": "6Vq7g7_JYJx2"
      }
    },
    {
      "cell_type": "code",
      "source": [
        "\"\"\" Bitwise AND \"\"\"\n",
        "\n",
        "a = 5    # 0101 in binary\n",
        "b = 3    # 0011 in binary\n",
        "result_and = a & b\n",
        "print(\"Bitwise AND:\", result_and)  # Output: 1 (0001 in binary)"
      ],
      "metadata": {
        "colab": {
          "base_uri": "https://localhost:8080/"
        },
        "id": "v0JW5425Yc92",
        "outputId": "9408d044-e221-4ad3-94e9-d1986f964ca4"
      },
      "execution_count": null,
      "outputs": [
        {
          "output_type": "stream",
          "name": "stdout",
          "text": [
            "Bitwise AND: 1\n"
          ]
        }
      ]
    },
    {
      "cell_type": "code",
      "source": [
        "\"\"\"  Bitwise OR \"\"\"\n",
        "\n",
        "result_or = a | b\n",
        "print(\"Bitwise OR:\", result_or)    # Output: 7 (0111 in binary)"
      ],
      "metadata": {
        "colab": {
          "base_uri": "https://localhost:8080/"
        },
        "id": "BIo9zIYvYeSB",
        "outputId": "888d1190-6251-4220-b5e4-b474060b0941"
      },
      "execution_count": null,
      "outputs": [
        {
          "output_type": "stream",
          "name": "stdout",
          "text": [
            "Bitwise OR: 7\n"
          ]
        }
      ]
    },
    {
      "cell_type": "code",
      "source": [
        "\"\"\"  Bitwise XOR \"\"\"\n",
        "result_xor = a ^ b\n",
        "print(\"Bitwise XOR:\", result_xor)  # Output: 6 (0110 in binary)"
      ],
      "metadata": {
        "colab": {
          "base_uri": "https://localhost:8080/"
        },
        "id": "fvx0IwunYenT",
        "outputId": "1f0a997a-0a4e-4b18-8054-7c63ad4c40c0"
      },
      "execution_count": null,
      "outputs": [
        {
          "output_type": "stream",
          "name": "stdout",
          "text": [
            "Bitwise XOR: 6\n"
          ]
        }
      ]
    },
    {
      "cell_type": "code",
      "source": [
        "\"\"\"  Bitwise NOT \"\"\"\n",
        "\n",
        "c = 10   # 1010 in binary\n",
        "result_not = ~c\n",
        "print(\"Bitwise NOT:\", result_not)  # Output: -11 (This is platform-dependent due to how negative numbers are represented in binary.)"
      ],
      "metadata": {
        "colab": {
          "base_uri": "https://localhost:8080/"
        },
        "id": "BXZJivCRYgF_",
        "outputId": "ca8901d6-0307-423e-a5ac-3a499d326d22"
      },
      "execution_count": null,
      "outputs": [
        {
          "output_type": "stream",
          "name": "stdout",
          "text": [
            "Bitwise NOT: -11\n"
          ]
        }
      ]
    },
    {
      "cell_type": "code",
      "source": [
        "\"\"\" Left Shift \"\"\"\n",
        "\n",
        "d = 8    # 1000 in binary\n",
        "shifted_left = d << 2\n",
        "print(\"Left Shift:\", shifted_left) # Output: 32 (10000 in binary)"
      ],
      "metadata": {
        "colab": {
          "base_uri": "https://localhost:8080/"
        },
        "id": "NJuYItx7YguH",
        "outputId": "69a672c0-7bf9-4479-8e1e-887f240cfb46"
      },
      "execution_count": null,
      "outputs": [
        {
          "output_type": "stream",
          "name": "stdout",
          "text": [
            "Left Shift: 32\n"
          ]
        }
      ]
    },
    {
      "cell_type": "code",
      "source": [
        "\"\"\"  Right Shift \"\"\"\n",
        "\n",
        "e = 16   # 10000 in binary\n",
        "shifted_right = e >> 2\n",
        "print(\"Right Shift:\", shifted_right)  # Output: 4 (0001 in binary)"
      ],
      "metadata": {
        "colab": {
          "base_uri": "https://localhost:8080/"
        },
        "id": "u3zxa16JYhio",
        "outputId": "4ec86d69-77c9-4dab-87d3-c2522eb3702f"
      },
      "execution_count": null,
      "outputs": [
        {
          "output_type": "stream",
          "name": "stdout",
          "text": [
            "Right Shift: 4\n"
          ]
        }
      ]
    }
  ]
}