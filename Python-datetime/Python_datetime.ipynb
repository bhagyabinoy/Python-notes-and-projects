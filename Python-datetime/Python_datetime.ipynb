{
  "nbformat": 4,
  "nbformat_minor": 0,
  "metadata": {
    "colab": {
      "provenance": []
    },
    "kernelspec": {
      "name": "python3",
      "display_name": "Python 3"
    },
    "language_info": {
      "name": "python"
    }
  },
  "cells": [
    {
      "cell_type": "markdown",
      "source": [
        "**Python datetime**\n"
      ],
      "metadata": {
        "id": "0hBjJIGJ7btf"
      }
    },
    {
      "cell_type": "markdown",
      "source": [
        "Python has a module named datetime to work with dates and times. It provides a variety of classes for representing and manipulating dates and times, as well as for formatting and parsing dates and times in a variety of formats."
      ],
      "metadata": {
        "id": "pq8icrw57gs_"
      }
    },
    {
      "cell_type": "markdown",
      "source": [
        "Get Current Date and Time\n"
      ],
      "metadata": {
        "id": "sDHQsJsG7ls_"
      }
    },
    {
      "cell_type": "code",
      "source": [
        "import datetime\n",
        "now = datetime.datetime.now()\n",
        "print(now)"
      ],
      "metadata": {
        "colab": {
          "base_uri": "https://localhost:8080/"
        },
        "id": "SeLommjX7qto",
        "outputId": "5963a229-5f72-4204-a6a3-00dfa48a5d62"
      },
      "execution_count": null,
      "outputs": [
        {
          "output_type": "stream",
          "name": "stdout",
          "text": [
            "2023-12-27 06:21:04.172069\n"
          ]
        }
      ]
    },
    {
      "cell_type": "markdown",
      "source": [
        "Get Current Date\n"
      ],
      "metadata": {
        "id": "jWOBmIgr7vr4"
      }
    },
    {
      "cell_type": "code",
      "source": [
        "import datetime\n",
        "current_date = datetime.date.today()\n",
        "print(current_date)"
      ],
      "metadata": {
        "colab": {
          "base_uri": "https://localhost:8080/"
        },
        "id": "Lk1j8LRu7yko",
        "outputId": "f3d26df0-43a5-47c5-a8f2-914e8a8a36cd"
      },
      "execution_count": null,
      "outputs": [
        {
          "output_type": "stream",
          "name": "stdout",
          "text": [
            "2023-12-27\n"
          ]
        }
      ]
    },
    {
      "cell_type": "markdown",
      "source": [
        "The most commonly used classes in the datetime module are:\n",
        "datetime - represents a single point in time, including a date and a time.\n",
        "date - represents a date (year, month, and day) without a time.\n",
        "time - represents a time (hour, minute, second, and microsecond) without a date.\n",
        "timedelta - represents a duration, which can be used to perform arithmetic with datetime objects.\n"
      ],
      "metadata": {
        "id": "plGjzZe_73fZ"
      }
    },
    {
      "cell_type": "markdown",
      "source": [
        "Date object to represent a date\n"
      ],
      "metadata": {
        "id": "RTO7rvgL7_KU"
      }
    },
    {
      "cell_type": "code",
      "source": [
        "import datetime\n",
        "d = datetime.date(2022, 12, 25)\n",
        "print(d)"
      ],
      "metadata": {
        "colab": {
          "base_uri": "https://localhost:8080/"
        },
        "id": "jXKVCBun8AB6",
        "outputId": "94026253-f3fe-4370-a0ef-b4a48987777f"
      },
      "execution_count": null,
      "outputs": [
        {
          "output_type": "stream",
          "name": "stdout",
          "text": [
            "2022-12-25\n"
          ]
        }
      ]
    },
    {
      "cell_type": "markdown",
      "source": [
        "Import Only date Class\n"
      ],
      "metadata": {
        "id": "89bRtp1L8EaK"
      }
    },
    {
      "cell_type": "code",
      "source": [
        "from datetime import date\n",
        "d = date(2022, 12, 25)\n",
        "print(d)"
      ],
      "metadata": {
        "colab": {
          "base_uri": "https://localhost:8080/"
        },
        "id": "YgyU-OjU8FIC",
        "outputId": "fac9bbdf-d0d4-4458-f9d9-89a4bb40b3dd"
      },
      "execution_count": null,
      "outputs": [
        {
          "output_type": "stream",
          "name": "stdout",
          "text": [
            "2022-12-25\n"
          ]
        }
      ]
    },
    {
      "cell_type": "markdown",
      "source": [
        "Get current date using today()\n"
      ],
      "metadata": {
        "id": "exRV6vAz8KuT"
      }
    },
    {
      "cell_type": "code",
      "source": [
        "from datetime import date\n",
        "todays_date = date.today()\n",
        "print(\"Today's date =\", todays_date)"
      ],
      "metadata": {
        "colab": {
          "base_uri": "https://localhost:8080/"
        },
        "id": "wmsH8cG58Mqz",
        "outputId": "13e32571-1eeb-43e8-aeb8-28ded7a8eeec"
      },
      "execution_count": null,
      "outputs": [
        {
          "output_type": "stream",
          "name": "stdout",
          "text": [
            "Today's date = 2023-12-27\n"
          ]
        }
      ]
    },
    {
      "cell_type": "markdown",
      "source": [
        "Get date from a timestamp\n",
        "A Unix timestamp is the number of seconds between a particular date and January 1, 1970 at UTC. You can convert a timestamp to date using the fromtimestamp() method\n"
      ],
      "metadata": {
        "id": "7beS90tC8Plb"
      }
    },
    {
      "cell_type": "code",
      "source": [
        "from datetime import date\n",
        "timestamp = date.fromtimestamp(1326244364)\n",
        "print(\"Date =\", timestamp)"
      ],
      "metadata": {
        "colab": {
          "base_uri": "https://localhost:8080/"
        },
        "id": "feoySzsS8SkW",
        "outputId": "9eb2963f-000a-4526-feaf-ba2bacd8f23f"
      },
      "execution_count": null,
      "outputs": [
        {
          "output_type": "stream",
          "name": "stdout",
          "text": [
            "Date = 2012-01-11\n"
          ]
        }
      ]
    },
    {
      "cell_type": "markdown",
      "source": [
        " Print today's year, month and day\n"
      ],
      "metadata": {
        "id": "1mHKG31H8XYT"
      }
    },
    {
      "cell_type": "code",
      "source": [
        "from datetime import date\n",
        "# date object of today's date\n",
        "today = date.today()\n",
        "print(\"Current year:\", today.year)\n",
        "print(\"Current month:\", today.month)\n",
        "print(\"Current day:\", today.day)"
      ],
      "metadata": {
        "colab": {
          "base_uri": "https://localhost:8080/"
        },
        "id": "lBCyTnXQ8X2U",
        "outputId": "70c928d1-fc53-4ba3-9978-d28fe9f7df87"
      },
      "execution_count": null,
      "outputs": [
        {
          "output_type": "stream",
          "name": "stdout",
          "text": [
            "Current year: 2023\n",
            "Current month: 12\n",
            "Current day: 27\n"
          ]
        }
      ]
    },
    {
      "cell_type": "markdown",
      "source": [
        "**Python strftime() Method:**\n",
        "\n",
        "The strftime() method creates a formatted string from a given date, datetime or time object.\n"
      ],
      "metadata": {
        "id": "Gvmk_FcE8u0e"
      }
    },
    {
      "cell_type": "code",
      "source": [
        "from datetime import datetime\n",
        "\n",
        "# current date and time\n",
        "now = datetime.now()\n",
        "t = now.strftime(\"%H:%M:%S\")\n",
        "print(\"Time:\", t)\n",
        "\n",
        "s1 = now.strftime(\"%m/%d/%Y, %H:%M:%S\")\n",
        "# mm/dd/YY H:M:S format\n",
        "print(\"s1:\", s1)\n",
        "\n",
        "s2 = now.strftime(\"%d/%m/%Y, %H:%M:%S\")\n",
        "# dd/mm/YY H:M:S format\n",
        "print(\"s2:\", s2)"
      ],
      "metadata": {
        "colab": {
          "base_uri": "https://localhost:8080/"
        },
        "id": "pFwl7QCU8ylg",
        "outputId": "4e53dff3-f35e-4397-ad3c-76e4aae3c604"
      },
      "execution_count": null,
      "outputs": [
        {
          "output_type": "stream",
          "name": "stdout",
          "text": [
            "Time: 06:26:11\n",
            "s1: 12/27/2023, 06:26:11\n",
            "s2: 27/12/2023, 06:26:11\n"
          ]
        }
      ]
    },
    {
      "cell_type": "markdown",
      "source": [
        "P**ython strptime() Method:**\n",
        "\n",
        "The strptime() method creates a datetime object from a given string (representing date and time)."
      ],
      "metadata": {
        "id": "1hVvIOhR8-GP"
      }
    },
    {
      "cell_type": "code",
      "source": [
        "from datetime import datetime\n",
        "\n",
        "date_string = \"25 December, 2022\"\n",
        "print(\"date_string =\", date_string)\n",
        "\n",
        "# use strptime() to create date object\n",
        "date_object = datetime.strptime(date_string, \"%d %B, %Y\")\n",
        "print(\"date_object =\", date_object)"
      ],
      "metadata": {
        "colab": {
          "base_uri": "https://localhost:8080/"
        },
        "id": "4aHt0XeR9FvA",
        "outputId": "0dd62e33-3e0e-4082-ae92-cdf49f5b856c"
      },
      "execution_count": null,
      "outputs": [
        {
          "output_type": "stream",
          "name": "stdout",
          "text": [
            "date_string = 25 December, 2022\n",
            "date_object = 2022-12-25 00:00:00\n"
          ]
        }
      ]
    }
  ]
}