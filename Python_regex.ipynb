{
  "nbformat": 4,
  "nbformat_minor": 0,
  "metadata": {
    "colab": {
      "provenance": [],
      "authorship_tag": "ABX9TyNv6BEt0wxa7J8F3Yb05o8E",
      "include_colab_link": true
    },
    "kernelspec": {
      "name": "python3",
      "display_name": "Python 3"
    },
    "language_info": {
      "name": "python"
    }
  },
  "cells": [
    {
      "cell_type": "markdown",
      "metadata": {
        "id": "view-in-github",
        "colab_type": "text"
      },
      "source": [
        "<a href=\"https://colab.research.google.com/github/bhagyabinoy/Python-notes-and-projects/blob/main/Python_regex.ipynb\" target=\"_parent\"><img src=\"https://colab.research.google.com/assets/colab-badge.svg\" alt=\"Open In Colab\"/></a>"
      ]
    },
    {
      "cell_type": "markdown",
      "source": [
        "## Regular expressions"
      ],
      "metadata": {
        "id": "IGCh2ucXAH5E"
      }
    },
    {
      "cell_type": "markdown",
      "source": [
        "- Regular expressions (regex) in Python are a powerful tool for pattern matching and manipulation of strings.\n",
        "\n",
        "- They provide a way to search, match, and manipulate text based on specific patterns, making them invaluable for tasks such as data validation, parsing, and transformation."
      ],
      "metadata": {
        "id": "Ubf9Fx3nAN0H"
      }
    },
    {
      "cell_type": "markdown",
      "source": [
        "### Key Concepts of Regex\n",
        "\n",
        "1. **Pattern**: A regex pattern is a sequence of characters that defines a search criteria. Patterns can include literal characters, special characters, and various syntax constructs."
      ],
      "metadata": {
        "id": "k1vkAhMOAhNM"
      }
    },
    {
      "cell_type": "markdown",
      "source": [
        "2. **Special Characters**:\n",
        "   - `.`: Matches any character except a newline.\n",
        "   - `^`: Matches the start of a string.\n",
        "   - `$`: Matches the end of a string.\n",
        "   - `*`: Matches 0 or more repetitions of the preceding element.\n",
        "   - `+`: Matches 1 or more repetitions of the preceding element.\n",
        "   - `?`: Matches 0 or 1 repetition of the preceding element (makes it optional).\n",
        "   - `{n}`: Matches exactly n repetitions of the preceding element.\n",
        "   - `{n,}`: Matches n or more repetitions.\n",
        "   - `{n,m}`: Matches between n and m repetitions.\n",
        "   - `[]`: Matches any one of the characters inside the brackets.\n",
        "   - `|`: Acts as a logical OR between patterns.\n",
        "   - `\\`: Escapes special characters."
      ],
      "metadata": {
        "id": "4DW4psBDAorE"
      }
    },
    {
      "cell_type": "markdown",
      "source": [
        "3. **Character Classes**:\n",
        "   - `\\d`: Matches any digit (equivalent to `[0-9]`).\n",
        "   - `\\D`: Matches any non-digit.\n",
        "   - `\\w`: Matches any word character (alphanumeric plus underscore).\n",
        "   - `\\W`: Matches any non-word character.\n",
        "   - `\\s`: Matches any whitespace character (spaces, tabs).\n",
        "   - `\\S`: Matches any non-whitespace character."
      ],
      "metadata": {
        "id": "vdf35r7VApWZ"
      }
    },
    {
      "cell_type": "markdown",
      "source": [
        "### built-in `re` module functions:\n",
        "\n",
        "1. **`re.match()`**: Checks for a match only at the beginning of the string.\n",
        "2. **`re.search()`**: Searches the entire string for a match.\n",
        "3. **`re.findall()`**: Returns a list of all matches in the string.\n",
        "4. **`re.finditer()`**: Returns an iterator yielding match objects for all matches.\n",
        "5. **`re.sub()`**: Replaces occurrences of the pattern with a specified string.\n",
        "6. **`re.split()`**: Splits the string by occurrences of the pattern."
      ],
      "metadata": {
        "id": "Pz0y_0MZA0Dn"
      }
    },
    {
      "cell_type": "code",
      "source": [
        "#### 1. Basic Matching\n",
        "import re\n",
        "\n",
        "text = \"The rain in Spain stays mainly in the plain.\"\n",
        "\n",
        "# Match a pattern at the start of the string\n",
        "match = re.match(r\"The\", text)\n",
        "if match:\n",
        "    print(\"Match found:\", match.group())\n",
        "\n",
        "# Search for a pattern anywhere in the string\n",
        "search = re.search(r\"Spain\", text)\n",
        "if search:\n",
        "    print(\"Search found:\", search.group())"
      ],
      "metadata": {
        "colab": {
          "base_uri": "https://localhost:8080/"
        },
        "id": "E0hkJtMhAidK",
        "outputId": "875bf5db-731d-4015-8aaf-45f18f4bcf29"
      },
      "execution_count": 1,
      "outputs": [
        {
          "output_type": "stream",
          "name": "stdout",
          "text": [
            "Match found: The\n",
            "Search found: Spain\n"
          ]
        }
      ]
    },
    {
      "cell_type": "code",
      "execution_count": 4,
      "metadata": {
        "colab": {
          "base_uri": "https://localhost:8080/"
        },
        "id": "MSaTc7rNADRQ",
        "outputId": "80cd4372-3e32-4ffb-bba4-6a1e58df59d8"
      },
      "outputs": [
        {
          "output_type": "stream",
          "name": "stdout",
          "text": [
            "All matches: ['great', 'great']\n"
          ]
        }
      ],
      "source": [
        "#### 2. Finding All Matches\n",
        "\n",
        "text = \"Cats are great pets. Dogs are great pets too.\"\n",
        "\n",
        "# Find all occurrences of the word \"great\"\n",
        "matches = re.findall(r\"great\", text)\n",
        "print(\"All matches:\", matches)"
      ]
    },
    {
      "cell_type": "code",
      "source": [
        "#### 3. Substitution\n",
        "\n",
        "text = \"Hello, John Doe. Welcome, John!\"\n",
        "\n",
        "# Replace \"John\" with \"Jane\"\n",
        "new_text = re.sub(r\"John\", \"Jane\", text)\n",
        "print(\"New text:\", new_text)"
      ],
      "metadata": {
        "colab": {
          "base_uri": "https://localhost:8080/"
        },
        "id": "XIcC6fRdBRmg",
        "outputId": "21dd14ed-ab3b-4018-a8a1-8ee01d9aeb3c"
      },
      "execution_count": 5,
      "outputs": [
        {
          "output_type": "stream",
          "name": "stdout",
          "text": [
            "New text: Hello, Jane Doe. Welcome, Jane!\n"
          ]
        }
      ]
    },
    {
      "cell_type": "code",
      "source": [
        "#### 4. Splitting Strings\n",
        "\n",
        "text = \"apple, banana; cherry orange: grape\"\n",
        "\n",
        "# Split the string by various delimiters\n",
        "fruits = re.split(r\"[;,: ]+\", text)\n",
        "print(\"Fruits list:\", fruits)"
      ],
      "metadata": {
        "id": "_z3-YtUMBYrd"
      },
      "execution_count": null,
      "outputs": []
    },
    {
      "cell_type": "markdown",
      "source": [
        "### Grouping and Capturing\n",
        "\n",
        "You can use parentheses to create groups within patterns, allowing you to capture specific parts of a match."
      ],
      "metadata": {
        "id": "nOGEh-aKBhpU"
      }
    },
    {
      "cell_type": "code",
      "source": [
        "text = \"John's phone number is 123-456-7890.\"\n",
        "\n",
        "# Match and capture the phone number format\n",
        "match = re.search(r\"(\\d{3})-(\\d{3})-(\\d{4})\", text)\n",
        "if match:\n",
        "    print(\"Area Code:\", match.group(1))\n",
        "    print(\"Central Office Code:\", match.group(2))\n",
        "    print(\"Line Number:\", match.group(3))"
      ],
      "metadata": {
        "colab": {
          "base_uri": "https://localhost:8080/"
        },
        "id": "80Q7B0SXBeEp",
        "outputId": "6849e535-caca-4e94-ff3c-19e7d10fc2fb"
      },
      "execution_count": 2,
      "outputs": [
        {
          "output_type": "stream",
          "name": "stdout",
          "text": [
            "Area Code: 123\n",
            "Central Office Code: 456\n",
            "Line Number: 7890\n"
          ]
        }
      ]
    },
    {
      "cell_type": "code",
      "source": [
        "#validating email pattern\n",
        "import re\n",
        "\n",
        "email_pattern = r\"^[a-zA-Z0-9._%+-]+@[a-zA-Z0-9.-]+\\.[a-zA-Z]{2,}$\"\n",
        "email = \"example@example.com\"\n",
        "\n",
        "if re.match(email_pattern, email):\n",
        "    print(\"Valid email address.\")\n",
        "else:\n",
        "    print(\"Invalid email address.\")\n"
      ],
      "metadata": {
        "colab": {
          "base_uri": "https://localhost:8080/"
        },
        "id": "y92WzmLQtxe_",
        "outputId": "5f32a377-4d27-4c6e-e7a1-473f237137b2"
      },
      "execution_count": 3,
      "outputs": [
        {
          "output_type": "stream",
          "name": "stdout",
          "text": [
            "Valid email address.\n"
          ]
        }
      ]
    },
    {
      "cell_type": "code",
      "source": [
        "text = \"Important dates: 2023-11-01, 11/02/2023, and 01-Nov-2023.\"\n",
        "\n",
        "# Pattern to match dates in YYYY-MM-DD, DD/MM/YYYY, and DD-MMM-YYYY formats\n",
        "date_pattern = r\"(\\d{4}-\\d{2}-\\d{2}|\\d{2}/\\d{2}/\\d{4}|\\d{2}-[A-Za-z]{3}-\\d{4})\"\n",
        "dates = re.findall(date_pattern, text)\n",
        "print(\"Extracted dates:\", dates)\n"
      ],
      "metadata": {
        "colab": {
          "base_uri": "https://localhost:8080/"
        },
        "id": "pX64BjDit5do",
        "outputId": "d9438b41-c01d-4548-908a-b6d346093bb2"
      },
      "execution_count": 4,
      "outputs": [
        {
          "output_type": "stream",
          "name": "stdout",
          "text": [
            "Extracted dates: ['2023-11-01', '11/02/2023', '01-Nov-2023']\n"
          ]
        }
      ]
    },
    {
      "cell_type": "code",
      "source": [
        "text = \"This is a test of regex functionality.\"\n",
        "\n",
        "# Find all words with exactly 4 letters\n",
        "four_letter_words = re.findall(r\"\\b\\w{4}\\b\", text)\n",
        "print(\"Four-letter words:\", four_letter_words)\n"
      ],
      "metadata": {
        "colab": {
          "base_uri": "https://localhost:8080/"
        },
        "id": "LLcBTtFwuEac",
        "outputId": "ee6b4c15-5d07-4dd4-dda4-6e76ef2b634d"
      },
      "execution_count": 5,
      "outputs": [
        {
          "output_type": "stream",
          "name": "stdout",
          "text": [
            "Four-letter words: ['This', 'test']\n"
          ]
        }
      ]
    },
    {
      "cell_type": "code",
      "source": [
        "url_pattern = r\"https?://[a-zA-Z0-9.-]+(?:/[^\\s]*)?\"\n",
        "\n",
        "text = \"Visit our website at https://www.example.com for more info.\"\n",
        "\n",
        "if re.search(url_pattern, text):\n",
        "    print(\"URL found in text.\")\n",
        "else:\n",
        "    print(\"No URL found.\")\n"
      ],
      "metadata": {
        "colab": {
          "base_uri": "https://localhost:8080/"
        },
        "id": "Ki7mI_TnuIr8",
        "outputId": "f33d9df7-a708-4e29-edfb-e22bbf70defa"
      },
      "execution_count": 6,
      "outputs": [
        {
          "output_type": "stream",
          "name": "stdout",
          "text": [
            "URL found in text.\n"
          ]
        }
      ]
    },
    {
      "cell_type": "code",
      "source": [
        "text = \"Call me at 123-456-7890 or (987) 654-3210. My office number is 555.123.4567.\"\n",
        "\n",
        "# Pattern to match different phone number formats\n",
        "phone_pattern = r\"(\\(\\d{3}\\)\\s?\\d{3}[-.\\s]?\\d{4}|\\d{3}[-.\\s]?\\d{3}[-.\\s]?\\d{4}|\\d{3}.\\d{3}.\\d{4})\"\n",
        "phone_numbers = re.findall(phone_pattern, text)\n",
        "print(\"Extracted phone numbers:\", phone_numbers)\n"
      ],
      "metadata": {
        "colab": {
          "base_uri": "https://localhost:8080/"
        },
        "id": "uVgFnPCJuMVa",
        "outputId": "bbd29e56-4ef9-4771-81fb-b13965525d6b"
      },
      "execution_count": 7,
      "outputs": [
        {
          "output_type": "stream",
          "name": "stdout",
          "text": [
            "Extracted phone numbers: ['123-456-7890', '(987) 654-3210', '555.123.4567']\n"
          ]
        }
      ]
    },
    {
      "cell_type": "code",
      "source": [
        "text = \"Madam, in Eden I'm Adam. Racecar is also a palindrome.\"\n",
        "\n",
        "# Find palindromes (case-insensitive)\n",
        "palindrome_pattern = r\"\\b([A-Za-z]+)\\b\"\n",
        "words = re.findall(palindrome_pattern, text)\n",
        "\n",
        "palindromes = [word for word in words if word.lower() == word[::-1].lower()]\n",
        "print(\"Palindromic words:\", palindromes)\n"
      ],
      "metadata": {
        "id": "zo5N8k1ZuUo-",
        "outputId": "5a0eb3eb-b5e1-4f32-9103-2b6a3bd91fc5",
        "colab": {
          "base_uri": "https://localhost:8080/"
        }
      },
      "execution_count": 8,
      "outputs": [
        {
          "output_type": "stream",
          "name": "stdout",
          "text": [
            "Palindromic words: ['Madam', 'I', 'm', 'Racecar', 'a']\n"
          ]
        }
      ]
    }
  ]
}