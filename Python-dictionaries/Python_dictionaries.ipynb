{
  "nbformat": 4,
  "nbformat_minor": 0,
  "metadata": {
    "colab": {
      "provenance": []
    },
    "kernelspec": {
      "name": "python3",
      "display_name": "Python 3"
    },
    "language_info": {
      "name": "python"
    }
  },
  "cells": [
    {
      "cell_type": "markdown",
      "source": [
        "## Python Dictionaries\n",
        "A dictionary in Python is a collection of key-value pairs where each key must be unique. It is defined using curly braces `{}` and consists of comma-separated key-value pairs. It is mutable, meaning that we can change, add, or remove items after the dictionary has been created."
      ],
      "metadata": {
        "id": "hjf_ae4z-zI5"
      }
    },
    {
      "cell_type": "markdown",
      "source": [
        " **Syntax:**\n",
        "   ```python\n",
        "   my_dict = {key1: value1, key2: value2, key3: value3}\n",
        "   ```\n",
        "\n",
        " **Key Characteristics:**\n",
        "   - Keys must be unique within a dictionary.\n",
        "   - Keys are usually strings or numbers, but can be any immutable data type.\n",
        "   - Values can be of any data type, including other dictionaries.\n",
        "\n",
        "\n",
        "\n"
      ],
      "metadata": {
        "id": "geC41gcc9zQn"
      }
    },
    {
      "cell_type": "markdown",
      "source": [
        "#### 1. **Creating Dictionary:**"
      ],
      "metadata": {
        "id": "UfGhbB0L_eyf"
      }
    },
    {
      "cell_type": "code",
      "source": [
        "person_dict = {'name': 'John', 'age': 30, 'city': 'New York'}\n",
        "print(person_dict)"
      ],
      "metadata": {
        "colab": {
          "base_uri": "https://localhost:8080/"
        },
        "id": "zcEyIWf6_eVv",
        "outputId": "f1ea8f23-38ce-4b07-f5a2-a9eda4e213ff"
      },
      "execution_count": null,
      "outputs": [
        {
          "output_type": "stream",
          "name": "stdout",
          "text": [
            "{'name': 'John', 'age': 30, 'city': 'New York'}\n"
          ]
        }
      ]
    },
    {
      "cell_type": "markdown",
      "source": [
        "The `dict()` Constructor\n",
        "It is also possible to use the `dict()` constructor to make a dictionary¹.\n"
      ],
      "metadata": {
        "id": "ebs49Z93K344"
      }
    },
    {
      "cell_type": "code",
      "source": [
        "\"\"\" Using the dict() constructor \"\"\"\n",
        "\n",
        "person_dict = dict(name=\"John\", age=30, city='New York')\n",
        "print(person_dict)"
      ],
      "metadata": {
        "colab": {
          "base_uri": "https://localhost:8080/"
        },
        "id": "uZY9IQ27K7G2",
        "outputId": "898cff85-44d5-4d40-efc7-1a46a0ef3184"
      },
      "execution_count": null,
      "outputs": [
        {
          "output_type": "stream",
          "name": "stdout",
          "text": [
            "{'name': 'John', 'age': 30, 'city': 'New York'}\n"
          ]
        }
      ]
    },
    {
      "cell_type": "markdown",
      "source": [
        "### Dictionary Operations:"
      ],
      "metadata": {
        "id": "VMwxJID6_3H6"
      }
    },
    {
      "cell_type": "markdown",
      "source": [
        "#### 2. **Accessing Elements:**\n"
      ],
      "metadata": {
        "id": "52GbkvWt_8TY"
      }
    },
    {
      "cell_type": "code",
      "execution_count": null,
      "metadata": {
        "colab": {
          "base_uri": "https://localhost:8080/"
        },
        "id": "t99BYzsR9din",
        "outputId": "98b96a53-2e8d-42fa-f9b1-368e28cdc13c"
      },
      "outputs": [
        {
          "output_type": "stream",
          "name": "stdout",
          "text": [
            "John\n",
            "95\n"
          ]
        }
      ],
      "source": [
        "\"\"\" accessing elemen of a dict \"\"\"\n",
        "\n",
        "person_dict = {'name': 'John', 'age': 30, 'city': 'New York', 'marks': {'math': 95, 'english': 98, 'history': 92}}\n",
        "print(person_dict['name'])\n",
        "print(person_dict['marks']['math'])"
      ]
    },
    {
      "cell_type": "markdown",
      "source": [
        "#### 3. **Adding or Updating Elements:**\n"
      ],
      "metadata": {
        "id": "qJZLsX1FAR7l"
      }
    },
    {
      "cell_type": "code",
      "source": [
        "\"\"\" Adding or Updating Elements \"\"\"\n",
        "\n",
        "person_dict = {'name': 'John', 'age': 30, 'city': 'New York'}\n",
        "person_dict['occupation'] = 'Engineer'  # Adding a new key-value pair\n",
        "person_dict['age'] = 26  # Updating an existing value\n",
        "print(person_dict)"
      ],
      "metadata": {
        "colab": {
          "base_uri": "https://localhost:8080/"
        },
        "id": "5-wQ6GREAYlP",
        "outputId": "b7495ded-545a-4092-f984-0dd1d45b9fb6"
      },
      "execution_count": null,
      "outputs": [
        {
          "output_type": "stream",
          "name": "stdout",
          "text": [
            "{'name': 'John', 'age': 26, 'city': 'New York', 'occupation': 'Engineer'}\n"
          ]
        }
      ]
    },
    {
      "cell_type": "markdown",
      "source": [
        "#### 4. **Removing Elements:**"
      ],
      "metadata": {
        "id": "msPjCKinAStO"
      }
    },
    {
      "cell_type": "code",
      "source": [
        "\"\"\" Removing a specific key-value pair \"\"\"\n",
        "\n",
        "print(person_dict)\n",
        "del person_dict['city']\n",
        "print(person_dict)\n",
        "\n",
        "\"\"\" Removing and returning the value of the specified key \"\"\"\n",
        "\n",
        "person_dict.pop('age')\n",
        "print(person_dict)\n",
        "\n",
        "\"\"\" Clearing all key-value pairs in the dictionary \"\"\"\n",
        "\n",
        "person_dict.clear()\n",
        "print(person_dict)"
      ],
      "metadata": {
        "colab": {
          "base_uri": "https://localhost:8080/"
        },
        "id": "-i6YSB4KAlx1",
        "outputId": "d58effb9-ab8b-47f9-e6a0-cd5dcdaa42d6"
      },
      "execution_count": null,
      "outputs": [
        {
          "output_type": "stream",
          "name": "stdout",
          "text": [
            "{'name': 'John', 'age': 30, 'city': 'New York'}\n",
            "{'name': 'John', 'age': 30}\n",
            "{'name': 'John'}\n",
            "{}\n"
          ]
        }
      ]
    },
    {
      "cell_type": "markdown",
      "source": [
        "#### 5. **Checking Membership:**"
      ],
      "metadata": {
        "id": "wySsln6VBOqj"
      }
    },
    {
      "cell_type": "code",
      "source": [
        "\"\"\"  Checking Membership \"\"\"\n",
        "\n",
        "person_dict = {'name': 'John', 'age': 30, 'city': 'New York'}\n",
        "if 'name' in person_dict:\n",
        "    print(\"Key 'name' exists in the dictionary.\")"
      ],
      "metadata": {
        "colab": {
          "base_uri": "https://localhost:8080/"
        },
        "id": "oYoVg1_xBUfP",
        "outputId": "1996e1d0-0a7a-4395-8cb3-ef4a558a2447"
      },
      "execution_count": null,
      "outputs": [
        {
          "output_type": "stream",
          "name": "stdout",
          "text": [
            "Key 'name' exists in the dictionary.\n"
          ]
        }
      ]
    },
    {
      "cell_type": "markdown",
      "source": [
        "#### 6. **Iterating Over Dictionary:**"
      ],
      "metadata": {
        "id": "ZshVeYRFBu8V"
      }
    },
    {
      "cell_type": "code",
      "source": [
        "\"\"\"  Iterating Over Dictionary \"\"\"\n",
        "\n",
        "person_dict = {'name': 'John', 'age': 30, 'city': 'New York'}\n",
        "for key, value in person_dict.items():\n",
        "    print(f'{key}: {value}')"
      ],
      "metadata": {
        "colab": {
          "base_uri": "https://localhost:8080/"
        },
        "id": "ofOPSmdUBwit",
        "outputId": "b0b2dc75-33f9-4d42-dbd0-556f96dca056"
      },
      "execution_count": null,
      "outputs": [
        {
          "output_type": "stream",
          "name": "stdout",
          "text": [
            "name: John\n",
            "age: 30\n",
            "city: New York\n",
            "name John\n",
            "age 30\n",
            "city New York\n"
          ]
        }
      ]
    },
    {
      "cell_type": "code",
      "source": [
        "\"\"\" Iterating over key-value pairs \"\"\"\n",
        "\n",
        "for key, value in person_dict.items():\n",
        "    print(key, value)"
      ],
      "metadata": {
        "colab": {
          "base_uri": "https://localhost:8080/"
        },
        "id": "nRCGaUwXCWZ1",
        "outputId": "c5815559-6bae-40bb-f1bf-721fc9420bfd"
      },
      "execution_count": null,
      "outputs": [
        {
          "output_type": "stream",
          "name": "stdout",
          "text": [
            "name John\n",
            "age 30\n",
            "city New York\n"
          ]
        }
      ]
    },
    {
      "cell_type": "markdown",
      "source": [
        "## 7. Modifying Dictionary Values"
      ],
      "metadata": {
        "id": "jjWB4qpSKINo"
      }
    },
    {
      "cell_type": "code",
      "source": [
        "person_dict = {'name': 'John', 'age': 30, 'city': 'New York'}\n",
        "print(person_dict)\n",
        "\n",
        "person_dict[\"age\"] = 26\n",
        "print(person_dict)"
      ],
      "metadata": {
        "colab": {
          "base_uri": "https://localhost:8080/"
        },
        "id": "dmhsrpL4KOzL",
        "outputId": "598423a6-bee3-4340-d133-80e3a4831170"
      },
      "execution_count": null,
      "outputs": [
        {
          "output_type": "stream",
          "name": "stdout",
          "text": [
            "{'name': 'John', 'age': 30, 'city': 'New York'}\n",
            "{'name': 'John', 'age': 26, 'city': 'New York'}\n"
          ]
        }
      ]
    },
    {
      "cell_type": "markdown",
      "source": [
        "## 8. Dictionary Length\n",
        "To determine how many items a dictionary has, use the `len()` function¹."
      ],
      "metadata": {
        "id": "awut-w5zKm0l"
      }
    },
    {
      "cell_type": "code",
      "source": [
        "\"\"\"Dictionary length\"\"\"\n",
        "\n",
        "person_dict = {'name': 'John', 'age': 30, 'city': 'New York'}\n",
        "print(len(person_dict))  # Output: 3"
      ],
      "metadata": {
        "colab": {
          "base_uri": "https://localhost:8080/"
        },
        "id": "4k1LzW9mKlaw",
        "outputId": "4c959200-ead4-4e18-86f7-701e7093eaad"
      },
      "execution_count": null,
      "outputs": [
        {
          "output_type": "stream",
          "name": "stdout",
          "text": [
            "3\n"
          ]
        }
      ]
    }
  ]
}