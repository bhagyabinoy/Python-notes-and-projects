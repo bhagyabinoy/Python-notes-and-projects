{
  "nbformat": 4,
  "nbformat_minor": 0,
  "metadata": {
    "colab": {
      "provenance": []
    },
    "kernelspec": {
      "name": "python3",
      "display_name": "Python 3"
    },
    "language_info": {
      "name": "python"
    }
  },
  "cells": [
    {
      "cell_type": "markdown",
      "source": [
        "Python Control Flow\n",
        "\n",
        "Control statements in Python determine which blocks of code are executed and when, based on certain conditions and iterations. Python provides three main types of control statements: if-elif-else statements, for loops, and while loops.\n"
      ],
      "metadata": {
        "id": "sp4-O02HaRlG"
      }
    },
    {
      "cell_type": "markdown",
      "source": [
        "if Statement:\n",
        "The if statement is used to execute a block of code only if a specified condition evaluates to True.\n",
        "\n",
        "Syntax:\n",
        "if condition:\n",
        "    # Code to execute if the condition is True\n"
      ],
      "metadata": {
        "id": "NmbyqKZmaVV2"
      }
    },
    {
      "cell_type": "code",
      "execution_count": null,
      "metadata": {
        "colab": {
          "base_uri": "https://localhost:8080/"
        },
        "id": "1e47ScX8aQsZ",
        "outputId": "3dcfdb21-03ce-436c-feb8-461ab1d9d408"
      },
      "outputs": [
        {
          "output_type": "stream",
          "name": "stdout",
          "text": [
            "Number is positive\n"
          ]
        }
      ],
      "source": [
        "\"\"\" if Statement \"\"\"\n",
        "\n",
        "num = 10\n",
        "if num > 0:\n",
        "    print(\"Number is positive\")"
      ]
    },
    {
      "cell_type": "markdown",
      "source": [
        "if-else Statement:\n",
        "\n",
        " The if-else statement is used to execute one block of code if a condition is True, and another block of code if the condition is False.\n",
        "If the condition evaluates to True, the code inside if is executed and the code inside else is skipped.\n",
        "If the condition evaluates to False, the code inside else is executed and  the code inside if is skipped.\n",
        "Syntax:\n",
        "if condition:\n",
        "    # Code to execute if the condition is True\n",
        "else:\n",
        "    # Code to execute if the condition is False\n"
      ],
      "metadata": {
        "id": "2Qoku4lobWCj"
      }
    },
    {
      "cell_type": "code",
      "source": [
        "\"\"\" if-else Statement \"\"\"\n",
        "\n",
        "num = -5\n",
        "if num > 0:\n",
        "    print(\"Number is positive\")\n",
        "else:\n",
        "    print(\"Number is non-positive\")"
      ],
      "metadata": {
        "colab": {
          "base_uri": "https://localhost:8080/"
        },
        "id": "DY1ErxwWaRM0",
        "outputId": "3146492f-8a5c-4a27-dc4c-d79d418b9642"
      },
      "execution_count": null,
      "outputs": [
        {
          "output_type": "stream",
          "name": "stdout",
          "text": [
            "Number is non-positive\n"
          ]
        }
      ]
    },
    {
      "cell_type": "markdown",
      "source": [
        "if-elif-else Statement:\n",
        "\n",
        " The if-elif-else statement allows checking multiple conditions in sequence and executing different blocks of code based on the first condition that evaluates to True.\n",
        "\n",
        "Syntax:\n",
        "if condition1:\n",
        "    # Code to execute if condition1 is True\n",
        "elif condition2:\n",
        "    # Code to execute if condition2 is True\n",
        "else:\n",
        "    # Code to execute if no condition is True\n",
        "\n",
        "Here, If condition1 evaluates to true, code block 1 is executed.\n",
        "If condition1 evaluates to false, then condition2 is evaluated.\n",
        "If condition2 is true, code block 2 is executed.\n",
        "If condition2 is false, code block 3 is executed.\n"
      ],
      "metadata": {
        "id": "GHpmSNGHcjp3"
      }
    },
    {
      "cell_type": "code",
      "source": [
        "\"\"\" if-elif-else Statement \"\"\"\n",
        "\n",
        "score = 85\n",
        "if score >= 100:\n",
        "    print(\"A\")\n",
        "elif score >= 80:\n",
        "    print(\"B\")\n",
        "else:\n",
        "    print(\"C or lower\")"
      ],
      "metadata": {
        "colab": {
          "base_uri": "https://localhost:8080/"
        },
        "id": "pSghDqRscnES",
        "outputId": "9c35b265-60d1-4034-d833-d5d509c55b66"
      },
      "execution_count": null,
      "outputs": [
        {
          "output_type": "stream",
          "name": "stdout",
          "text": [
            "B\n"
          ]
        }
      ]
    },
    {
      "cell_type": "markdown",
      "source": [
        "Nested Control Statements:\n",
        "\n",
        "Nested control statements involve placing one control statement within another. This allows for more complex decision-making and execution flows.\n"
      ],
      "metadata": {
        "id": "GAO6yVetcz8B"
      }
    },
    {
      "cell_type": "code",
      "source": [
        "\"\"\" Nested Control Statements: \"\"\"\n",
        "num = 12\n",
        "if num > 0:\n",
        "    if num % 2 == 0:\n",
        "        print(\"Positive and Even\")\n",
        "    else:\n",
        "        print(\"Positive and Odd\")\n",
        "else:\n",
        "    print(\"Non-positive\")\n",
        "\n",
        "# In the example above, the if statement is nested inside another if statement.\n",
        "# This enables finer-grained control over the program's behavior based on multiple conditions."
      ],
      "metadata": {
        "colab": {
          "base_uri": "https://localhost:8080/"
        },
        "id": "22PlGfufc4dN",
        "outputId": "8ef3c0a9-e8d6-4f41-8f01-6b3130722ce4"
      },
      "execution_count": null,
      "outputs": [
        {
          "output_type": "stream",
          "name": "stdout",
          "text": [
            "Positive and Even\n"
          ]
        }
      ]
    },
    {
      "cell_type": "markdown",
      "source": [
        "if-elif-else Ladder\n",
        "\n",
        "Here, a user can decide among multiple options. The if statements are executed from the top down. As soon as one of the conditions controlling the if is true, the statement associated with that if is executed, and the rest of the ladder is bypassed. If none of the conditions is true, then the final else statement will be executed.\n"
      ],
      "metadata": {
        "id": "rqLvP6fHdFCN"
      }
    },
    {
      "cell_type": "markdown",
      "source": [
        "For Loop:\n",
        "\n",
        "A for loop is used for iterating over a sequence (that is either a list, a tuple, a dictionary, a set, or a string).\n",
        "\n",
        "This is less like the for keyword in other programming languages, and works more like an iterator method as found in other object-oriented programming languages.\n"
      ],
      "metadata": {
        "id": "_cBs1ZAhdKD9"
      }
    },
    {
      "cell_type": "code",
      "source": [
        "\"\"\" Looping Through a List \"\"\"\n",
        "\n",
        "fruits = [\"apple\", \"banana\", \"cherry\"]\n",
        "for fruit in fruits:\n",
        "    print(fruit)\n",
        "\n",
        "# The loop iterates through each element in the list in the order they appear."
      ],
      "metadata": {
        "colab": {
          "base_uri": "https://localhost:8080/"
        },
        "id": "Ej8c3hDrdNQH",
        "outputId": "1bedc163-92ec-49ec-9749-f3257d67d6aa"
      },
      "execution_count": null,
      "outputs": [
        {
          "output_type": "stream",
          "name": "stdout",
          "text": [
            "apple\n",
            "banana\n",
            "cherry\n"
          ]
        }
      ]
    },
    {
      "cell_type": "code",
      "source": [
        "\"\"\" Looping Through a String: \"\"\"\n",
        "\n",
        "message = \"Hello, World!\"\n",
        "for char in message:\n",
        "    print(char)\n",
        "\n",
        "# The loop iterates through each character in the string."
      ],
      "metadata": {
        "colab": {
          "base_uri": "https://localhost:8080/"
        },
        "id": "n65Pc8opdTxb",
        "outputId": "fa33261e-411d-40c6-a7dc-06610e5ad814"
      },
      "execution_count": null,
      "outputs": [
        {
          "output_type": "stream",
          "name": "stdout",
          "text": [
            "H\n",
            "e\n",
            "l\n",
            "l\n",
            "o\n",
            ",\n",
            " \n",
            "W\n",
            "o\n",
            "r\n",
            "l\n",
            "d\n",
            "!\n"
          ]
        }
      ]
    },
    {
      "cell_type": "code",
      "source": [
        "\"\"\" Looping Through a Dictionary: \"\"\"\n",
        "\n",
        "student_scores = {\"Alice\": 85, \"Bob\": 92, \"Charlie\": 78}\n",
        "for name, score in student_scores.items():\n",
        "    print(f\"{name}: {score}\")\n",
        "\n",
        "# The items() method is used to iterate through key-value pairs in the dictionary."
      ],
      "metadata": {
        "colab": {
          "base_uri": "https://localhost:8080/"
        },
        "id": "fWO-yXB3ddTt",
        "outputId": "ca2520df-e2f7-47a7-f79a-7c85dd25eea2"
      },
      "execution_count": null,
      "outputs": [
        {
          "output_type": "stream",
          "name": "stdout",
          "text": [
            "Alice: 85\n",
            "Bob: 92\n",
            "Charlie: 78\n"
          ]
        }
      ]
    },
    {
      "cell_type": "code",
      "source": [
        "\"\"\" Looping Through a Set: \"\"\"\n",
        "unique_numbers = {5, 10, 15, 20}\n",
        "\n",
        "for num in unique_numbers:\n",
        "    print(num)"
      ],
      "metadata": {
        "colab": {
          "base_uri": "https://localhost:8080/"
        },
        "id": "6fuqJkoedjYV",
        "outputId": "9f637515-29e7-49d8-a887-6518704d64d1"
      },
      "execution_count": null,
      "outputs": [
        {
          "output_type": "stream",
          "name": "stdout",
          "text": [
            "10\n",
            "20\n",
            "5\n",
            "15\n"
          ]
        }
      ]
    },
    {
      "cell_type": "markdown",
      "source": [
        "Using range() with for Loop:\n",
        "\n",
        "The range() function generates a sequence of numbers, often used in conjunction with for loops to control the number of iterations.\n",
        "\n",
        "Syntax:\n",
        "for i in range(start, stop, step):\n",
        "    # Code to execute for each iteration\n"
      ],
      "metadata": {
        "id": "kN--aMUldtVg"
      }
    },
    {
      "cell_type": "code",
      "source": [
        "\"\"\" Using range() with for Loop: \"\"\"\n",
        "\n",
        "start = 0\n",
        "stop = 10\n",
        "step = 2\n",
        "for i in range(start, stop, step):\n",
        "  print(i)"
      ],
      "metadata": {
        "colab": {
          "base_uri": "https://localhost:8080/"
        },
        "id": "MqKnvqEldwIa",
        "outputId": "0f7fd6ef-923a-4dbc-af7d-f5c04ec52776"
      },
      "execution_count": null,
      "outputs": [
        {
          "output_type": "stream",
          "name": "stdout",
          "text": [
            "0\n",
            "2\n",
            "4\n",
            "6\n",
            "8\n"
          ]
        }
      ]
    },
    {
      "cell_type": "markdown",
      "source": [
        "Loop Control Statements:"
      ],
      "metadata": {
        "id": "n2Jdaf5YeH84"
      }
    },
    {
      "cell_type": "markdown",
      "source": [
        "break Statement:\n",
        "\n",
        "The break statement prematurely exit a loop, regardless of the loop's condition.\n",
        "Usage: Often used when a specific condition is met, and you want to stop further iterations.\n"
      ],
      "metadata": {
        "id": "AwUkKeq6eIpr"
      }
    },
    {
      "cell_type": "code",
      "source": [
        "\"\"\" break Statement: \"\"\"\n",
        "\n",
        "for num in range(10):\n",
        "    if num == 5:\n",
        "        break\n",
        "    print(num)"
      ],
      "metadata": {
        "colab": {
          "base_uri": "https://localhost:8080/"
        },
        "id": "xKdP8zULeM9r",
        "outputId": "4cef8d0a-0803-4744-cab7-eb16af8057cb"
      },
      "execution_count": null,
      "outputs": [
        {
          "output_type": "stream",
          "name": "stdout",
          "text": [
            "0\n",
            "1\n",
            "2\n",
            "3\n",
            "4\n"
          ]
        }
      ]
    },
    {
      "cell_type": "markdown",
      "source": [
        "continue Statement:\n",
        "\n",
        "The continue statement skips the rest of the current iteration and moves to the next iteration.\n",
        "Usage: Useful when you want to exclude certain iterations from the loop.\n"
      ],
      "metadata": {
        "id": "C36v7QzIeT1r"
      }
    },
    {
      "cell_type": "code",
      "source": [
        "\"\"\" continue Statement: \"\"\"\n",
        "\n",
        "for num in range(10):\n",
        "    if num % 2 == 0:\n",
        "        continue\n",
        "    print(num)"
      ],
      "metadata": {
        "colab": {
          "base_uri": "https://localhost:8080/"
        },
        "id": "G6wqdxp0eVGE",
        "outputId": "d08b55a9-2ce3-4031-c10c-916e2bec29a0"
      },
      "execution_count": null,
      "outputs": [
        {
          "output_type": "stream",
          "name": "stdout",
          "text": [
            "1\n",
            "3\n",
            "5\n",
            "7\n",
            "9\n"
          ]
        }
      ]
    },
    {
      "cell_type": "markdown",
      "source": [
        "else statement with for loop:\n",
        "\n",
        "In Python, the else statement can be used with for loops as well.\n",
        "The else block associated with a for loop is executed when the loop completes all its iterations without encountering a break statement. This can be useful in scenarios where you want to perform an action after a successful loop completion.\n",
        "\n",
        "Syntax:\n",
        "\n",
        "for item in sequence:\n",
        "    # Code to execute for each item\n",
        "else:\n",
        "    # Code to execute after the loop completes without encountering a break\n"
      ],
      "metadata": {
        "id": "4To5VCkLefis"
      }
    },
    {
      "cell_type": "code",
      "source": [
        "\"\"\" else statement with for loop: \"\"\"\n",
        "\n",
        "numbers = [2, 4, 6, 8, 10]\n",
        "for num in numbers:\n",
        "    if num % 2 != 0:\n",
        "        print(\"Found an odd number:\", num)\n",
        "        break\n",
        "else:\n",
        "    print(\"All numbers are even.\")"
      ],
      "metadata": {
        "colab": {
          "base_uri": "https://localhost:8080/"
        },
        "id": "kaEuRSsveaRT",
        "outputId": "34b7cf9c-e1e5-4121-e772-4b32a87c6f72"
      },
      "execution_count": null,
      "outputs": [
        {
          "output_type": "stream",
          "name": "stdout",
          "text": [
            "All numbers are even.\n"
          ]
        }
      ]
    },
    {
      "cell_type": "markdown",
      "source": [
        "While Loop:\n",
        "\n",
        "While loops in Python provide a way to execute a block of code repeatedly as long as a specified condition remains true. They are particularly useful when you want to perform an action multiple times without knowing the exact number of iterations in advance.\n",
        "\n",
        "\n",
        "Syntax:\n",
        "\n",
        "while condition:\n",
        "    # Code to execute while the condition is true"
      ],
      "metadata": {
        "id": "8VPgRjqTepdG"
      }
    },
    {
      "cell_type": "code",
      "source": [
        "\"\"\" While Loop: \"\"\"\n",
        "\n",
        "count = 0\n",
        "while count < 5:\n",
        "    print(count)\n",
        "    count += 1"
      ],
      "metadata": {
        "colab": {
          "base_uri": "https://localhost:8080/"
        },
        "id": "rXnTMxUoerGm",
        "outputId": "b9f4dda3-9461-45c6-fe32-736166082e84"
      },
      "execution_count": null,
      "outputs": [
        {
          "output_type": "stream",
          "name": "stdout",
          "text": [
            "0\n",
            "1\n",
            "2\n",
            "3\n",
            "4\n"
          ]
        }
      ]
    },
    {
      "cell_type": "markdown",
      "source": [
        "Using break and continue with while Loops:\n"
      ],
      "metadata": {
        "id": "LmfgrMIne0s2"
      }
    },
    {
      "cell_type": "code",
      "source": [
        "\"\"\" break Statement:\n",
        " Useful when you want to stop the loop when a specific condition is met. \"\"\"\n",
        "\n",
        "num = 0\n",
        "while num < 10:\n",
        "    if num == 5:\n",
        "        break\n",
        "    print(num)\n",
        "    num += 1"
      ],
      "metadata": {
        "colab": {
          "base_uri": "https://localhost:8080/"
        },
        "id": "JETi-3Iqe3e6",
        "outputId": "f997864b-cfd1-4f26-926d-c746e2c84017"
      },
      "execution_count": null,
      "outputs": [
        {
          "output_type": "stream",
          "name": "stdout",
          "text": [
            "0\n",
            "1\n",
            "2\n",
            "3\n",
            "4\n"
          ]
        }
      ]
    },
    {
      "cell_type": "code",
      "source": [
        "\"\"\" continue Statement:\n",
        "\n",
        "Useful when you want to exclude certain iterations from the loop. \"\"\"\n",
        "\n",
        "num = 0\n",
        "while num < 10:\n",
        "    if num % 2 == 0:\n",
        "        num += 1\n",
        "        continue\n",
        "    print(num)\n",
        "    num += 1"
      ],
      "metadata": {
        "colab": {
          "base_uri": "https://localhost:8080/"
        },
        "id": "ufiPe746e7Tm",
        "outputId": "bc1d3cf2-0978-4fff-a299-ad949331c6ab"
      },
      "execution_count": null,
      "outputs": [
        {
          "output_type": "stream",
          "name": "stdout",
          "text": [
            "1\n",
            "3\n",
            "5\n",
            "7\n",
            "9\n"
          ]
        }
      ]
    },
    {
      "cell_type": "markdown",
      "source": [
        "Else with while loop:\n",
        "\n",
        "The else statement in a while loop is executed when the loop's condition becomes false.\n",
        "Usage: It allows you to specify code that should be executed after the loop has finished its iterations.\n"
      ],
      "metadata": {
        "id": "vT0OaoJifFFv"
      }
    },
    {
      "cell_type": "code",
      "source": [
        "\"\"\" Else with while loop: \"\"\"\n",
        "\n",
        "num = 1\n",
        "while num <= 5:\n",
        "    print(num)\n",
        "    num += 1\n",
        "else:\n",
        "    print(\"Loop completed.\")"
      ],
      "metadata": {
        "colab": {
          "base_uri": "https://localhost:8080/"
        },
        "id": "-1lS9MWrfHaH",
        "outputId": "75d3c04c-fab6-473b-9152-3292b3e4b27d"
      },
      "execution_count": null,
      "outputs": [
        {
          "output_type": "stream",
          "name": "stdout",
          "text": [
            "1\n",
            "2\n",
            "3\n",
            "4\n",
            "5\n",
            "Loop completed.\n"
          ]
        }
      ]
    },
    {
      "cell_type": "markdown",
      "source": [
        "infinite while loop:\n",
        "\n",
        "An infinite while loop is a loop that runs indefinitely, executing its block of code repeatedly as long as the specified condition remains true. Creating an infinite loop intentionally can be useful in certain scenarios, but it's important to have a way to break out of the loop to prevent your program from running indefinitely.\n"
      ],
      "metadata": {
        "id": "DldHQukPfQrz"
      }
    },
    {
      "cell_type": "code",
      "source": [
        "\"\"\" infinite while loop: \"\"\"\n",
        "\n",
        "while True:\n",
        "    user_input = input(\"Enter 'quit' to exit: \")\n",
        "    if user_input == \"quit\":\n",
        "        break\n",
        "    else:\n",
        "        print(\"You entered:\", user_input)\n",
        "\n",
        "# In this example, the while True condition creates an infinite loop.\n",
        "# However, the loop includes an if statement that checks if the user input is \"quit.\"\n",
        "# If the user enters \"quit,\" the break statement is executed, ending the loop and the program."
      ],
      "metadata": {
        "colab": {
          "base_uri": "https://localhost:8080/"
        },
        "id": "_2YDUjVVfSCU",
        "outputId": "98435e4c-0f74-4cc3-9453-aa21e15f5735"
      },
      "execution_count": null,
      "outputs": [
        {
          "name": "stdout",
          "output_type": "stream",
          "text": [
            "Enter 'quit' to exit: quit\n"
          ]
        }
      ]
    }
  ]
}