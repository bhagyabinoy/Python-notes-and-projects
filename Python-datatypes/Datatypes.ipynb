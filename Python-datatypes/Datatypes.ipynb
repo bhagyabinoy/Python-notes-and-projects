{
  "nbformat": 4,
  "nbformat_minor": 0,
  "metadata": {
    "colab": {
      "provenance": []
    },
    "kernelspec": {
      "name": "python3",
      "display_name": "Python 3"
    },
    "language_info": {
      "name": "python"
    }
  },
  "cells": [
    {
      "cell_type": "markdown",
      "source": [
        "DATA TYPES\n",
        "\n",
        "mainly 7 data types\n",
        "\n",
        "1. **String Type**:\n",
        "   str is the built-in data type for strings in Python. Strings are sequences of characters that can be enclosed in single or double quotes. For example, `name = \"Python\", message = 'Hello, World!'`\n",
        "2. **Numeric Types**:\n",
        "    - `int`: Represents integer values like 1, 2, 3. For example, `age = 25`.\n",
        "    - `float`: Represents real numbers and are written with a decimal point dividing the integer and fractional parts. For example, `temperature = 98.6`.\n",
        "    - `complex`: Represents complex numbers, a number with a real and imaginary component represented as `x+yj`. For example, `z = 4+5j`.\n",
        "\n",
        "3. **Sequence Types**:\n",
        "    - `list`: Represents a mutable sequence of values. The values can be of any type. For example, `fruits = [\"apple\", \"banana\", \"cherry\"]`.\n",
        "    - `tuple`: Similar to a list but immutable. This means that you cannot change the elements of a tuple once it is assigned. For example, `coordinates = (3, 5)`.\n",
        "    - `range`: Represents a sequence of numbers and is commonly used for looping a specific number of times in for loops. For example, `c = range(6)`.\n",
        "\n",
        "4. **Mapping Type**:\n",
        "    - `dict`: Represents an unordered collection of data in a key:value pair form. For example, `d = {'name': 'John', 'age': 26}`.\n",
        "\n",
        "5. **Set Types**:\n",
        "    - `set`: Represents an unordered collection of unique items. For example, `e = {1, 2, 3, 4}`.\n",
        "    - `frozenset`: Similar to a set but they are immutable. For example, `f = frozenset((1, 2, 3, 4))`.\n",
        "\n",
        "6. **Boolean Type**:\n",
        "    - `bool`: Represents the truth values which are `True` and `False`. For example, `is_student = True, is_employee = False`.\n",
        "\n",
        "7. **None Type**:\n",
        "    - `NoneType`: This type has a single value. For example, `result = None`.\n",
        "\n",
        "8. **Binary Types**:\n",
        "    - `bytes`: Represents a sequence of bytes. For example, `h = b\"Hello\"`.\n",
        "    - `bytearray`: Represents a mutable sequence of bytes. For example, `i = bytearray(5)`.\n",
        "    - `memoryview`: Represents a memory view of the given argument. For example, `j = memoryview(bytes(5))`.\n",
        "\n"
      ],
      "metadata": {
        "id": "jWokEKNa-Nmo"
      }
    },
    {
      "cell_type": "code",
      "source": [
        "\"\"\" The type() function in Python is a built-in function that returns the data type of the object passed to it.\"\"\"\n",
        "str1 = \"cat\"\n",
        "print(type(str1))\n",
        "\n",
        "num1 = 3\n",
        "print(type(num1))"
      ],
      "metadata": {
        "colab": {
          "base_uri": "https://localhost:8080/"
        },
        "id": "BFDj5VK3CxBQ",
        "outputId": "a9cbffaa-a794-44df-996c-d1ec2ea37734"
      },
      "execution_count": null,
      "outputs": [
        {
          "output_type": "stream",
          "name": "stdout",
          "text": [
            "<class 'str'>\n",
            "<class 'int'>\n"
          ]
        }
      ]
    },
    {
      "cell_type": "code",
      "source": [
        "num1 = float(input(\"Enter the first decimal number: \"))\n",
        "num2 = float(input(\"Enter the second decimal number: \"))\n",
        "sum_decimal = num1 + num2\n",
        "sum_integer = int(sum_decimal)\n",
        "print(\"Sum as an integer:\", sum_integer)"
      ],
      "metadata": {
        "colab": {
          "base_uri": "https://localhost:8080/"
        },
        "id": "f65TtV1iC4iA",
        "outputId": "e0f68b2d-beb8-4ede-b702-a86a95d132e9"
      },
      "execution_count": null,
      "outputs": [
        {
          "output_type": "stream",
          "name": "stdout",
          "text": [
            "Enter the first decimal number: 4\n",
            "Enter the second decimal number: 5\n",
            "Sum as an integer: 9\n"
          ]
        }
      ]
    },
    {
      "cell_type": "markdown",
      "source": [
        "**Dynamically typed**:\n",
        "\n",
        "The data type of a variable is determined at runtime based on the value assigned to it. This is known as implicit data typing."
      ],
      "metadata": {
        "id": "M8wgA1FqF6vs"
      }
    },
    {
      "cell_type": "code",
      "source": [
        "x = 5       # x is an integer\n",
        "print(type(x))\n",
        "# Explicitly cast x to a float\n",
        "x = float(x)\n",
        "print(type(x))"
      ],
      "metadata": {
        "colab": {
          "base_uri": "https://localhost:8080/"
        },
        "id": "USJ9PvhRFwn7",
        "outputId": "bb206100-585d-49bd-d2f0-ccddd5cba915"
      },
      "execution_count": null,
      "outputs": [
        {
          "output_type": "stream",
          "name": "stdout",
          "text": [
            "<class 'int'>\n",
            "<class 'float'>\n"
          ]
        }
      ]
    },
    {
      "cell_type": "code",
      "source": [
        "\"\"\" Using range to generate a sequence of numbers\"\"\"\n",
        "for num in range(5):\n",
        "    print(num)"
      ],
      "metadata": {
        "colab": {
          "base_uri": "https://localhost:8080/"
        },
        "id": "zRRIllcuJWiS",
        "outputId": "d6130719-8d4c-4ee5-958c-d7f0cbb4cc85"
      },
      "execution_count": null,
      "outputs": [
        {
          "output_type": "stream",
          "name": "stdout",
          "text": [
            "0\n",
            "1\n",
            "2\n",
            "3\n",
            "4\n"
          ]
        }
      ]
    },
    {
      "cell_type": "code",
      "source": [
        "\"\"\" Comparing the tuples for equality\"\"\"\n",
        "tuple1 = (1,2)\n",
        "tuple2 = (3,4)\n",
        "are_equal = tuple1 == tuple2\n",
        "print(are_equal)\n",
        "\n",
        "tuple3 = (3,5)\n",
        "tuple4 = (3,4)\n",
        "if tuple3 == tuple4:\n",
        "    print(\"equal\")\n",
        "else:\n",
        "    print(\"not equal\")"
      ],
      "metadata": {
        "colab": {
          "base_uri": "https://localhost:8080/"
        },
        "id": "mghLNwKFFECa",
        "outputId": "9538dec1-5871-48df-b9f9-c0e22cd04e28"
      },
      "execution_count": null,
      "outputs": [
        {
          "output_type": "stream",
          "name": "stdout",
          "text": [
            "False\n",
            "not equal\n"
          ]
        }
      ]
    },
    {
      "cell_type": "code",
      "source": [
        "tuple3 = (3,4)\n",
        "tuple4 = (4,3)\n",
        "if tuple3 == tuple4:\n",
        "    print(\"equal\")\n",
        "else:\n",
        "    print(\"not equal\")"
      ],
      "metadata": {
        "colab": {
          "base_uri": "https://localhost:8080/"
        },
        "id": "QPZbrWR3Fnhd",
        "outputId": "3b15ba80-0a65-4b2c-cd10-54600f01a0bd"
      },
      "execution_count": null,
      "outputs": [
        {
          "output_type": "stream",
          "name": "stdout",
          "text": [
            "not equal\n"
          ]
        }
      ]
    }
  ]
}